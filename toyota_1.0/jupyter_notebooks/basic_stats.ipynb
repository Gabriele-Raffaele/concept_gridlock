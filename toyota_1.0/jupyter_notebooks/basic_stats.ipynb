{
 "cells": [
  {
   "cell_type": "code",
   "execution_count": 4,
   "metadata": {},
   "outputs": [],
   "source": [
    "import numpy as np\n",
    "from collections import defaultdict\n",
    "import sys ; sys.path.insert(0, \"../\")\n",
    "\n",
    "from data import DataHolder\n",
    "from utils import get_data_path, get_index_path"
   ]
  },
  {
   "cell_type": "code",
   "execution_count": 3,
   "metadata": {},
   "outputs": [],
   "source": [
    "hyper_params = {\n",
    "    'train_test_split':     'last_10_percent',\n",
    "    'batch_size':           512,\n",
    "    'model_type':           'MF',\n",
    "}"
   ]
  },
  {
   "cell_type": "code",
   "execution_count": 8,
   "metadata": {},
   "outputs": [],
   "source": [
    "import os\n",
    "os.chdir(\"../\")\n",
    "data_holder = DataHolder(hyper_params)"
   ]
  },
  {
   "cell_type": "code",
   "execution_count": 11,
   "metadata": {},
   "outputs": [
    {
     "name": "stdout",
     "output_type": "stream",
     "text": [
      "# Users 6\n",
      "# Items 634\n",
      "# Interactions 17.2K\n",
      "# Train 13.8K\n",
      "# Test 1.7K\n",
      "# Val 1.7K\n",
      "Avg # of interactions per user: 2868.5\n",
      "Avg # of interactions per item: 27.146687697160882\n"
     ]
    }
   ],
   "source": [
    "def rd(num):\n",
    "    if num > 1_000_000: return str(round(num / 1_000_000.0, 2)) + \"M\"\n",
    "    if num > 1_000: return str(round(num / 1000.0, 1)) + \"K\"\n",
    "    return str(num)\n",
    "\n",
    "def discretize_distance(dist):\n",
    "    return dist // 0.5\n",
    "\n",
    "num_per_user = defaultdict(int)\n",
    "num_per_item = defaultdict(int)\n",
    "total_train, total_test, total_val = 0, 0, 0\n",
    "\n",
    "train, test, val = data_holder.train, data_holder.test, data_holder.val\n",
    "\n",
    "for u in range(len(train)):\n",
    "    for i, context in train[u]:\n",
    "        num_per_user[u] += 1\n",
    "        num_per_item[discretize_distance(i)] += 1\n",
    "        total_train += 1\n",
    "    \n",
    "for u in range(len(test)):\n",
    "    for i, context in test[u]:\n",
    "        num_per_user[u] += 1\n",
    "        num_per_item[discretize_distance(i)] += 1\n",
    "        total_test += 1\n",
    "\n",
    "for u in range(len(val)):\n",
    "    for i, context in val[u]:\n",
    "        num_per_user[u] += 1\n",
    "        num_per_item[discretize_distance(i)] += 1\n",
    "        total_val += 1\n",
    "    \n",
    "print(\"# Users\", rd(len(num_per_user)))\n",
    "print(\"# Items\", rd(len(num_per_item)))\n",
    "print(\"# Interactions\", rd(total_train + total_test + total_val))\n",
    "print(\"# Train\", rd(total_train))\n",
    "print(\"# Test\", rd(total_test))\n",
    "print(\"# Val\", rd(total_val))\n",
    "print(\"Avg # of interactions per user:\", np.mean(list(num_per_user.values())))\n",
    "print(\"Avg # of interactions per item:\", np.mean(list(num_per_item.values())))"
   ]
  }
 ],
 "metadata": {
  "interpreter": {
   "hash": "c1a68911c2b9d0e3ad231c1963487c9ff4a17c97cb2aeefc5ff79be0c723f482"
  },
  "kernelspec": {
   "display_name": "Python 3.8.8 64-bit ('base': conda)",
   "name": "python3"
  },
  "language_info": {
   "codemirror_mode": {
    "name": "ipython",
    "version": 3
   },
   "file_extension": ".py",
   "mimetype": "text/x-python",
   "name": "python",
   "nbconvert_exporter": "python",
   "pygments_lexer": "ipython3",
   "version": "3.8.8"
  }
 },
 "nbformat": 4,
 "nbformat_minor": 2
}
