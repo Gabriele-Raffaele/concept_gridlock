{
 "cells": [
  {
   "cell_type": "code",
   "execution_count": 2,
   "metadata": {},
   "outputs": [],
   "source": [
    "import h5py\n",
    "import pandas as pd\n",
    "import numpy as np\n",
    "from decimal import Decimal\n",
    "import matplotlib.pyplot as plt"
   ]
  },
  {
   "cell_type": "code",
   "execution_count": 32,
   "metadata": {},
   "outputs": [
    {
     "name": "stderr",
     "output_type": "stream",
     "text": [
      "UsageError: Line magic function `%tensorboard` not found.\n"
     ]
    }
   ],
   "source": [
    "%tensorboard --logdir /home/jessica/personalized_driving_toyota/"
   ]
  },
  {
   "cell_type": "code",
   "execution_count": 3,
   "metadata": {},
   "outputs": [],
   "source": [
    "def get_speed(vel):\n",
    "    assert(len(vel) == 3)\n",
    "    return (Decimal(vel[0]) ** Decimal(2) + Decimal(vel[1]) ** Decimal(2) + Decimal(vel[2]) ** Decimal(2)) ** Decimal(0.5)\n",
    "\n",
    "def angle(v1, v2):\n",
    "    v1 = [Decimal(v1[0].item()), Decimal(v1[1].item()), Decimal(v1[2].item())]\n",
    "    v2 = [Decimal(v2[0].item()), Decimal(v2[1].item()), Decimal(v2[2].item())]\n",
    "    # [0, np.pi]\n",
    "    num = np.dot(v1, v2)\n",
    "    denom = (get_speed(v1) * get_speed(v2))\n",
    "    return np.arccos(float(num / denom)) \n",
    "\n",
    "def dist(p1, p2):\n",
    "    return get_speed(np.array(p1) - np.array(p2))"
   ]
  },
  {
   "cell_type": "code",
   "execution_count": 66,
   "metadata": {},
   "outputs": [],
   "source": [
    "data_path = \"/data1/jessica/data/toyota/once_w_lanes_compressed_raw_small_multitask_0-13.hfd5\"\n",
    "paths = [data_path]\n",
    "people_seqs = []\n",
    "subsample = 2\n",
    "with h5py.File(data_path, \"r\") as f:\n",
    "    for i, seq_key in enumerate(list(f.keys())):\n",
    "        iter_dict = {}\n",
    "        keys_ = f[seq_key].keys()\n",
    "\n",
    "        orig_times = f[seq_key][\"orig_times\"][()]\n",
    "        sorted_idx = np.argsort(orig_times)\n",
    "        orig_times = [orig_times[i] for i in sorted_idx]\n",
    "        iter_dict['orig_times'] = orig_times\n",
    "        for key in keys_:\n",
    "            if key in [\"angle\", 'orig_times']: continue\n",
    "            ds_obj = f[seq_key][key][()]#[0::subsample]\n",
    "            #ds_obj = [ds_obj[i] for i in sorted_idx]\n",
    "            if key == \"pos\":\n",
    "                iter_dict[key] = ds_obj\n",
    "                new_angles = [0]\n",
    "                for i in range(1, len(ds_obj)):\n",
    "                    prev = ds_obj[i-1]\n",
    "                    curr = ds_obj[i]\n",
    "                    an = angle(prev, curr)*(180/np.pi)\n",
    "                    new_angles.append(an)\n",
    "                ds_obj = new_angles\n",
    "                iter_dict[\"angle\"] = ds_obj\n",
    "                \n",
    "                continue\n",
    "            iter_dict[key] = ds_obj\n",
    "        people_seqs.append(iter_dict)\n"
   ]
  },
  {
   "cell_type": "code",
   "execution_count": 59,
   "metadata": {},
   "outputs": [
    {
     "data": {
      "text/plain": [
       "(True, True)"
      ]
     },
     "execution_count": 59,
     "metadata": {},
     "output_type": "execute_result"
    }
   ],
   "source": [
    "people_seqs[0]['orig_times'][0] <= people_seqs[0]['orig_times'][1], people_seqs[0]['orig_times'][2]<= people_seqs[0]['orig_times'][3], "
   ]
  },
  {
   "cell_type": "code",
   "execution_count": 70,
   "metadata": {},
   "outputs": [
    {
     "data": {
      "text/plain": [
       "[1616007135232,\n",
       " 1616007266304,\n",
       " 1616007266304,\n",
       " 1616007266304,\n",
       " 1616007266304,\n",
       " 1616007266304,\n",
       " 1616007266304,\n",
       " 1616007266304,\n",
       " 1616007266304]"
      ]
     },
     "execution_count": 70,
     "metadata": {},
     "output_type": "execute_result"
    }
   ],
   "source": [
    "people_seqs[2][\"orig_times\"][0:9]"
   ]
  },
  {
   "cell_type": "code",
   "execution_count": 10,
   "metadata": {},
   "outputs": [
    {
     "name": "stdout",
     "output_type": "stream",
     "text": [
      "261\n",
      "399\n",
      "25\n",
      "84\n",
      "122\n",
      "214\n",
      "240\n",
      "334\n",
      "293\n",
      "96\n",
      "106\n",
      "424\n",
      "122\n"
     ]
    }
   ],
   "source": [
    "for seq in people_seqs:\n",
    "    print(len(seq['distance']))\n"
   ]
  },
  {
   "cell_type": "code",
   "execution_count": 32,
   "metadata": {},
   "outputs": [
    {
     "name": "stdout",
     "output_type": "stream",
     "text": [
      "261\n"
     ]
    },
    {
     "data": {
      "text/plain": [
       "<matplotlib.collections.PathCollection at 0x7fc22ae4d9c0>"
      ]
     },
     "execution_count": 32,
     "metadata": {},
     "output_type": "execute_result"
    },
    {
     "data": {
      "image/png": "[encoded data removed]",
      "text/plain": [
       "<Figure size 640x480 with 1 Axes>"
      ]
     },
     "metadata": {},
     "output_type": "display_data"
    }
   ],
   "source": [
    "x = np.array(people_seqs[0]['pos'])[:,0]\n",
    "z = np.array(people_seqs[0]['pos'])[:,2]\n",
    "print(len(x))\n",
    "plt.scatter(z[0:10], x[0:10])\n",
    "#plt.plot(z[0:10], x[0:10])"
   ]
  },
  {
   "cell_type": "code",
   "execution_count": 86,
   "metadata": {},
   "outputs": [
    {
     "data": {
      "text/plain": [
       "(1616005400000.0,\n",
       " 1616006000000.0,\n",
       " 1616006000000.0,\n",
       " 1616006000000.0,\n",
       " 1616005800000.0)"
      ]
     },
     "execution_count": 86,
     "metadata": {},
     "output_type": "execute_result"
    }
   ],
   "source": []
  },
  {
   "cell_type": "code",
   "execution_count": 59,
   "metadata": {},
   "outputs": [
    {
     "data": {
      "text/plain": [
       "18.434948822922017"
      ]
     },
     "execution_count": 59,
     "metadata": {},
     "output_type": "execute_result"
    }
   ],
   "source": [
    "def get_speed(vel):\n",
    "    return (Decimal(vel[0]) ** Decimal(2) + Decimal(vel[1]) ** Decimal(2)) ** Decimal(0.5)\n",
    "def angle(v1, v2):\n",
    "    v1 = [Decimal(v1[0]), Decimal(v1[1])]\n",
    "    v2 = [Decimal(v2[0]), Decimal(v2[1])]\n",
    "    # [0, np.pi]\n",
    "    num = np.dot(v1, v2)\n",
    "    denom = (get_speed(v1) * get_speed(v2))\n",
    "    return np.arccos(float(num / denom)) \n",
    "\n",
    "angle([,1], [1,2])*(180/np.pi)"
   ]
  },
  {
   "cell_type": "code",
   "execution_count": 15,
   "metadata": {},
   "outputs": [],
   "source": [
    "a = np.arctan2(1,0)\n",
    "b = np.arctan2(2,1)"
   ]
  },
  {
   "cell_type": "code",
   "execution_count": 16,
   "metadata": {},
   "outputs": [
    {
     "data": {
      "text/plain": [
       "0.46364760900080615"
      ]
     },
     "execution_count": 16,
     "metadata": {},
     "output_type": "execute_result"
    }
   ],
   "source": [
    "a-b"
   ]
  },
  {
   "cell_type": "code",
   "execution_count": 70,
   "metadata": {},
   "outputs": [
    {
     "data": {
      "text/plain": [
       "[<matplotlib.lines.Line2D at 0x7f1dc6c4b040>]"
      ]
     },
     "execution_count": 70,
     "metadata": {},
     "output_type": "execute_result"
    },
    {
     "data": {
      "image/png": "[encoded data removed]",
      "text/plain": [
       "<Figure size 640x480 with 1 Axes>"
      ]
     },
     "metadata": {},
     "output_type": "display_data"
    }
   ],
   "source": [
    "b = np.array([[0, 0], [1, 1], [2, 0], [3, 1], [4, 0], [5, 1], [6, 1], [7, 0], [8, 1], [9, -1], [10, 1]])\n",
    "\n",
    "\n",
    "plt.plot(b[:,0], b[:,1])"
   ]
  },
  {
   "cell_type": "code",
   "execution_count": 71,
   "metadata": {},
   "outputs": [
    {
     "name": "stdout",
     "output_type": "stream",
     "text": [
      "yawwwwwwwww 174.28940686250036\n",
      "yawwwwwwwww -45.0\n",
      "yawwwwwwwww 45.0\n",
      "yawwwwwwwww -45.0\n",
      "yawwwwwwwww 45.0\n",
      "yawwwwwwwww -45.0\n",
      "yawwwwwwwww 0.0\n",
      "yawwwwwwwww 45.0\n",
      "yawwwwwwwww -45.0\n",
      "yawwwwwwwww 63.43494882292201\n"
     ]
    }
   ],
   "source": [
    "for i in range(len(b[1:])):\n",
    "    last =b[i-1]\n",
    "    nexts = b[i]\n",
    "    prev = np.arctan2(last[0], last[1])*180/np.pi\n",
    "    ne = np.arctan2(nexts[0], nexts[1])*180/np.pi\n",
    "    #print(ne-prev)\n",
    "    dX = b[i-1][0] - b[i][0]\n",
    "    dZ = b[i-1][1] - b[i][1]\n",
    "\n",
    "    yaw = np.arctan2(dZ, dX)*180/np.pi \n",
    "    yaw = np.arctan2(dX, dZ)*180/np.pi \n",
    "    print('yawwwwwwwww', yaw+90)\n"
   ]
  },
  {
   "cell_type": "code",
   "execution_count": 37,
   "metadata": {},
   "outputs": [],
   "source": [
    "dX = b[0][0] - b[1][0]\n",
    "dZ = b[0][1] - b[1][1]\n",
    "\n",
    "yaw = np.arctan2(dZ, dX)*180/np.pi"
   ]
  },
  {
   "cell_type": "code",
   "execution_count": 38,
   "metadata": {},
   "outputs": [
    {
     "data": {
      "text/plain": [
       "-153.43494882292202"
      ]
     },
     "execution_count": 38,
     "metadata": {},
     "output_type": "execute_result"
    }
   ],
   "source": [
    "yaw"
   ]
  },
  {
   "cell_type": "code",
   "execution_count": null,
   "metadata": {},
   "outputs": [],
   "source": []
  }
 ],
 "metadata": {
  "kernelspec": {
   "display_name": "Python 3.9.6 64-bit",
   "language": "python",
   "name": "python3"
  },
  "language_info": {
   "codemirror_mode": {
    "name": "ipython",
    "version": 3
   },
   "file_extension": ".py",
   "mimetype": "text/x-python",
   "name": "python",
   "nbconvert_exporter": "python",
   "pygments_lexer": "ipython3",
   "version": "3.9.6"
  },
  "orig_nbformat": 4,
  "vscode": {
   "interpreter": {
    "hash": "31f2aee4e71d21fbe5cf8b01ff0e069b9275f58929596ceb00d14d90e3e16cd6"
   }
  }
 },
 "nbformat": 4,
 "nbformat_minor": 2
}
