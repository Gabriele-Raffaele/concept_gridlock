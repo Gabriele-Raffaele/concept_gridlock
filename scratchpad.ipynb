{
 "cells": [
  {
   "cell_type": "code",
   "execution_count": 54,
   "metadata": {},
   "outputs": [],
   "source": [
    "import h5py\n",
    "import pandas as pd\n",
    "import numpy as np\n",
    "from decimal import Decimal"
   ]
  },
  {
   "cell_type": "code",
   "execution_count": 62,
   "metadata": {},
   "outputs": [],
   "source": [
    "def get_speed(vel):\n",
    "    assert(len(vel) == 3)\n",
    "    return (Decimal(vel[0]) ** Decimal(2) + Decimal(vel[1]) ** Decimal(2) + Decimal(vel[2]) ** Decimal(2)) ** Decimal(0.5)\n",
    "\n",
    "def angle(v1, v2):\n",
    "    v1 = [Decimal(v1[0].item()), Decimal(v1[1].item()), Decimal(v1[2].item())]\n",
    "    v2 = [Decimal(v2[0].item()), Decimal(v2[1].item()), Decimal(v2[2].item())]\n",
    "    # [0, np.pi]\n",
    "    num = np.dot(v1, v2)\n",
    "    denom = (get_speed(v1) * get_speed(v2))\n",
    "    return np.arccos(float(num / denom)) \n",
    "\n",
    "def dist(p1, p2):\n",
    "    return get_speed(np.array(p1) - np.array(p2))"
   ]
  },
  {
   "cell_type": "code",
   "execution_count": 63,
   "metadata": {},
   "outputs": [],
   "source": [
    "data_path = \"/data1/jessica/data/toyota/once_w_lanes_compressed_raw_small_multitask_0-13.hfd5\"\n",
    "paths = [data_path]\n",
    "people_seqs = []\n",
    "subsample = 2\n",
    "with h5py.File(data_path, \"r\") as f:\n",
    "    for i, seq_key in enumerate(list(f.keys())):\n",
    "        iter_dict = {}\n",
    "        keys_ = f[seq_key].keys()\n",
    "        for key in keys_:\n",
    "            if key == \"angle\": continue\n",
    "            ds_obj = f[seq_key][key][()]#[0::subsample]\n",
    "            if key == \"pos\":\n",
    "                iter_dict[key] = ds_obj\n",
    "                new_angles = [0]\n",
    "                for i in range(1, len(ds_obj)):\n",
    "                    prev = ds_obj[i-1]\n",
    "                    curr = ds_obj[i]\n",
    "                    an = angle(prev, curr)*(180/np.pi)\n",
    "                    new_angles.append(an)\n",
    "                ds_obj = new_angles\n",
    "                iter_dict[\"angle\"] = ds_obj\n",
    "                continue\n",
    "            iter_dict[key] = ds_obj\n",
    "        people_seqs.append(iter_dict)\n"
   ]
  },
  {
   "cell_type": "code",
   "execution_count": 64,
   "metadata": {},
   "outputs": [
    {
     "ename": "KeyError",
     "evalue": "'pos'",
     "output_type": "error",
     "traceback": [
      "\u001b[0;31m---------------------------------------------------------------------------\u001b[0m",
      "\u001b[0;31mKeyError\u001b[0m                                  Traceback (most recent call last)",
      "Cell \u001b[0;32mIn [64], line 1\u001b[0m\n\u001b[0;32m----> 1\u001b[0m people_seqs[\u001b[39m0\u001b[39;49m][\u001b[39m'\u001b[39;49m\u001b[39mpos\u001b[39;49m\u001b[39m'\u001b[39;49m]\n",
      "\u001b[0;31mKeyError\u001b[0m: 'pos'"
     ]
    }
   ],
   "source": [
    "people_seqs[0]['pos']"
   ]
  },
  {
   "cell_type": "code",
   "execution_count": 42,
   "metadata": {},
   "outputs": [
    {
     "data": {
      "text/plain": [
       "dict_keys(['angle', 'distance', 'image_array', 'orig_times', 'pos', 'segm_masks', 'speed'])"
      ]
     },
     "execution_count": 42,
     "metadata": {},
     "output_type": "execute_result"
    }
   ],
   "source": [
    "people_seqs[0].keys()\n"
   ]
  },
  {
   "cell_type": "code",
   "execution_count": 59,
   "metadata": {},
   "outputs": [
    {
     "data": {
      "text/plain": [
       "18.434948822922017"
      ]
     },
     "execution_count": 59,
     "metadata": {},
     "output_type": "execute_result"
    }
   ],
   "source": [
    "def get_speed(vel):\n",
    "    return (Decimal(vel[0]) ** Decimal(2) + Decimal(vel[1]) ** Decimal(2)) ** Decimal(0.5)\n",
    "def angle(v1, v2):\n",
    "    v1 = [Decimal(v1[0]), Decimal(v1[1])]\n",
    "    v2 = [Decimal(v2[0]), Decimal(v2[1])]\n",
    "    # [0, np.pi]\n",
    "    num = np.dot(v1, v2)\n",
    "    denom = (get_speed(v1) * get_speed(v2))\n",
    "    return np.arccos(float(num / denom)) \n",
    "\n",
    "angle([,1], [1,2])*(180/np.pi)"
   ]
  },
  {
   "cell_type": "code",
   "execution_count": null,
   "metadata": {},
   "outputs": [],
   "source": []
  }
 ],
 "metadata": {
  "kernelspec": {
   "display_name": "Python 3.9.6 64-bit",
   "language": "python",
   "name": "python3"
  },
  "language_info": {
   "codemirror_mode": {
    "name": "ipython",
    "version": 3
   },
   "file_extension": ".py",
   "mimetype": "text/x-python",
   "name": "python",
   "nbconvert_exporter": "python",
   "pygments_lexer": "ipython3",
   "version": "3.10.6"
  },
  "orig_nbformat": 4,
  "vscode": {
   "interpreter": {
    "hash": "31f2aee4e71d21fbe5cf8b01ff0e069b9275f58929596ceb00d14d90e3e16cd6"
   }
  }
 },
 "nbformat": 4,
 "nbformat_minor": 2
}
