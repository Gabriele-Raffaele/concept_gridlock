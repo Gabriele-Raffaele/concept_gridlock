{
 "cells": [
  {
   "cell_type": "code",
   "execution_count": 1,
   "metadata": {},
   "outputs": [],
   "source": [
    "import numpy as np \n",
    "import h5py\n",
    "from tqdm import tqdm\n",
    "dataset_type = 'train'"
   ]
  },
  {
   "cell_type": "code",
   "execution_count": 2,
   "metadata": {},
   "outputs": [],
   "source": [
    "if dataset_type == \"train\":\n",
    "            data_path = \"/data1/jessica/data/toyota/train_comma_1.hfd5\"\n",
    "            data_path2 = \"/data1/jessica/data/toyota/train_comma_2.hfd5\"\n",
    "            data_path3 = \"/data1/jessica/data/toyota/train_comma_c2.hfd5\"\n",
    "            data_path4 = \"/data1/jessica/data/toyota/train_comma_c3.hfd5\"\n",
    "elif dataset_type == \"test\":\n",
    "            data_path = \"/data1/jessica/data/toyota/test_comma_1.hfd5\"\n",
    "            data_path2 = \"/data1/jessica/data/toyota/test_comma_c2.hfd5\"\n",
    "            data_path3 = \"/data1/jessica/data/toyota/test_comma_c3.hfd5\"\n",
    "elif dataset_type == \"val\":\n",
    "            data_path = \"/data1/jessica/data/toyota/val_comma_1.hfd5\"\n",
    "            data_path2 = \"/data1/jessica/data/toyota/val_comma_c2.hfd5\"\n",
    "            data_path3 = \"/data1/jessica/data/toyota/val_comma_c3.hfd5\"\n",
    "people_seqs = []\n",
    "h5_file = h5py.File(data_path, \"r\")\n",
    "keys = list(h5_file.keys())\n",
    "keys.remove('10')\n",
    "keys.remove('17')\n",
    "if dataset_type == \"train\":\n",
    "            keys.remove('37')\n",
    "            keys.remove('53')\n",
    "            keys.remove('55')\n",
    "            keys.remove('58')\n",
    "            h5_file2 = h5py.File(data_path2, \"r\")\n",
    "            keys2 = list(h5_file2.keys())\n",
    "            good_keys = [0, 1, 4, 6, 7, 8, 9, 10, 11, 12, 13, 15, 16, 19, 20, 21, 24, 25, 27, 29, 30, 31, 32, 33, 34, 35, 37, 38, 39, 40, 41, 42, 45, 46, 50, 52, 53]#[0, 1, 4, 6, 7, 8, 9, 10, 11, 12, 13, 15, 16, 18, 19, 20, 21, 24, 25, 27, 28, 29, 30, 31, 32, 33, 34, 35, 36, 37, 38, 39, 40, 41, 42, 45, 46, 50, 52, 53]\n",
    "            gk2 = np.array([55, 56, 57, 60, 62, 64, 65, 66, 67, 68, 69, 70, 72, 73, 76, 77, 78, 81, 82, 84, 87, 88, 89, 90, 91, 92, 93, 95, 96, 97, 98, 99, 100, 103, 104, 105, 106]) - 55# np.array([55, 56, 57, 60, 62, 63, 64, 65, 66, 67, 68, 69, 70, 72, 73, 75, 76, 77, 78, 81, 82, 84, 85, 87, 88, 89, 90, 91, 92, 93, 94, 95, 96, 97, 98, 99, 100, 103, 104, 105, 106]) -55\n",
    "            keys = list(np.array(keys)[good_keys])\n",
    "            keys2 = list(np.array(keys2)[gk2])[:-1]\n",
    "            h5_file3 = h5py.File(data_path3, \"r\")\n",
    "            keys3 = list(h5_file3.keys())\n",
    "            h5_file4 = h5py.File(data_path4, \"r\")\n",
    "            keys4 = list(h5_file4.keys())\n",
    "else:\n",
    "            keys4 = []\n",
    "\n",
    "if dataset_type == \"val\":\n",
    "            good_keys = [1, 6, 9, 10, 11, 12, 14, 15]\n",
    "            keys = np.array(keys)[good_keys]\n",
    "            h5_file2 = h5py.File(data_path2, \"r\")\n",
    "            keys2 = list(h5_file2.keys())\n",
    "            h5_file3 = h5py.File(data_path3, \"r\")\n",
    "            keys3 = list(h5_file3.keys())\n",
    "            \n",
    "if dataset_type == \"test\":\n",
    "            good_keys = [0, 6, 8, 9, 10, 13]\n",
    "            keys = np.array(keys)[good_keys]\n",
    "            h5_file2 = h5py.File(data_path2, \"r\")\n",
    "            keys2 = list(h5_file2.keys())[0:3] + list(h5_file2.keys())[5:]\n",
    "            h5_file3 = h5py.File(data_path3, \"r\")\n",
    "            keys3 = list(h5_file3.keys())[:-1]"
   ]
  },
  {
   "attachments": {},
   "cell_type": "markdown",
   "metadata": {},
   "source": [
    "/data1/jessica/data/toyota/comma_train_filtered.h5py"
   ]
  },
  {
   "cell_type": "code",
   "execution_count": 3,
   "metadata": {},
   "outputs": [],
   "source": [
    "h = h5py.File(f\"/data1/jessica/data/toyota/comma_{dataset_type}_filtered.h5py\", 'w')"
   ]
  },
  {
   "cell_type": "code",
   "execution_count": 4,
   "metadata": {},
   "outputs": [
    {
     "name": "stderr",
     "output_type": "stream",
     "text": [
      "100%|██████████| 37/37 [44:48<00:00, 72.67s/it]\n"
     ]
    }
   ],
   "source": [
    "for key in tqdm(keys):\n",
    "    data = h5_file[key]\n",
    "    group  = h.create_group(key)\n",
    "    for col in data.keys():\n",
    "        dt = np.float32 if col != 'image' else int#\n",
    "        dataset_name = col #groups are divided by '/'\n",
    "        a = data[col]\n",
    "        group.create_dataset(dataset_name, data = a, compression_opts=6, compression='gzip', chunks=True)\n",
    "    \n",
    "    "
   ]
  },
  {
   "cell_type": "code",
   "execution_count": 5,
   "metadata": {},
   "outputs": [
    {
     "name": "stderr",
     "output_type": "stream",
     "text": [
      "100%|██████████| 36/36 [46:56<00:00, 78.23s/it]\n"
     ]
    }
   ],
   "source": [
    "for key in tqdm(keys2):\n",
    "    data = h5_file2[key]\n",
    "    if key in h5_file2.keys():\n",
    "        key = key + \"_1\"\n",
    "    group  = h.create_group(key)\n",
    "    for col in data.keys():\n",
    "        #print(key,col)\n",
    "        dt = np.float32 if col != 'image' else int#\n",
    "        dataset_name = col #groups are divided by '/'\n",
    "        a = data[col]\n",
    "        group.create_dataset(dataset_name, data = a, compression_opts=6, compression='gzip', chunks=True)"
   ]
  },
  {
   "cell_type": "code",
   "execution_count": 6,
   "metadata": {},
   "outputs": [
    {
     "name": "stderr",
     "output_type": "stream",
     "text": [
      "  0%|          | 0/72 [00:00<?, ?it/s]"
     ]
    },
    {
     "name": "stdout",
     "output_type": "stream",
     "text": [
      "b0c9d2329ad1606b|2018-08-18--18-20-55_37 angle\n",
      "b0c9d2329ad1606b|2018-08-18--18-20-55_37 brake\n",
      "b0c9d2329ad1606b|2018-08-18--18-20-55_37 dist\n",
      "b0c9d2329ad1606b|2018-08-18--18-20-55_37 gas\n",
      "b0c9d2329ad1606b|2018-08-18--18-20-55_37 image\n"
     ]
    },
    {
     "name": "stderr",
     "output_type": "stream",
     "text": [
      "  1%|▏         | 1/72 [00:13<16:11, 13.68s/it]"
     ]
    },
    {
     "name": "stdout",
     "output_type": "stream",
     "text": [
      "b0c9d2329ad1606b|2018-08-18--18-20-55_37 time\n",
      "b0c9d2329ad1606b|2018-08-18--18-20-55_37 vEgo\n",
      "b0c9d2329ad1606b|2018-08-18--18-20-55_42 angle\n",
      "b0c9d2329ad1606b|2018-08-18--18-20-55_42 brake\n",
      "b0c9d2329ad1606b|2018-08-18--18-20-55_42 dist\n",
      "b0c9d2329ad1606b|2018-08-18--18-20-55_42 gas\n",
      "b0c9d2329ad1606b|2018-08-18--18-20-55_42 image\n"
     ]
    },
    {
     "name": "stderr",
     "output_type": "stream",
     "text": [
      "  3%|▎         | 2/72 [00:26<15:35, 13.36s/it]"
     ]
    },
    {
     "name": "stdout",
     "output_type": "stream",
     "text": [
      "b0c9d2329ad1606b|2018-08-18--18-20-55_42 time\n",
      "b0c9d2329ad1606b|2018-08-18--18-20-55_42 vEgo\n",
      "b0c9d2329ad1606b|2018-08-18--18-20-55_43 angle\n",
      "b0c9d2329ad1606b|2018-08-18--18-20-55_43 brake\n",
      "b0c9d2329ad1606b|2018-08-18--18-20-55_43 dist\n",
      "b0c9d2329ad1606b|2018-08-18--18-20-55_43 gas\n",
      "b0c9d2329ad1606b|2018-08-18--18-20-55_43 image\n"
     ]
    },
    {
     "name": "stderr",
     "output_type": "stream",
     "text": [
      "  4%|▍         | 3/72 [00:44<17:42, 15.39s/it]"
     ]
    },
    {
     "name": "stdout",
     "output_type": "stream",
     "text": [
      "b0c9d2329ad1606b|2018-08-18--18-20-55_43 time\n",
      "b0c9d2329ad1606b|2018-08-18--18-20-55_43 vEgo\n",
      "b0c9d2329ad1606b|2018-08-18--18-20-55_46 angle\n",
      "b0c9d2329ad1606b|2018-08-18--18-20-55_46 brake\n",
      "b0c9d2329ad1606b|2018-08-18--18-20-55_46 dist\n",
      "b0c9d2329ad1606b|2018-08-18--18-20-55_46 gas\n",
      "b0c9d2329ad1606b|2018-08-18--18-20-55_46 image\n"
     ]
    },
    {
     "name": "stderr",
     "output_type": "stream",
     "text": [
      "  6%|▌         | 4/72 [00:59<17:22, 15.33s/it]"
     ]
    },
    {
     "name": "stdout",
     "output_type": "stream",
     "text": [
      "b0c9d2329ad1606b|2018-08-18--18-20-55_46 time\n",
      "b0c9d2329ad1606b|2018-08-18--18-20-55_46 vEgo\n",
      "b0c9d2329ad1606b|2018-08-18--18-20-55_48 angle\n",
      "b0c9d2329ad1606b|2018-08-18--18-20-55_48 brake\n",
      "b0c9d2329ad1606b|2018-08-18--18-20-55_48 dist\n",
      "b0c9d2329ad1606b|2018-08-18--18-20-55_48 gas\n",
      "b0c9d2329ad1606b|2018-08-18--18-20-55_48 image\n"
     ]
    },
    {
     "name": "stderr",
     "output_type": "stream",
     "text": [
      "  7%|▋         | 5/72 [01:14<16:54, 15.14s/it]"
     ]
    },
    {
     "name": "stdout",
     "output_type": "stream",
     "text": [
      "b0c9d2329ad1606b|2018-08-18--18-20-55_48 time\n",
      "b0c9d2329ad1606b|2018-08-18--18-20-55_48 vEgo\n",
      "b0c9d2329ad1606b|2018-08-24--18-40-57_10 angle\n",
      "b0c9d2329ad1606b|2018-08-24--18-40-57_10 brake\n",
      "b0c9d2329ad1606b|2018-08-24--18-40-57_10 dist\n",
      "b0c9d2329ad1606b|2018-08-24--18-40-57_10 gas\n",
      "b0c9d2329ad1606b|2018-08-24--18-40-57_10 image\n"
     ]
    },
    {
     "name": "stderr",
     "output_type": "stream",
     "text": [
      "  8%|▊         | 6/72 [01:28<16:03, 14.60s/it]"
     ]
    },
    {
     "name": "stdout",
     "output_type": "stream",
     "text": [
      "b0c9d2329ad1606b|2018-08-24--18-40-57_10 time\n",
      "b0c9d2329ad1606b|2018-08-24--18-40-57_10 vEgo\n",
      "b0c9d2329ad1606b|2018-08-24--18-40-57_6 angle\n",
      "b0c9d2329ad1606b|2018-08-24--18-40-57_6 brake\n",
      "b0c9d2329ad1606b|2018-08-24--18-40-57_6 dist\n",
      "b0c9d2329ad1606b|2018-08-24--18-40-57_6 gas\n",
      "b0c9d2329ad1606b|2018-08-24--18-40-57_6 image\n"
     ]
    },
    {
     "name": "stderr",
     "output_type": "stream",
     "text": [
      " 10%|▉         | 7/72 [01:43<16:10, 14.93s/it]"
     ]
    },
    {
     "name": "stdout",
     "output_type": "stream",
     "text": [
      "b0c9d2329ad1606b|2018-08-24--18-40-57_6 time\n",
      "b0c9d2329ad1606b|2018-08-24--18-40-57_6 vEgo\n",
      "b0c9d2329ad1606b|2018-08-24--18-40-57_7 angle\n",
      "b0c9d2329ad1606b|2018-08-24--18-40-57_7 brake\n",
      "b0c9d2329ad1606b|2018-08-24--18-40-57_7 dist\n",
      "b0c9d2329ad1606b|2018-08-24--18-40-57_7 gas\n",
      "b0c9d2329ad1606b|2018-08-24--18-40-57_7 image\n"
     ]
    },
    {
     "name": "stderr",
     "output_type": "stream",
     "text": [
      " 11%|█         | 8/72 [01:58<15:44, 14.76s/it]"
     ]
    },
    {
     "name": "stdout",
     "output_type": "stream",
     "text": [
      "b0c9d2329ad1606b|2018-08-24--18-40-57_7 time\n",
      "b0c9d2329ad1606b|2018-08-24--18-40-57_7 vEgo\n",
      "b0c9d2329ad1606b|2018-08-24--18-40-57_8 angle\n",
      "b0c9d2329ad1606b|2018-08-24--18-40-57_8 brake\n",
      "b0c9d2329ad1606b|2018-08-24--18-40-57_8 dist\n",
      "b0c9d2329ad1606b|2018-08-24--18-40-57_8 gas\n",
      "b0c9d2329ad1606b|2018-08-24--18-40-57_8 image\n"
     ]
    },
    {
     "name": "stderr",
     "output_type": "stream",
     "text": [
      " 12%|█▎        | 9/72 [02:12<15:17, 14.56s/it]"
     ]
    },
    {
     "name": "stdout",
     "output_type": "stream",
     "text": [
      "b0c9d2329ad1606b|2018-08-24--18-40-57_8 time\n",
      "b0c9d2329ad1606b|2018-08-24--18-40-57_8 vEgo\n",
      "b0c9d2329ad1606b|2018-09-15--17-50-36_74 angle\n",
      "b0c9d2329ad1606b|2018-09-15--17-50-36_74 brake\n",
      "b0c9d2329ad1606b|2018-09-15--17-50-36_74 dist\n",
      "b0c9d2329ad1606b|2018-09-15--17-50-36_74 gas\n",
      "b0c9d2329ad1606b|2018-09-15--17-50-36_74 image\n"
     ]
    },
    {
     "name": "stderr",
     "output_type": "stream",
     "text": [
      " 14%|█▍        | 10/72 [02:26<14:48, 14.33s/it]"
     ]
    },
    {
     "name": "stdout",
     "output_type": "stream",
     "text": [
      "b0c9d2329ad1606b|2018-09-15--17-50-36_74 time\n",
      "b0c9d2329ad1606b|2018-09-15--17-50-36_74 vEgo\n",
      "b0c9d2329ad1606b|2018-09-20--19-47-23_10 angle\n",
      "b0c9d2329ad1606b|2018-09-20--19-47-23_10 brake\n",
      "b0c9d2329ad1606b|2018-09-20--19-47-23_10 dist\n",
      "b0c9d2329ad1606b|2018-09-20--19-47-23_10 gas\n",
      "b0c9d2329ad1606b|2018-09-20--19-47-23_10 image\n"
     ]
    },
    {
     "name": "stderr",
     "output_type": "stream",
     "text": [
      " 15%|█▌        | 11/72 [02:42<15:19, 15.08s/it]"
     ]
    },
    {
     "name": "stdout",
     "output_type": "stream",
     "text": [
      "b0c9d2329ad1606b|2018-09-20--19-47-23_10 time\n",
      "b0c9d2329ad1606b|2018-09-20--19-47-23_10 vEgo\n",
      "b0c9d2329ad1606b|2018-09-20--19-47-23_17 angle\n",
      "b0c9d2329ad1606b|2018-09-20--19-47-23_17 brake\n",
      "b0c9d2329ad1606b|2018-09-20--19-47-23_17 dist\n",
      "b0c9d2329ad1606b|2018-09-20--19-47-23_17 gas\n",
      "b0c9d2329ad1606b|2018-09-20--19-47-23_17 image\n"
     ]
    },
    {
     "name": "stderr",
     "output_type": "stream",
     "text": [
      " 17%|█▋        | 12/72 [02:59<15:33, 15.57s/it]"
     ]
    },
    {
     "name": "stdout",
     "output_type": "stream",
     "text": [
      "b0c9d2329ad1606b|2018-09-20--19-47-23_17 time\n",
      "b0c9d2329ad1606b|2018-09-20--19-47-23_17 vEgo\n",
      "b0c9d2329ad1606b|2018-09-20--19-47-23_6 angle\n",
      "b0c9d2329ad1606b|2018-09-20--19-47-23_6 brake\n",
      "b0c9d2329ad1606b|2018-09-20--19-47-23_6 dist\n",
      "b0c9d2329ad1606b|2018-09-20--19-47-23_6 gas\n",
      "b0c9d2329ad1606b|2018-09-20--19-47-23_6 image\n"
     ]
    },
    {
     "name": "stderr",
     "output_type": "stream",
     "text": [
      " 18%|█▊        | 13/72 [03:17<15:57, 16.23s/it]"
     ]
    },
    {
     "name": "stdout",
     "output_type": "stream",
     "text": [
      "b0c9d2329ad1606b|2018-09-20--19-47-23_6 time\n",
      "b0c9d2329ad1606b|2018-09-20--19-47-23_6 vEgo\n",
      "b0c9d2329ad1606b|2018-09-20--19-47-23_8 angle\n",
      "b0c9d2329ad1606b|2018-09-20--19-47-23_8 brake\n",
      "b0c9d2329ad1606b|2018-09-20--19-47-23_8 dist\n",
      "b0c9d2329ad1606b|2018-09-20--19-47-23_8 gas\n",
      "b0c9d2329ad1606b|2018-09-20--19-47-23_8 image\n"
     ]
    },
    {
     "name": "stderr",
     "output_type": "stream",
     "text": [
      " 19%|█▉        | 14/72 [03:34<15:51, 16.40s/it]"
     ]
    },
    {
     "name": "stdout",
     "output_type": "stream",
     "text": [
      "b0c9d2329ad1606b|2018-09-20--19-47-23_8 time\n",
      "b0c9d2329ad1606b|2018-09-20--19-47-23_8 vEgo\n",
      "b0c9d2329ad1606b|2018-09-20--19-47-23_9 angle\n",
      "b0c9d2329ad1606b|2018-09-20--19-47-23_9 brake\n",
      "b0c9d2329ad1606b|2018-09-20--19-47-23_9 dist\n",
      "b0c9d2329ad1606b|2018-09-20--19-47-23_9 gas\n",
      "b0c9d2329ad1606b|2018-09-20--19-47-23_9 image\n"
     ]
    },
    {
     "name": "stderr",
     "output_type": "stream",
     "text": [
      " 21%|██        | 15/72 [03:50<15:41, 16.52s/it]"
     ]
    },
    {
     "name": "stdout",
     "output_type": "stream",
     "text": [
      "b0c9d2329ad1606b|2018-09-20--19-47-23_9 time\n",
      "b0c9d2329ad1606b|2018-09-20--19-47-23_9 vEgo\n",
      "b0c9d2329ad1606b|2018-09-21--09-50-40_26 angle\n",
      "b0c9d2329ad1606b|2018-09-21--09-50-40_26 brake\n",
      "b0c9d2329ad1606b|2018-09-21--09-50-40_26 dist\n",
      "b0c9d2329ad1606b|2018-09-21--09-50-40_26 gas\n",
      "b0c9d2329ad1606b|2018-09-21--09-50-40_26 image\n"
     ]
    },
    {
     "name": "stderr",
     "output_type": "stream",
     "text": [
      " 22%|██▏       | 16/72 [04:05<14:45, 15.82s/it]"
     ]
    },
    {
     "name": "stdout",
     "output_type": "stream",
     "text": [
      "b0c9d2329ad1606b|2018-09-21--09-50-40_26 time\n",
      "b0c9d2329ad1606b|2018-09-21--09-50-40_26 vEgo\n",
      "b0c9d2329ad1606b|2018-09-21--09-50-40_27 angle\n",
      "b0c9d2329ad1606b|2018-09-21--09-50-40_27 brake\n",
      "b0c9d2329ad1606b|2018-09-21--09-50-40_27 dist\n",
      "b0c9d2329ad1606b|2018-09-21--09-50-40_27 gas\n",
      "b0c9d2329ad1606b|2018-09-21--09-50-40_27 image\n"
     ]
    },
    {
     "name": "stderr",
     "output_type": "stream",
     "text": [
      " 24%|██▎       | 17/72 [04:19<13:58, 15.25s/it]"
     ]
    },
    {
     "name": "stdout",
     "output_type": "stream",
     "text": [
      "b0c9d2329ad1606b|2018-09-21--09-50-40_27 time\n",
      "b0c9d2329ad1606b|2018-09-21--09-50-40_27 vEgo\n",
      "b0c9d2329ad1606b|2018-09-21--09-50-40_28 angle\n",
      "b0c9d2329ad1606b|2018-09-21--09-50-40_28 brake\n",
      "b0c9d2329ad1606b|2018-09-21--09-50-40_28 dist\n",
      "b0c9d2329ad1606b|2018-09-21--09-50-40_28 gas\n",
      "b0c9d2329ad1606b|2018-09-21--09-50-40_28 image\n"
     ]
    },
    {
     "name": "stderr",
     "output_type": "stream",
     "text": [
      " 25%|██▌       | 18/72 [04:32<13:11, 14.67s/it]"
     ]
    },
    {
     "name": "stdout",
     "output_type": "stream",
     "text": [
      "b0c9d2329ad1606b|2018-09-21--09-50-40_28 time\n",
      "b0c9d2329ad1606b|2018-09-21--09-50-40_28 vEgo\n",
      "b0c9d2329ad1606b|2018-09-21--09-50-40_29 angle\n",
      "b0c9d2329ad1606b|2018-09-21--09-50-40_29 brake\n",
      "b0c9d2329ad1606b|2018-09-21--09-50-40_29 dist\n",
      "b0c9d2329ad1606b|2018-09-21--09-50-40_29 gas\n",
      "b0c9d2329ad1606b|2018-09-21--09-50-40_29 image\n"
     ]
    },
    {
     "name": "stderr",
     "output_type": "stream",
     "text": [
      " 26%|██▋       | 19/72 [04:45<12:36, 14.27s/it]"
     ]
    },
    {
     "name": "stdout",
     "output_type": "stream",
     "text": [
      "b0c9d2329ad1606b|2018-09-21--09-50-40_29 time\n",
      "b0c9d2329ad1606b|2018-09-21--09-50-40_29 vEgo\n",
      "b0c9d2329ad1606b|2018-09-21--09-50-40_31 angle\n",
      "b0c9d2329ad1606b|2018-09-21--09-50-40_31 brake\n",
      "b0c9d2329ad1606b|2018-09-21--09-50-40_31 dist\n",
      "b0c9d2329ad1606b|2018-09-21--09-50-40_31 gas\n",
      "b0c9d2329ad1606b|2018-09-21--09-50-40_31 image\n"
     ]
    },
    {
     "name": "stderr",
     "output_type": "stream",
     "text": [
      " 28%|██▊       | 20/72 [04:59<12:12, 14.08s/it]"
     ]
    },
    {
     "name": "stdout",
     "output_type": "stream",
     "text": [
      "b0c9d2329ad1606b|2018-09-21--09-50-40_31 time\n",
      "b0c9d2329ad1606b|2018-09-21--09-50-40_31 vEgo\n",
      "b0c9d2329ad1606b|2018-09-21--09-50-40_32 angle\n",
      "b0c9d2329ad1606b|2018-09-21--09-50-40_32 brake\n",
      "b0c9d2329ad1606b|2018-09-21--09-50-40_32 dist\n",
      "b0c9d2329ad1606b|2018-09-21--09-50-40_32 gas\n",
      "b0c9d2329ad1606b|2018-09-21--09-50-40_32 image\n"
     ]
    },
    {
     "name": "stderr",
     "output_type": "stream",
     "text": [
      " 29%|██▉       | 21/72 [05:13<11:56, 14.05s/it]"
     ]
    },
    {
     "name": "stdout",
     "output_type": "stream",
     "text": [
      "b0c9d2329ad1606b|2018-09-21--09-50-40_32 time\n",
      "b0c9d2329ad1606b|2018-09-21--09-50-40_32 vEgo\n",
      "b0c9d2329ad1606b|2018-09-21--09-50-40_34 angle\n",
      "b0c9d2329ad1606b|2018-09-21--09-50-40_34 brake\n",
      "b0c9d2329ad1606b|2018-09-21--09-50-40_34 dist\n",
      "b0c9d2329ad1606b|2018-09-21--09-50-40_34 gas\n",
      "b0c9d2329ad1606b|2018-09-21--09-50-40_34 image\n"
     ]
    },
    {
     "name": "stderr",
     "output_type": "stream",
     "text": [
      " 31%|███       | 22/72 [05:26<11:34, 13.89s/it]"
     ]
    },
    {
     "name": "stdout",
     "output_type": "stream",
     "text": [
      "b0c9d2329ad1606b|2018-09-21--09-50-40_34 time\n",
      "b0c9d2329ad1606b|2018-09-21--09-50-40_34 vEgo\n",
      "b0c9d2329ad1606b|2018-09-21--09-50-40_35 angle\n",
      "b0c9d2329ad1606b|2018-09-21--09-50-40_35 brake\n",
      "b0c9d2329ad1606b|2018-09-21--09-50-40_35 dist\n",
      "b0c9d2329ad1606b|2018-09-21--09-50-40_35 gas\n",
      "b0c9d2329ad1606b|2018-09-21--09-50-40_35 image\n"
     ]
    },
    {
     "name": "stderr",
     "output_type": "stream",
     "text": [
      " 32%|███▏      | 23/72 [05:41<11:33, 14.16s/it]"
     ]
    },
    {
     "name": "stdout",
     "output_type": "stream",
     "text": [
      "b0c9d2329ad1606b|2018-09-21--09-50-40_35 time\n",
      "b0c9d2329ad1606b|2018-09-21--09-50-40_35 vEgo\n",
      "b0c9d2329ad1606b|2018-09-21--09-50-40_36 angle\n",
      "b0c9d2329ad1606b|2018-09-21--09-50-40_36 brake\n",
      "b0c9d2329ad1606b|2018-09-21--09-50-40_36 dist\n",
      "b0c9d2329ad1606b|2018-09-21--09-50-40_36 gas\n",
      "b0c9d2329ad1606b|2018-09-21--09-50-40_36 image\n"
     ]
    },
    {
     "name": "stderr",
     "output_type": "stream",
     "text": [
      " 33%|███▎      | 24/72 [05:58<12:02, 15.05s/it]"
     ]
    },
    {
     "name": "stdout",
     "output_type": "stream",
     "text": [
      "b0c9d2329ad1606b|2018-09-21--09-50-40_36 time\n",
      "b0c9d2329ad1606b|2018-09-21--09-50-40_36 vEgo\n",
      "b0c9d2329ad1606b|2018-09-21--23-18-39_6 angle\n",
      "b0c9d2329ad1606b|2018-09-21--23-18-39_6 brake\n",
      "b0c9d2329ad1606b|2018-09-21--23-18-39_6 dist\n",
      "b0c9d2329ad1606b|2018-09-21--23-18-39_6 gas\n",
      "b0c9d2329ad1606b|2018-09-21--23-18-39_6 image\n"
     ]
    },
    {
     "name": "stderr",
     "output_type": "stream",
     "text": [
      " 35%|███▍      | 25/72 [06:15<12:04, 15.41s/it]"
     ]
    },
    {
     "name": "stdout",
     "output_type": "stream",
     "text": [
      "b0c9d2329ad1606b|2018-09-21--23-18-39_6 time\n",
      "b0c9d2329ad1606b|2018-09-21--23-18-39_6 vEgo\n",
      "b0c9d2329ad1606b|2018-09-23--12-52-06_41 angle\n",
      "b0c9d2329ad1606b|2018-09-23--12-52-06_41 brake\n",
      "b0c9d2329ad1606b|2018-09-23--12-52-06_41 dist\n",
      "b0c9d2329ad1606b|2018-09-23--12-52-06_41 gas\n",
      "b0c9d2329ad1606b|2018-09-23--12-52-06_41 image\n"
     ]
    },
    {
     "name": "stderr",
     "output_type": "stream",
     "text": [
      " 36%|███▌      | 26/72 [06:29<11:34, 15.09s/it]"
     ]
    },
    {
     "name": "stdout",
     "output_type": "stream",
     "text": [
      "b0c9d2329ad1606b|2018-09-23--12-52-06_41 time\n",
      "b0c9d2329ad1606b|2018-09-23--12-52-06_41 vEgo\n",
      "b0c9d2329ad1606b|2018-09-23--12-52-06_42 angle\n",
      "b0c9d2329ad1606b|2018-09-23--12-52-06_42 brake\n",
      "b0c9d2329ad1606b|2018-09-23--12-52-06_42 dist\n",
      "b0c9d2329ad1606b|2018-09-23--12-52-06_42 gas\n",
      "b0c9d2329ad1606b|2018-09-23--12-52-06_42 image\n"
     ]
    },
    {
     "name": "stderr",
     "output_type": "stream",
     "text": [
      " 38%|███▊      | 27/72 [06:43<11:05, 14.78s/it]"
     ]
    },
    {
     "name": "stdout",
     "output_type": "stream",
     "text": [
      "b0c9d2329ad1606b|2018-09-23--12-52-06_42 time\n",
      "b0c9d2329ad1606b|2018-09-23--12-52-06_42 vEgo\n",
      "b0c9d2329ad1606b|2018-09-23--12-52-06_43 angle\n",
      "b0c9d2329ad1606b|2018-09-23--12-52-06_43 brake\n",
      "b0c9d2329ad1606b|2018-09-23--12-52-06_43 dist\n",
      "b0c9d2329ad1606b|2018-09-23--12-52-06_43 gas\n",
      "b0c9d2329ad1606b|2018-09-23--12-52-06_43 image\n"
     ]
    },
    {
     "name": "stderr",
     "output_type": "stream",
     "text": [
      " 39%|███▉      | 28/72 [06:57<10:37, 14.49s/it]"
     ]
    },
    {
     "name": "stdout",
     "output_type": "stream",
     "text": [
      "b0c9d2329ad1606b|2018-09-23--12-52-06_43 time\n",
      "b0c9d2329ad1606b|2018-09-23--12-52-06_43 vEgo\n",
      "b0c9d2329ad1606b|2018-09-23--12-52-06_44 angle\n",
      "b0c9d2329ad1606b|2018-09-23--12-52-06_44 brake\n",
      "b0c9d2329ad1606b|2018-09-23--12-52-06_44 dist\n",
      "b0c9d2329ad1606b|2018-09-23--12-52-06_44 gas\n",
      "b0c9d2329ad1606b|2018-09-23--12-52-06_44 image\n"
     ]
    },
    {
     "name": "stderr",
     "output_type": "stream",
     "text": [
      " 40%|████      | 29/72 [07:11<10:18, 14.38s/it]"
     ]
    },
    {
     "name": "stdout",
     "output_type": "stream",
     "text": [
      "b0c9d2329ad1606b|2018-09-23--12-52-06_44 time\n",
      "b0c9d2329ad1606b|2018-09-23--12-52-06_44 vEgo\n",
      "b0c9d2329ad1606b|2018-09-23--12-52-06_45 angle\n",
      "b0c9d2329ad1606b|2018-09-23--12-52-06_45 brake\n",
      "b0c9d2329ad1606b|2018-09-23--12-52-06_45 dist\n",
      "b0c9d2329ad1606b|2018-09-23--12-52-06_45 gas\n",
      "b0c9d2329ad1606b|2018-09-23--12-52-06_45 image\n"
     ]
    },
    {
     "name": "stderr",
     "output_type": "stream",
     "text": [
      " 42%|████▏     | 30/72 [07:25<09:57, 14.22s/it]"
     ]
    },
    {
     "name": "stdout",
     "output_type": "stream",
     "text": [
      "b0c9d2329ad1606b|2018-09-23--12-52-06_45 time\n",
      "b0c9d2329ad1606b|2018-09-23--12-52-06_45 vEgo\n",
      "b0c9d2329ad1606b|2018-09-23--12-52-06_48 angle\n",
      "b0c9d2329ad1606b|2018-09-23--12-52-06_48 brake\n",
      "b0c9d2329ad1606b|2018-09-23--12-52-06_48 dist\n",
      "b0c9d2329ad1606b|2018-09-23--12-52-06_48 gas\n",
      "b0c9d2329ad1606b|2018-09-23--12-52-06_48 image\n"
     ]
    },
    {
     "name": "stderr",
     "output_type": "stream",
     "text": [
      " 43%|████▎     | 31/72 [07:40<09:49, 14.38s/it]"
     ]
    },
    {
     "name": "stdout",
     "output_type": "stream",
     "text": [
      "b0c9d2329ad1606b|2018-09-23--12-52-06_48 time\n",
      "b0c9d2329ad1606b|2018-09-23--12-52-06_48 vEgo\n",
      "b0c9d2329ad1606b|2018-09-23--12-52-06_50 angle\n",
      "b0c9d2329ad1606b|2018-09-23--12-52-06_50 brake\n",
      "b0c9d2329ad1606b|2018-09-23--12-52-06_50 dist\n",
      "b0c9d2329ad1606b|2018-09-23--12-52-06_50 gas\n",
      "b0c9d2329ad1606b|2018-09-23--12-52-06_50 image\n"
     ]
    },
    {
     "name": "stderr",
     "output_type": "stream",
     "text": [
      " 44%|████▍     | 32/72 [07:55<09:48, 14.72s/it]"
     ]
    },
    {
     "name": "stdout",
     "output_type": "stream",
     "text": [
      "b0c9d2329ad1606b|2018-09-23--12-52-06_50 time\n",
      "b0c9d2329ad1606b|2018-09-23--12-52-06_50 vEgo\n",
      "b0c9d2329ad1606b|2018-09-23--12-52-06_51 angle\n",
      "b0c9d2329ad1606b|2018-09-23--12-52-06_51 brake\n",
      "b0c9d2329ad1606b|2018-09-23--12-52-06_51 dist\n",
      "b0c9d2329ad1606b|2018-09-23--12-52-06_51 gas\n",
      "b0c9d2329ad1606b|2018-09-23--12-52-06_51 image\n"
     ]
    },
    {
     "name": "stderr",
     "output_type": "stream",
     "text": [
      " 46%|████▌     | 33/72 [08:11<09:44, 14.98s/it]"
     ]
    },
    {
     "name": "stdout",
     "output_type": "stream",
     "text": [
      "b0c9d2329ad1606b|2018-09-23--12-52-06_51 time\n",
      "b0c9d2329ad1606b|2018-09-23--12-52-06_51 vEgo\n",
      "b0c9d2329ad1606b|2018-09-24--12-49-08_27 angle\n",
      "b0c9d2329ad1606b|2018-09-24--12-49-08_27 brake\n",
      "b0c9d2329ad1606b|2018-09-24--12-49-08_27 dist\n",
      "b0c9d2329ad1606b|2018-09-24--12-49-08_27 gas\n",
      "b0c9d2329ad1606b|2018-09-24--12-49-08_27 image\n"
     ]
    },
    {
     "name": "stderr",
     "output_type": "stream",
     "text": [
      " 47%|████▋     | 34/72 [08:25<09:23, 14.82s/it]"
     ]
    },
    {
     "name": "stdout",
     "output_type": "stream",
     "text": [
      "b0c9d2329ad1606b|2018-09-24--12-49-08_27 time\n",
      "b0c9d2329ad1606b|2018-09-24--12-49-08_27 vEgo\n",
      "b0c9d2329ad1606b|2018-09-24--12-49-08_32 angle\n",
      "b0c9d2329ad1606b|2018-09-24--12-49-08_32 brake\n",
      "b0c9d2329ad1606b|2018-09-24--12-49-08_32 dist\n",
      "b0c9d2329ad1606b|2018-09-24--12-49-08_32 gas\n",
      "b0c9d2329ad1606b|2018-09-24--12-49-08_32 image\n"
     ]
    },
    {
     "name": "stderr",
     "output_type": "stream",
     "text": [
      " 49%|████▊     | 35/72 [08:39<08:53, 14.43s/it]"
     ]
    },
    {
     "name": "stdout",
     "output_type": "stream",
     "text": [
      "b0c9d2329ad1606b|2018-09-24--12-49-08_32 time\n",
      "b0c9d2329ad1606b|2018-09-24--12-49-08_32 vEgo\n",
      "b0c9d2329ad1606b|2018-09-24--12-49-08_33 angle\n",
      "b0c9d2329ad1606b|2018-09-24--12-49-08_33 brake\n",
      "b0c9d2329ad1606b|2018-09-24--12-49-08_33 dist\n",
      "b0c9d2329ad1606b|2018-09-24--12-49-08_33 gas\n",
      "b0c9d2329ad1606b|2018-09-24--12-49-08_33 image\n"
     ]
    },
    {
     "name": "stderr",
     "output_type": "stream",
     "text": [
      " 50%|█████     | 36/72 [08:53<08:35, 14.32s/it]"
     ]
    },
    {
     "name": "stdout",
     "output_type": "stream",
     "text": [
      "b0c9d2329ad1606b|2018-09-24--12-49-08_33 time\n",
      "b0c9d2329ad1606b|2018-09-24--12-49-08_33 vEgo\n",
      "b0c9d2329ad1606b|2018-09-24--12-49-08_34 angle\n",
      "b0c9d2329ad1606b|2018-09-24--12-49-08_34 brake\n",
      "b0c9d2329ad1606b|2018-09-24--12-49-08_34 dist\n",
      "b0c9d2329ad1606b|2018-09-24--12-49-08_34 gas\n",
      "b0c9d2329ad1606b|2018-09-24--12-49-08_34 image\n"
     ]
    },
    {
     "name": "stderr",
     "output_type": "stream",
     "text": [
      " 51%|█████▏    | 37/72 [09:07<08:20, 14.31s/it]"
     ]
    },
    {
     "name": "stdout",
     "output_type": "stream",
     "text": [
      "b0c9d2329ad1606b|2018-09-24--12-49-08_34 time\n",
      "b0c9d2329ad1606b|2018-09-24--12-49-08_34 vEgo\n",
      "b0c9d2329ad1606b|2018-10-05--20-16-56_10 angle\n",
      "b0c9d2329ad1606b|2018-10-05--20-16-56_10 brake\n",
      "b0c9d2329ad1606b|2018-10-05--20-16-56_10 dist\n",
      "b0c9d2329ad1606b|2018-10-05--20-16-56_10 gas\n",
      "b0c9d2329ad1606b|2018-10-05--20-16-56_10 image\n"
     ]
    },
    {
     "name": "stderr",
     "output_type": "stream",
     "text": [
      " 53%|█████▎    | 38/72 [09:23<08:24, 14.83s/it]"
     ]
    },
    {
     "name": "stdout",
     "output_type": "stream",
     "text": [
      "b0c9d2329ad1606b|2018-10-05--20-16-56_10 time\n",
      "b0c9d2329ad1606b|2018-10-05--20-16-56_10 vEgo\n",
      "b0c9d2329ad1606b|2018-10-05--20-16-56_11 angle\n",
      "b0c9d2329ad1606b|2018-10-05--20-16-56_11 brake\n",
      "b0c9d2329ad1606b|2018-10-05--20-16-56_11 dist\n",
      "b0c9d2329ad1606b|2018-10-05--20-16-56_11 gas\n",
      "b0c9d2329ad1606b|2018-10-05--20-16-56_11 image\n"
     ]
    },
    {
     "name": "stderr",
     "output_type": "stream",
     "text": [
      " 54%|█████▍    | 39/72 [09:39<08:20, 15.16s/it]"
     ]
    },
    {
     "name": "stdout",
     "output_type": "stream",
     "text": [
      "b0c9d2329ad1606b|2018-10-05--20-16-56_11 time\n",
      "b0c9d2329ad1606b|2018-10-05--20-16-56_11 vEgo\n",
      "b0c9d2329ad1606b|2018-10-05--20-16-56_12 angle\n",
      "b0c9d2329ad1606b|2018-10-05--20-16-56_12 brake\n",
      "b0c9d2329ad1606b|2018-10-05--20-16-56_12 dist\n",
      "b0c9d2329ad1606b|2018-10-05--20-16-56_12 gas\n",
      "b0c9d2329ad1606b|2018-10-05--20-16-56_12 image\n"
     ]
    },
    {
     "name": "stderr",
     "output_type": "stream",
     "text": [
      " 56%|█████▌    | 40/72 [09:55<08:16, 15.52s/it]"
     ]
    },
    {
     "name": "stdout",
     "output_type": "stream",
     "text": [
      "b0c9d2329ad1606b|2018-10-05--20-16-56_12 time\n",
      "b0c9d2329ad1606b|2018-10-05--20-16-56_12 vEgo\n",
      "b0c9d2329ad1606b|2018-10-05--20-46-40_8 angle\n",
      "b0c9d2329ad1606b|2018-10-05--20-46-40_8 brake\n",
      "b0c9d2329ad1606b|2018-10-05--20-46-40_8 dist\n",
      "b0c9d2329ad1606b|2018-10-05--20-46-40_8 gas\n",
      "b0c9d2329ad1606b|2018-10-05--20-46-40_8 image\n"
     ]
    },
    {
     "name": "stderr",
     "output_type": "stream",
     "text": [
      " 57%|█████▋    | 41/72 [10:11<08:05, 15.66s/it]"
     ]
    },
    {
     "name": "stdout",
     "output_type": "stream",
     "text": [
      "b0c9d2329ad1606b|2018-10-05--20-46-40_8 time\n",
      "b0c9d2329ad1606b|2018-10-05--20-46-40_8 vEgo\n",
      "b0c9d2329ad1606b|2018-10-05--21-20-29_10 angle\n",
      "b0c9d2329ad1606b|2018-10-05--21-20-29_10 brake\n",
      "b0c9d2329ad1606b|2018-10-05--21-20-29_10 dist\n",
      "b0c9d2329ad1606b|2018-10-05--21-20-29_10 gas\n",
      "b0c9d2329ad1606b|2018-10-05--21-20-29_10 image\n"
     ]
    },
    {
     "name": "stderr",
     "output_type": "stream",
     "text": [
      " 58%|█████▊    | 42/72 [10:28<08:01, 16.06s/it]"
     ]
    },
    {
     "name": "stdout",
     "output_type": "stream",
     "text": [
      "b0c9d2329ad1606b|2018-10-05--21-20-29_10 time\n",
      "b0c9d2329ad1606b|2018-10-05--21-20-29_10 vEgo\n",
      "b0c9d2329ad1606b|2018-10-05--21-20-29_8 angle\n",
      "b0c9d2329ad1606b|2018-10-05--21-20-29_8 brake\n",
      "b0c9d2329ad1606b|2018-10-05--21-20-29_8 dist\n",
      "b0c9d2329ad1606b|2018-10-05--21-20-29_8 gas\n",
      "b0c9d2329ad1606b|2018-10-05--21-20-29_8 image\n"
     ]
    },
    {
     "name": "stderr",
     "output_type": "stream",
     "text": [
      " 60%|█████▉    | 43/72 [10:45<07:50, 16.24s/it]"
     ]
    },
    {
     "name": "stdout",
     "output_type": "stream",
     "text": [
      "b0c9d2329ad1606b|2018-10-05--21-20-29_8 time\n",
      "b0c9d2329ad1606b|2018-10-05--21-20-29_8 vEgo\n",
      "b0c9d2329ad1606b|2018-10-05--21-20-29_9 angle\n",
      "b0c9d2329ad1606b|2018-10-05--21-20-29_9 brake\n",
      "b0c9d2329ad1606b|2018-10-05--21-20-29_9 dist\n",
      "b0c9d2329ad1606b|2018-10-05--21-20-29_9 gas\n",
      "b0c9d2329ad1606b|2018-10-05--21-20-29_9 image\n"
     ]
    },
    {
     "name": "stderr",
     "output_type": "stream",
     "text": [
      " 61%|██████    | 44/72 [11:01<07:31, 16.14s/it]"
     ]
    },
    {
     "name": "stdout",
     "output_type": "stream",
     "text": [
      "b0c9d2329ad1606b|2018-10-05--21-20-29_9 time\n",
      "b0c9d2329ad1606b|2018-10-05--21-20-29_9 vEgo\n",
      "b0c9d2329ad1606b|2018-10-05--22-20-31_15 angle\n",
      "b0c9d2329ad1606b|2018-10-05--22-20-31_15 brake\n",
      "b0c9d2329ad1606b|2018-10-05--22-20-31_15 dist\n",
      "b0c9d2329ad1606b|2018-10-05--22-20-31_15 gas\n",
      "b0c9d2329ad1606b|2018-10-05--22-20-31_15 image\n"
     ]
    },
    {
     "name": "stderr",
     "output_type": "stream",
     "text": [
      " 62%|██████▎   | 45/72 [11:19<07:31, 16.72s/it]"
     ]
    },
    {
     "name": "stdout",
     "output_type": "stream",
     "text": [
      "b0c9d2329ad1606b|2018-10-05--22-20-31_15 time\n",
      "b0c9d2329ad1606b|2018-10-05--22-20-31_15 vEgo\n",
      "b0c9d2329ad1606b|2018-10-09--14-06-32_11 angle\n",
      "b0c9d2329ad1606b|2018-10-09--14-06-32_11 brake\n",
      "b0c9d2329ad1606b|2018-10-09--14-06-32_11 dist\n",
      "b0c9d2329ad1606b|2018-10-09--14-06-32_11 gas\n",
      "b0c9d2329ad1606b|2018-10-09--14-06-32_11 image\n"
     ]
    },
    {
     "name": "stderr",
     "output_type": "stream",
     "text": [
      " 64%|██████▍   | 46/72 [11:32<06:50, 15.77s/it]"
     ]
    },
    {
     "name": "stdout",
     "output_type": "stream",
     "text": [
      "b0c9d2329ad1606b|2018-10-09--14-06-32_11 time\n",
      "b0c9d2329ad1606b|2018-10-09--14-06-32_11 vEgo\n",
      "b0c9d2329ad1606b|2018-10-09--14-06-32_12 angle\n",
      "b0c9d2329ad1606b|2018-10-09--14-06-32_12 brake\n",
      "b0c9d2329ad1606b|2018-10-09--14-06-32_12 dist\n",
      "b0c9d2329ad1606b|2018-10-09--14-06-32_12 gas\n",
      "b0c9d2329ad1606b|2018-10-09--14-06-32_12 image\n"
     ]
    },
    {
     "name": "stderr",
     "output_type": "stream",
     "text": [
      " 65%|██████▌   | 47/72 [11:46<06:17, 15.09s/it]"
     ]
    },
    {
     "name": "stdout",
     "output_type": "stream",
     "text": [
      "b0c9d2329ad1606b|2018-10-09--14-06-32_12 time\n",
      "b0c9d2329ad1606b|2018-10-09--14-06-32_12 vEgo\n",
      "b0c9d2329ad1606b|2018-10-09--14-06-32_13 angle\n",
      "b0c9d2329ad1606b|2018-10-09--14-06-32_13 brake\n",
      "b0c9d2329ad1606b|2018-10-09--14-06-32_13 dist\n",
      "b0c9d2329ad1606b|2018-10-09--14-06-32_13 gas\n",
      "b0c9d2329ad1606b|2018-10-09--14-06-32_13 image\n"
     ]
    },
    {
     "name": "stderr",
     "output_type": "stream",
     "text": [
      " 67%|██████▋   | 48/72 [12:00<05:52, 14.70s/it]"
     ]
    },
    {
     "name": "stdout",
     "output_type": "stream",
     "text": [
      "b0c9d2329ad1606b|2018-10-09--14-06-32_13 time\n",
      "b0c9d2329ad1606b|2018-10-09--14-06-32_13 vEgo\n",
      "b0c9d2329ad1606b|2018-10-09--14-06-32_15 angle\n",
      "b0c9d2329ad1606b|2018-10-09--14-06-32_15 brake\n",
      "b0c9d2329ad1606b|2018-10-09--14-06-32_15 dist\n",
      "b0c9d2329ad1606b|2018-10-09--14-06-32_15 gas\n",
      "b0c9d2329ad1606b|2018-10-09--14-06-32_15 image\n"
     ]
    },
    {
     "name": "stderr",
     "output_type": "stream",
     "text": [
      " 68%|██████▊   | 49/72 [12:14<05:33, 14.48s/it]"
     ]
    },
    {
     "name": "stdout",
     "output_type": "stream",
     "text": [
      "b0c9d2329ad1606b|2018-10-09--14-06-32_15 time\n",
      "b0c9d2329ad1606b|2018-10-09--14-06-32_15 vEgo\n",
      "b0c9d2329ad1606b|2018-10-09--14-06-32_17 angle\n",
      "b0c9d2329ad1606b|2018-10-09--14-06-32_17 brake\n",
      "b0c9d2329ad1606b|2018-10-09--14-06-32_17 dist\n",
      "b0c9d2329ad1606b|2018-10-09--14-06-32_17 gas\n",
      "b0c9d2329ad1606b|2018-10-09--14-06-32_17 image\n"
     ]
    },
    {
     "name": "stderr",
     "output_type": "stream",
     "text": [
      " 69%|██████▉   | 50/72 [12:29<05:26, 14.86s/it]"
     ]
    },
    {
     "name": "stdout",
     "output_type": "stream",
     "text": [
      "b0c9d2329ad1606b|2018-10-09--14-06-32_17 time\n",
      "b0c9d2329ad1606b|2018-10-09--14-06-32_17 vEgo\n",
      "b0c9d2329ad1606b|2018-10-09--15-48-37_15 angle\n",
      "b0c9d2329ad1606b|2018-10-09--15-48-37_15 brake\n",
      "b0c9d2329ad1606b|2018-10-09--15-48-37_15 dist\n",
      "b0c9d2329ad1606b|2018-10-09--15-48-37_15 gas\n",
      "b0c9d2329ad1606b|2018-10-09--15-48-37_15 image\n"
     ]
    },
    {
     "name": "stderr",
     "output_type": "stream",
     "text": [
      " 71%|███████   | 51/72 [12:44<05:12, 14.88s/it]"
     ]
    },
    {
     "name": "stdout",
     "output_type": "stream",
     "text": [
      "b0c9d2329ad1606b|2018-10-09--15-48-37_15 time\n",
      "b0c9d2329ad1606b|2018-10-09--15-48-37_15 vEgo\n",
      "b0c9d2329ad1606b|2018-10-09--15-48-37_16 angle\n",
      "b0c9d2329ad1606b|2018-10-09--15-48-37_16 brake\n",
      "b0c9d2329ad1606b|2018-10-09--15-48-37_16 dist\n",
      "b0c9d2329ad1606b|2018-10-09--15-48-37_16 gas\n",
      "b0c9d2329ad1606b|2018-10-09--15-48-37_16 image\n"
     ]
    },
    {
     "name": "stderr",
     "output_type": "stream",
     "text": [
      " 72%|███████▏  | 52/72 [12:59<04:54, 14.73s/it]"
     ]
    },
    {
     "name": "stdout",
     "output_type": "stream",
     "text": [
      "b0c9d2329ad1606b|2018-10-09--15-48-37_16 time\n",
      "b0c9d2329ad1606b|2018-10-09--15-48-37_16 vEgo\n",
      "b0c9d2329ad1606b|2018-10-09--15-48-37_17 angle\n",
      "b0c9d2329ad1606b|2018-10-09--15-48-37_17 brake\n",
      "b0c9d2329ad1606b|2018-10-09--15-48-37_17 dist\n",
      "b0c9d2329ad1606b|2018-10-09--15-48-37_17 gas\n",
      "b0c9d2329ad1606b|2018-10-09--15-48-37_17 image\n"
     ]
    },
    {
     "name": "stderr",
     "output_type": "stream",
     "text": [
      " 74%|███████▎  | 53/72 [13:12<04:33, 14.41s/it]"
     ]
    },
    {
     "name": "stdout",
     "output_type": "stream",
     "text": [
      "b0c9d2329ad1606b|2018-10-09--15-48-37_17 time\n",
      "b0c9d2329ad1606b|2018-10-09--15-48-37_17 vEgo\n",
      "b0c9d2329ad1606b|2018-10-09--15-48-37_18 angle\n",
      "b0c9d2329ad1606b|2018-10-09--15-48-37_18 brake\n",
      "b0c9d2329ad1606b|2018-10-09--15-48-37_18 dist\n",
      "b0c9d2329ad1606b|2018-10-09--15-48-37_18 gas\n",
      "b0c9d2329ad1606b|2018-10-09--15-48-37_18 image\n"
     ]
    },
    {
     "name": "stderr",
     "output_type": "stream",
     "text": [
      " 75%|███████▌  | 54/72 [13:25<04:11, 13.95s/it]"
     ]
    },
    {
     "name": "stdout",
     "output_type": "stream",
     "text": [
      "b0c9d2329ad1606b|2018-10-09--15-48-37_18 time\n",
      "b0c9d2329ad1606b|2018-10-09--15-48-37_18 vEgo\n",
      "b0c9d2329ad1606b|2018-10-09--15-48-37_19 angle\n",
      "b0c9d2329ad1606b|2018-10-09--15-48-37_19 brake\n",
      "b0c9d2329ad1606b|2018-10-09--15-48-37_19 dist\n",
      "b0c9d2329ad1606b|2018-10-09--15-48-37_19 gas\n",
      "b0c9d2329ad1606b|2018-10-09--15-48-37_19 image\n"
     ]
    },
    {
     "name": "stderr",
     "output_type": "stream",
     "text": [
      " 76%|███████▋  | 55/72 [13:38<03:50, 13.54s/it]"
     ]
    },
    {
     "name": "stdout",
     "output_type": "stream",
     "text": [
      "b0c9d2329ad1606b|2018-10-09--15-48-37_19 time\n",
      "b0c9d2329ad1606b|2018-10-09--15-48-37_19 vEgo\n",
      "b0c9d2329ad1606b|2018-10-09--15-48-37_20 angle\n",
      "b0c9d2329ad1606b|2018-10-09--15-48-37_20 brake\n",
      "b0c9d2329ad1606b|2018-10-09--15-48-37_20 dist\n",
      "b0c9d2329ad1606b|2018-10-09--15-48-37_20 gas\n",
      "b0c9d2329ad1606b|2018-10-09--15-48-37_20 image\n"
     ]
    },
    {
     "name": "stderr",
     "output_type": "stream",
     "text": [
      " 78%|███████▊  | 56/72 [13:51<03:35, 13.48s/it]"
     ]
    },
    {
     "name": "stdout",
     "output_type": "stream",
     "text": [
      "b0c9d2329ad1606b|2018-10-09--15-48-37_20 time\n",
      "b0c9d2329ad1606b|2018-10-09--15-48-37_20 vEgo\n",
      "b0c9d2329ad1606b|2018-10-09--15-48-37_21 angle\n",
      "b0c9d2329ad1606b|2018-10-09--15-48-37_21 brake\n",
      "b0c9d2329ad1606b|2018-10-09--15-48-37_21 dist\n",
      "b0c9d2329ad1606b|2018-10-09--15-48-37_21 gas\n",
      "b0c9d2329ad1606b|2018-10-09--15-48-37_21 image\n"
     ]
    },
    {
     "name": "stderr",
     "output_type": "stream",
     "text": [
      " 79%|███████▉  | 57/72 [14:05<03:22, 13.49s/it]"
     ]
    },
    {
     "name": "stdout",
     "output_type": "stream",
     "text": [
      "b0c9d2329ad1606b|2018-10-09--15-48-37_21 time\n",
      "b0c9d2329ad1606b|2018-10-09--15-48-37_21 vEgo\n",
      "b0c9d2329ad1606b|2018-10-09--15-48-37_23 angle\n",
      "b0c9d2329ad1606b|2018-10-09--15-48-37_23 brake\n",
      "b0c9d2329ad1606b|2018-10-09--15-48-37_23 dist\n",
      "b0c9d2329ad1606b|2018-10-09--15-48-37_23 gas\n",
      "b0c9d2329ad1606b|2018-10-09--15-48-37_23 image\n"
     ]
    },
    {
     "name": "stderr",
     "output_type": "stream",
     "text": [
      " 81%|████████  | 58/72 [14:19<03:12, 13.78s/it]"
     ]
    },
    {
     "name": "stdout",
     "output_type": "stream",
     "text": [
      "b0c9d2329ad1606b|2018-10-09--15-48-37_23 time\n",
      "b0c9d2329ad1606b|2018-10-09--15-48-37_23 vEgo\n",
      "b0c9d2329ad1606b|2018-10-19--22-01-05_4 angle\n",
      "b0c9d2329ad1606b|2018-10-19--22-01-05_4 brake\n",
      "b0c9d2329ad1606b|2018-10-19--22-01-05_4 dist\n",
      "b0c9d2329ad1606b|2018-10-19--22-01-05_4 gas\n",
      "b0c9d2329ad1606b|2018-10-19--22-01-05_4 image\n"
     ]
    },
    {
     "name": "stderr",
     "output_type": "stream",
     "text": [
      " 82%|████████▏ | 59/72 [14:35<03:08, 14.49s/it]"
     ]
    },
    {
     "name": "stdout",
     "output_type": "stream",
     "text": [
      "b0c9d2329ad1606b|2018-10-19--22-01-05_4 time\n",
      "b0c9d2329ad1606b|2018-10-19--22-01-05_4 vEgo\n",
      "b0c9d2329ad1606b|2018-10-22--11-21-08_30 angle\n",
      "b0c9d2329ad1606b|2018-10-22--11-21-08_30 brake\n",
      "b0c9d2329ad1606b|2018-10-22--11-21-08_30 dist\n",
      "b0c9d2329ad1606b|2018-10-22--11-21-08_30 gas\n",
      "b0c9d2329ad1606b|2018-10-22--11-21-08_30 image\n"
     ]
    },
    {
     "name": "stderr",
     "output_type": "stream",
     "text": [
      " 83%|████████▎ | 60/72 [14:48<02:48, 14.07s/it]"
     ]
    },
    {
     "name": "stdout",
     "output_type": "stream",
     "text": [
      "b0c9d2329ad1606b|2018-10-22--11-21-08_30 time\n",
      "b0c9d2329ad1606b|2018-10-22--11-21-08_30 vEgo\n",
      "b0c9d2329ad1606b|2018-10-22--11-21-08_31 angle\n",
      "b0c9d2329ad1606b|2018-10-22--11-21-08_31 brake\n",
      "b0c9d2329ad1606b|2018-10-22--11-21-08_31 dist\n",
      "b0c9d2329ad1606b|2018-10-22--11-21-08_31 gas\n",
      "b0c9d2329ad1606b|2018-10-22--11-21-08_31 image\n"
     ]
    },
    {
     "name": "stderr",
     "output_type": "stream",
     "text": [
      " 85%|████████▍ | 61/72 [15:01<02:30, 13.68s/it]"
     ]
    },
    {
     "name": "stdout",
     "output_type": "stream",
     "text": [
      "b0c9d2329ad1606b|2018-10-22--11-21-08_31 time\n",
      "b0c9d2329ad1606b|2018-10-22--11-21-08_31 vEgo\n",
      "b0c9d2329ad1606b|2018-10-22--11-21-08_32 angle\n",
      "b0c9d2329ad1606b|2018-10-22--11-21-08_32 brake\n",
      "b0c9d2329ad1606b|2018-10-22--11-21-08_32 dist\n",
      "b0c9d2329ad1606b|2018-10-22--11-21-08_32 gas\n",
      "b0c9d2329ad1606b|2018-10-22--11-21-08_32 image\n"
     ]
    },
    {
     "name": "stderr",
     "output_type": "stream",
     "text": [
      " 86%|████████▌ | 62/72 [15:14<02:14, 13.40s/it]"
     ]
    },
    {
     "name": "stdout",
     "output_type": "stream",
     "text": [
      "b0c9d2329ad1606b|2018-10-22--11-21-08_32 time\n",
      "b0c9d2329ad1606b|2018-10-22--11-21-08_32 vEgo\n",
      "b0c9d2329ad1606b|2018-10-22--11-21-08_33 angle\n",
      "b0c9d2329ad1606b|2018-10-22--11-21-08_33 brake\n",
      "b0c9d2329ad1606b|2018-10-22--11-21-08_33 dist\n",
      "b0c9d2329ad1606b|2018-10-22--11-21-08_33 gas\n",
      "b0c9d2329ad1606b|2018-10-22--11-21-08_33 image\n"
     ]
    },
    {
     "name": "stderr",
     "output_type": "stream",
     "text": [
      " 88%|████████▊ | 63/72 [15:26<01:57, 13.08s/it]"
     ]
    },
    {
     "name": "stdout",
     "output_type": "stream",
     "text": [
      "b0c9d2329ad1606b|2018-10-22--11-21-08_33 time\n",
      "b0c9d2329ad1606b|2018-10-22--11-21-08_33 vEgo\n",
      "b0c9d2329ad1606b|2018-10-22--11-21-08_34 angle\n",
      "b0c9d2329ad1606b|2018-10-22--11-21-08_34 brake\n",
      "b0c9d2329ad1606b|2018-10-22--11-21-08_34 dist\n",
      "b0c9d2329ad1606b|2018-10-22--11-21-08_34 gas\n",
      "b0c9d2329ad1606b|2018-10-22--11-21-08_34 image\n"
     ]
    },
    {
     "name": "stderr",
     "output_type": "stream",
     "text": [
      " 89%|████████▉ | 64/72 [15:39<01:43, 12.95s/it]"
     ]
    },
    {
     "name": "stdout",
     "output_type": "stream",
     "text": [
      "b0c9d2329ad1606b|2018-10-22--11-21-08_34 time\n",
      "b0c9d2329ad1606b|2018-10-22--11-21-08_34 vEgo\n",
      "b0c9d2329ad1606b|2018-10-22--11-21-08_36 angle\n",
      "b0c9d2329ad1606b|2018-10-22--11-21-08_36 brake\n",
      "b0c9d2329ad1606b|2018-10-22--11-21-08_36 dist\n",
      "b0c9d2329ad1606b|2018-10-22--11-21-08_36 gas\n",
      "b0c9d2329ad1606b|2018-10-22--11-21-08_36 image\n"
     ]
    },
    {
     "name": "stderr",
     "output_type": "stream",
     "text": [
      " 90%|█████████ | 65/72 [15:51<01:28, 12.64s/it]"
     ]
    },
    {
     "name": "stdout",
     "output_type": "stream",
     "text": [
      "b0c9d2329ad1606b|2018-10-22--11-21-08_36 time\n",
      "b0c9d2329ad1606b|2018-10-22--11-21-08_36 vEgo\n",
      "b0c9d2329ad1606b|2018-10-22--11-21-08_37 angle\n",
      "b0c9d2329ad1606b|2018-10-22--11-21-08_37 brake\n",
      "b0c9d2329ad1606b|2018-10-22--11-21-08_37 dist\n",
      "b0c9d2329ad1606b|2018-10-22--11-21-08_37 gas\n",
      "b0c9d2329ad1606b|2018-10-22--11-21-08_37 image\n"
     ]
    },
    {
     "name": "stderr",
     "output_type": "stream",
     "text": [
      " 92%|█████████▏| 66/72 [16:04<01:16, 12.78s/it]"
     ]
    },
    {
     "name": "stdout",
     "output_type": "stream",
     "text": [
      "b0c9d2329ad1606b|2018-10-22--11-21-08_37 time\n",
      "b0c9d2329ad1606b|2018-10-22--11-21-08_37 vEgo\n",
      "b0c9d2329ad1606b|2018-10-22--11-21-08_38 angle\n",
      "b0c9d2329ad1606b|2018-10-22--11-21-08_38 brake\n",
      "b0c9d2329ad1606b|2018-10-22--11-21-08_38 dist\n",
      "b0c9d2329ad1606b|2018-10-22--11-21-08_38 gas\n",
      "b0c9d2329ad1606b|2018-10-22--11-21-08_38 image\n"
     ]
    },
    {
     "name": "stderr",
     "output_type": "stream",
     "text": [
      " 93%|█████████▎| 67/72 [16:18<01:05, 13.09s/it]"
     ]
    },
    {
     "name": "stdout",
     "output_type": "stream",
     "text": [
      "b0c9d2329ad1606b|2018-10-22--11-21-08_38 time\n",
      "b0c9d2329ad1606b|2018-10-22--11-21-08_38 vEgo\n",
      "b0c9d2329ad1606b|2018-11-11--13-08-44_16 angle\n",
      "b0c9d2329ad1606b|2018-11-11--13-08-44_16 brake\n",
      "b0c9d2329ad1606b|2018-11-11--13-08-44_16 dist\n",
      "b0c9d2329ad1606b|2018-11-11--13-08-44_16 gas\n",
      "b0c9d2329ad1606b|2018-11-11--13-08-44_16 image\n"
     ]
    },
    {
     "name": "stderr",
     "output_type": "stream",
     "text": [
      " 94%|█████████▍| 68/72 [16:30<00:51, 12.86s/it]"
     ]
    },
    {
     "name": "stdout",
     "output_type": "stream",
     "text": [
      "b0c9d2329ad1606b|2018-11-11--13-08-44_16 time\n",
      "b0c9d2329ad1606b|2018-11-11--13-08-44_16 vEgo\n",
      "b0c9d2329ad1606b|2018-11-11--13-08-44_17 angle\n",
      "b0c9d2329ad1606b|2018-11-11--13-08-44_17 brake\n",
      "b0c9d2329ad1606b|2018-11-11--13-08-44_17 dist\n",
      "b0c9d2329ad1606b|2018-11-11--13-08-44_17 gas\n",
      "b0c9d2329ad1606b|2018-11-11--13-08-44_17 image\n"
     ]
    },
    {
     "name": "stderr",
     "output_type": "stream",
     "text": [
      " 96%|█████████▌| 69/72 [16:43<00:38, 12.81s/it]"
     ]
    },
    {
     "name": "stdout",
     "output_type": "stream",
     "text": [
      "b0c9d2329ad1606b|2018-11-11--13-08-44_17 time\n",
      "b0c9d2329ad1606b|2018-11-11--13-08-44_17 vEgo\n",
      "b0c9d2329ad1606b|2018-11-11--13-08-44_18 angle\n",
      "b0c9d2329ad1606b|2018-11-11--13-08-44_18 brake\n",
      "b0c9d2329ad1606b|2018-11-11--13-08-44_18 dist\n",
      "b0c9d2329ad1606b|2018-11-11--13-08-44_18 gas\n",
      "b0c9d2329ad1606b|2018-11-11--13-08-44_18 image\n"
     ]
    },
    {
     "name": "stderr",
     "output_type": "stream",
     "text": [
      " 97%|█████████▋| 70/72 [16:55<00:25, 12.71s/it]"
     ]
    },
    {
     "name": "stdout",
     "output_type": "stream",
     "text": [
      "b0c9d2329ad1606b|2018-11-11--13-08-44_18 time\n",
      "b0c9d2329ad1606b|2018-11-11--13-08-44_18 vEgo\n",
      "b0c9d2329ad1606b|2018-11-11--13-08-44_19 angle\n",
      "b0c9d2329ad1606b|2018-11-11--13-08-44_19 brake\n",
      "b0c9d2329ad1606b|2018-11-11--13-08-44_19 dist\n",
      "b0c9d2329ad1606b|2018-11-11--13-08-44_19 gas\n",
      "b0c9d2329ad1606b|2018-11-11--13-08-44_19 image\n"
     ]
    },
    {
     "name": "stderr",
     "output_type": "stream",
     "text": [
      " 99%|█████████▊| 71/72 [17:08<00:12, 12.61s/it]"
     ]
    },
    {
     "name": "stdout",
     "output_type": "stream",
     "text": [
      "b0c9d2329ad1606b|2018-11-11--13-08-44_19 time\n",
      "b0c9d2329ad1606b|2018-11-11--13-08-44_19 vEgo\n",
      "b0c9d2329ad1606b|2018-11-11--13-08-44_23 angle\n",
      "b0c9d2329ad1606b|2018-11-11--13-08-44_23 brake\n",
      "b0c9d2329ad1606b|2018-11-11--13-08-44_23 dist\n",
      "b0c9d2329ad1606b|2018-11-11--13-08-44_23 gas\n",
      "b0c9d2329ad1606b|2018-11-11--13-08-44_23 image\n"
     ]
    },
    {
     "name": "stderr",
     "output_type": "stream",
     "text": [
      "100%|██████████| 72/72 [17:21<00:00, 14.46s/it]"
     ]
    },
    {
     "name": "stdout",
     "output_type": "stream",
     "text": [
      "b0c9d2329ad1606b|2018-11-11--13-08-44_23 time\n",
      "b0c9d2329ad1606b|2018-11-11--13-08-44_23 vEgo\n"
     ]
    },
    {
     "name": "stderr",
     "output_type": "stream",
     "text": [
      "\n"
     ]
    }
   ],
   "source": [
    "for key in tqdm(keys3):\n",
    "    data = h5_file3[key]\n",
    "    group  = h.create_group(key)\n",
    "    for col in data.keys():\n",
    "        print(key,col)\n",
    "        dt = np.float32 if col != 'image' else int#\n",
    "        dataset_name = col #groups are divided by '/'\n",
    "        a = data[col]\n",
    "        group.create_dataset(dataset_name, data = a, compression_opts=6, compression='gzip')"
   ]
  },
  {
   "cell_type": "code",
   "execution_count": 31,
   "metadata": {},
   "outputs": [
    {
     "data": {
      "text/plain": [
       "(229, 229)"
      ]
     },
     "execution_count": 31,
     "metadata": {},
     "output_type": "execute_result"
    }
   ],
   "source": [
    "len(h.keys()), len(keys)+ len(keys2)+ len(keys3)+ len(keys4)"
   ]
  },
  {
   "cell_type": "code",
   "execution_count": 30,
   "metadata": {},
   "outputs": [
    {
     "name": "stderr",
     "output_type": "stream",
     "text": [
      "100%|██████████| 229/229 [00:00<00:00, 25874.03it/s]\n"
     ]
    }
   ],
   "source": [
    "for key in tqdm(h.keys()):\n",
    "    data = h[key]\n",
    "    if not (len(data.keys()) >= 5): \n",
    "        print(key, data.keys())"
   ]
  },
  {
   "cell_type": "code",
   "execution_count": 27,
   "metadata": {},
   "outputs": [],
   "source": [
    "data = h5_file4['99c94dc769b5d96e|2018-05-13--20-53-38_29']\n",
    "data_new = h['99c94dc769b5d96e|2018-05-13--20-53-38_29']"
   ]
  },
  {
   "cell_type": "code",
   "execution_count": 28,
   "metadata": {},
   "outputs": [
    {
     "name": "stdout",
     "output_type": "stream",
     "text": [
      "b0c9d2329ad1606b|2018-11-11--13-08-44_23 image\n",
      "b0c9d2329ad1606b|2018-11-11--13-08-44_23 time\n",
      "b0c9d2329ad1606b|2018-11-11--13-08-44_23 vEgo\n"
     ]
    }
   ],
   "source": [
    "for col in data.keys():\n",
    "    if col in ['angle', 'brake', 'dist', 'gas']: continue\n",
    "    print(key,col)\n",
    "    dt = np.float32 if col != 'image' else int#\n",
    "    dataset_name = col #groups are divided by '/'\n",
    "    a = data[col]\n",
    "    data_new.create_dataset(dataset_name, data = a, compression_opts=6, compression='gzip')"
   ]
  },
  {
   "cell_type": "code",
   "execution_count": 29,
   "metadata": {},
   "outputs": [
    {
     "data": {
      "text/plain": [
       "<HDF5 group \"/99c94dc769b5d96e|2018-05-13--20-53-38_29\" (7 members)>"
      ]
     },
     "execution_count": 29,
     "metadata": {},
     "output_type": "execute_result"
    }
   ],
   "source": [
    "data_new = h['99c94dc769b5d96e|2018-05-13--20-53-38_29']\n",
    "data_new"
   ]
  },
  {
   "cell_type": "code",
   "execution_count": 16,
   "metadata": {},
   "outputs": [
    {
     "name": "stderr",
     "output_type": "stream",
     "text": [
      "  0%|          | 0/84 [00:00<?, ?it/s]"
     ]
    },
    {
     "name": "stdout",
     "output_type": "stream",
     "text": [
      "99c94dc769b5d96e|2018-05-13--20-53-38_30 angle\n",
      "99c94dc769b5d96e|2018-05-13--20-53-38_30 brake\n",
      "99c94dc769b5d96e|2018-05-13--20-53-38_30 dist\n",
      "99c94dc769b5d96e|2018-05-13--20-53-38_30 gas\n",
      "99c94dc769b5d96e|2018-05-13--20-53-38_30 image\n"
     ]
    },
    {
     "name": "stderr",
     "output_type": "stream",
     "text": [
      " 69%|██████▉   | 58/84 [00:16<00:07,  3.58it/s]"
     ]
    },
    {
     "name": "stdout",
     "output_type": "stream",
     "text": [
      "99c94dc769b5d96e|2018-05-13--20-53-38_30 time\n",
      "99c94dc769b5d96e|2018-05-13--20-53-38_30 vEgo\n",
      "99c94dc769b5d96e|2018-05-13--20-53-38_31 angle\n",
      "99c94dc769b5d96e|2018-05-13--20-53-38_31 brake\n",
      "99c94dc769b5d96e|2018-05-13--20-53-38_31 dist\n",
      "99c94dc769b5d96e|2018-05-13--20-53-38_31 gas\n",
      "99c94dc769b5d96e|2018-05-13--20-53-38_31 image\n"
     ]
    },
    {
     "name": "stderr",
     "output_type": "stream",
     "text": [
      " 70%|███████   | 59/84 [00:32<00:16,  1.52it/s]"
     ]
    },
    {
     "name": "stdout",
     "output_type": "stream",
     "text": [
      "99c94dc769b5d96e|2018-05-13--20-53-38_31 time\n",
      "99c94dc769b5d96e|2018-05-13--20-53-38_31 vEgo\n",
      "99c94dc769b5d96e|2018-05-13--20-53-38_32 angle\n",
      "99c94dc769b5d96e|2018-05-13--20-53-38_32 brake\n",
      "99c94dc769b5d96e|2018-05-13--20-53-38_32 dist\n",
      "99c94dc769b5d96e|2018-05-13--20-53-38_32 gas\n",
      "99c94dc769b5d96e|2018-05-13--20-53-38_32 image\n"
     ]
    },
    {
     "name": "stderr",
     "output_type": "stream",
     "text": [
      " 71%|███████▏  | 60/84 [00:48<00:27,  1.17s/it]"
     ]
    },
    {
     "name": "stdout",
     "output_type": "stream",
     "text": [
      "99c94dc769b5d96e|2018-05-13--20-53-38_32 time\n",
      "99c94dc769b5d96e|2018-05-13--20-53-38_32 vEgo\n",
      "99c94dc769b5d96e|2018-05-13--20-53-38_33 angle\n",
      "99c94dc769b5d96e|2018-05-13--20-53-38_33 brake\n",
      "99c94dc769b5d96e|2018-05-13--20-53-38_33 dist\n",
      "99c94dc769b5d96e|2018-05-13--20-53-38_33 gas\n",
      "99c94dc769b5d96e|2018-05-13--20-53-38_33 image\n"
     ]
    },
    {
     "name": "stderr",
     "output_type": "stream",
     "text": [
      " 73%|███████▎  | 61/84 [01:05<00:43,  1.89s/it]"
     ]
    },
    {
     "name": "stdout",
     "output_type": "stream",
     "text": [
      "99c94dc769b5d96e|2018-05-13--20-53-38_33 time\n",
      "99c94dc769b5d96e|2018-05-13--20-53-38_33 vEgo\n",
      "99c94dc769b5d96e|2018-05-13--20-53-38_34 angle\n",
      "99c94dc769b5d96e|2018-05-13--20-53-38_34 brake\n",
      "99c94dc769b5d96e|2018-05-13--20-53-38_34 dist\n",
      "99c94dc769b5d96e|2018-05-13--20-53-38_34 gas\n",
      "99c94dc769b5d96e|2018-05-13--20-53-38_34 image\n"
     ]
    },
    {
     "name": "stderr",
     "output_type": "stream",
     "text": [
      " 74%|███████▍  | 62/84 [01:21<01:01,  2.78s/it]"
     ]
    },
    {
     "name": "stdout",
     "output_type": "stream",
     "text": [
      "99c94dc769b5d96e|2018-05-13--20-53-38_34 time\n",
      "99c94dc769b5d96e|2018-05-13--20-53-38_34 vEgo\n",
      "99c94dc769b5d96e|2018-05-18--10-58-35_27 angle\n",
      "99c94dc769b5d96e|2018-05-18--10-58-35_27 brake\n",
      "99c94dc769b5d96e|2018-05-18--10-58-35_27 dist\n",
      "99c94dc769b5d96e|2018-05-18--10-58-35_27 gas\n",
      "99c94dc769b5d96e|2018-05-18--10-58-35_27 image\n"
     ]
    },
    {
     "name": "stderr",
     "output_type": "stream",
     "text": [
      " 75%|███████▌  | 63/84 [01:34<01:15,  3.58s/it]"
     ]
    },
    {
     "name": "stdout",
     "output_type": "stream",
     "text": [
      "99c94dc769b5d96e|2018-05-18--10-58-35_27 time\n",
      "99c94dc769b5d96e|2018-05-18--10-58-35_27 vEgo\n",
      "99c94dc769b5d96e|2018-05-18--10-58-35_29 angle\n",
      "99c94dc769b5d96e|2018-05-18--10-58-35_29 brake\n",
      "99c94dc769b5d96e|2018-05-18--10-58-35_29 dist\n",
      "99c94dc769b5d96e|2018-05-18--10-58-35_29 gas\n",
      "99c94dc769b5d96e|2018-05-18--10-58-35_29 image\n"
     ]
    },
    {
     "name": "stderr",
     "output_type": "stream",
     "text": [
      " 76%|███████▌  | 64/84 [01:47<01:30,  4.55s/it]"
     ]
    },
    {
     "name": "stdout",
     "output_type": "stream",
     "text": [
      "99c94dc769b5d96e|2018-05-18--10-58-35_29 time\n",
      "99c94dc769b5d96e|2018-05-18--10-58-35_29 vEgo\n",
      "99c94dc769b5d96e|2018-05-18--10-58-35_31 angle\n",
      "99c94dc769b5d96e|2018-05-18--10-58-35_31 brake\n",
      "99c94dc769b5d96e|2018-05-18--10-58-35_31 dist\n",
      "99c94dc769b5d96e|2018-05-18--10-58-35_31 gas\n",
      "99c94dc769b5d96e|2018-05-18--10-58-35_31 image\n"
     ]
    },
    {
     "name": "stderr",
     "output_type": "stream",
     "text": [
      " 77%|███████▋  | 65/84 [02:01<01:49,  5.78s/it]"
     ]
    },
    {
     "name": "stdout",
     "output_type": "stream",
     "text": [
      "99c94dc769b5d96e|2018-05-18--10-58-35_31 time\n",
      "99c94dc769b5d96e|2018-05-18--10-58-35_31 vEgo\n",
      "99c94dc769b5d96e|2018-05-18--10-58-35_33 angle\n",
      "99c94dc769b5d96e|2018-05-18--10-58-35_33 brake\n",
      "99c94dc769b5d96e|2018-05-18--10-58-35_33 dist\n",
      "99c94dc769b5d96e|2018-05-18--10-58-35_33 gas\n",
      "99c94dc769b5d96e|2018-05-18--10-58-35_33 image\n"
     ]
    },
    {
     "name": "stderr",
     "output_type": "stream",
     "text": [
      " 79%|███████▊  | 66/84 [02:16<02:07,  7.06s/it]"
     ]
    },
    {
     "name": "stdout",
     "output_type": "stream",
     "text": [
      "99c94dc769b5d96e|2018-05-18--10-58-35_33 time\n",
      "99c94dc769b5d96e|2018-05-18--10-58-35_33 vEgo\n",
      "99c94dc769b5d96e|2018-05-18--16-00-42_52 angle\n",
      "99c94dc769b5d96e|2018-05-18--16-00-42_52 brake\n",
      "99c94dc769b5d96e|2018-05-18--16-00-42_52 dist\n",
      "99c94dc769b5d96e|2018-05-18--16-00-42_52 gas\n",
      "99c94dc769b5d96e|2018-05-18--16-00-42_52 image\n"
     ]
    },
    {
     "name": "stderr",
     "output_type": "stream",
     "text": [
      " 80%|███████▉  | 67/84 [02:30<02:21,  8.31s/it]"
     ]
    },
    {
     "name": "stdout",
     "output_type": "stream",
     "text": [
      "99c94dc769b5d96e|2018-05-18--16-00-42_52 time\n",
      "99c94dc769b5d96e|2018-05-18--16-00-42_52 vEgo\n",
      "99c94dc769b5d96e|2018-05-18--16-00-42_53 angle\n",
      "99c94dc769b5d96e|2018-05-18--16-00-42_53 brake\n",
      "99c94dc769b5d96e|2018-05-18--16-00-42_53 dist\n",
      "99c94dc769b5d96e|2018-05-18--16-00-42_53 gas\n",
      "99c94dc769b5d96e|2018-05-18--16-00-42_53 image\n"
     ]
    },
    {
     "name": "stderr",
     "output_type": "stream",
     "text": [
      " 81%|████████  | 68/84 [02:43<02:29,  9.37s/it]"
     ]
    },
    {
     "name": "stdout",
     "output_type": "stream",
     "text": [
      "99c94dc769b5d96e|2018-05-18--16-00-42_53 time\n",
      "99c94dc769b5d96e|2018-05-18--16-00-42_53 vEgo\n",
      "99c94dc769b5d96e|2018-05-18--16-00-42_55 angle\n",
      "99c94dc769b5d96e|2018-05-18--16-00-42_55 brake\n",
      "99c94dc769b5d96e|2018-05-18--16-00-42_55 dist\n",
      "99c94dc769b5d96e|2018-05-18--16-00-42_55 gas\n",
      "99c94dc769b5d96e|2018-05-18--16-00-42_55 image\n"
     ]
    },
    {
     "name": "stderr",
     "output_type": "stream",
     "text": [
      " 82%|████████▏ | 69/84 [02:56<02:31, 10.12s/it]"
     ]
    },
    {
     "name": "stdout",
     "output_type": "stream",
     "text": [
      "99c94dc769b5d96e|2018-05-18--16-00-42_55 time\n",
      "99c94dc769b5d96e|2018-05-18--16-00-42_55 vEgo\n",
      "99c94dc769b5d96e|2018-05-18--16-00-42_56 angle\n",
      "99c94dc769b5d96e|2018-05-18--16-00-42_56 brake\n",
      "99c94dc769b5d96e|2018-05-18--16-00-42_56 dist\n",
      "99c94dc769b5d96e|2018-05-18--16-00-42_56 gas\n",
      "99c94dc769b5d96e|2018-05-18--16-00-42_56 image\n"
     ]
    },
    {
     "name": "stderr",
     "output_type": "stream",
     "text": [
      " 83%|████████▎ | 70/84 [03:08<02:30, 10.78s/it]"
     ]
    },
    {
     "name": "stdout",
     "output_type": "stream",
     "text": [
      "99c94dc769b5d96e|2018-05-18--16-00-42_56 time\n",
      "99c94dc769b5d96e|2018-05-18--16-00-42_56 vEgo\n",
      "99c94dc769b5d96e|2018-05-18--16-00-42_57 angle\n",
      "99c94dc769b5d96e|2018-05-18--16-00-42_57 brake\n",
      "99c94dc769b5d96e|2018-05-18--16-00-42_57 dist\n",
      "99c94dc769b5d96e|2018-05-18--16-00-42_57 gas\n",
      "99c94dc769b5d96e|2018-05-18--16-00-42_57 image\n"
     ]
    },
    {
     "name": "stderr",
     "output_type": "stream",
     "text": [
      " 85%|████████▍ | 71/84 [03:22<02:27, 11.37s/it]"
     ]
    },
    {
     "name": "stdout",
     "output_type": "stream",
     "text": [
      "99c94dc769b5d96e|2018-05-18--16-00-42_57 time\n",
      "99c94dc769b5d96e|2018-05-18--16-00-42_57 vEgo\n",
      "99c94dc769b5d96e|2018-05-18--16-00-42_58 angle\n",
      "99c94dc769b5d96e|2018-05-18--16-00-42_58 brake\n",
      "99c94dc769b5d96e|2018-05-18--16-00-42_58 dist\n",
      "99c94dc769b5d96e|2018-05-18--16-00-42_58 gas\n",
      "99c94dc769b5d96e|2018-05-18--16-00-42_58 image\n"
     ]
    },
    {
     "name": "stderr",
     "output_type": "stream",
     "text": [
      " 86%|████████▌ | 72/84 [03:35<02:21, 11.81s/it]"
     ]
    },
    {
     "name": "stdout",
     "output_type": "stream",
     "text": [
      "99c94dc769b5d96e|2018-05-18--16-00-42_58 time\n",
      "99c94dc769b5d96e|2018-05-18--16-00-42_58 vEgo\n",
      "99c94dc769b5d96e|2018-05-18--16-00-42_59 angle\n",
      "99c94dc769b5d96e|2018-05-18--16-00-42_59 brake\n",
      "99c94dc769b5d96e|2018-05-18--16-00-42_59 dist\n",
      "99c94dc769b5d96e|2018-05-18--16-00-42_59 gas\n",
      "99c94dc769b5d96e|2018-05-18--16-00-42_59 image\n"
     ]
    },
    {
     "name": "stderr",
     "output_type": "stream",
     "text": [
      " 87%|████████▋ | 73/84 [03:48<02:13, 12.14s/it]"
     ]
    },
    {
     "name": "stdout",
     "output_type": "stream",
     "text": [
      "99c94dc769b5d96e|2018-05-18--16-00-42_59 time\n",
      "99c94dc769b5d96e|2018-05-18--16-00-42_59 vEgo\n",
      "99c94dc769b5d96e|2018-05-18--16-00-42_60 angle\n",
      "99c94dc769b5d96e|2018-05-18--16-00-42_60 brake\n",
      "99c94dc769b5d96e|2018-05-18--16-00-42_60 dist\n",
      "99c94dc769b5d96e|2018-05-18--16-00-42_60 gas\n",
      "99c94dc769b5d96e|2018-05-18--16-00-42_60 image\n"
     ]
    },
    {
     "name": "stderr",
     "output_type": "stream",
     "text": [
      " 88%|████████▊ | 74/84 [04:00<02:02, 12.28s/it]"
     ]
    },
    {
     "name": "stdout",
     "output_type": "stream",
     "text": [
      "99c94dc769b5d96e|2018-05-18--16-00-42_60 time\n",
      "99c94dc769b5d96e|2018-05-18--16-00-42_60 vEgo\n",
      "99c94dc769b5d96e|2018-05-18--16-00-42_61 angle\n",
      "99c94dc769b5d96e|2018-05-18--16-00-42_61 brake\n",
      "99c94dc769b5d96e|2018-05-18--16-00-42_61 dist\n",
      "99c94dc769b5d96e|2018-05-18--16-00-42_61 gas\n",
      "99c94dc769b5d96e|2018-05-18--16-00-42_61 image\n"
     ]
    },
    {
     "name": "stderr",
     "output_type": "stream",
     "text": [
      " 89%|████████▉ | 75/84 [04:13<01:52, 12.47s/it]"
     ]
    },
    {
     "name": "stdout",
     "output_type": "stream",
     "text": [
      "99c94dc769b5d96e|2018-05-18--16-00-42_61 time\n",
      "99c94dc769b5d96e|2018-05-18--16-00-42_61 vEgo\n",
      "99c94dc769b5d96e|2018-05-18--16-00-42_62 angle\n",
      "99c94dc769b5d96e|2018-05-18--16-00-42_62 brake\n",
      "99c94dc769b5d96e|2018-05-18--16-00-42_62 dist\n",
      "99c94dc769b5d96e|2018-05-18--16-00-42_62 gas\n",
      "99c94dc769b5d96e|2018-05-18--16-00-42_62 image\n"
     ]
    },
    {
     "name": "stderr",
     "output_type": "stream",
     "text": [
      " 90%|█████████ | 76/84 [04:26<01:40, 12.52s/it]"
     ]
    },
    {
     "name": "stdout",
     "output_type": "stream",
     "text": [
      "99c94dc769b5d96e|2018-05-18--16-00-42_62 time\n",
      "99c94dc769b5d96e|2018-05-18--16-00-42_62 vEgo\n",
      "99c94dc769b5d96e|2018-05-18--16-00-42_63 angle\n",
      "99c94dc769b5d96e|2018-05-18--16-00-42_63 brake\n",
      "99c94dc769b5d96e|2018-05-18--16-00-42_63 dist\n",
      "99c94dc769b5d96e|2018-05-18--16-00-42_63 gas\n",
      "99c94dc769b5d96e|2018-05-18--16-00-42_63 image\n"
     ]
    },
    {
     "name": "stderr",
     "output_type": "stream",
     "text": [
      " 92%|█████████▏| 77/84 [04:38<01:27, 12.43s/it]"
     ]
    },
    {
     "name": "stdout",
     "output_type": "stream",
     "text": [
      "99c94dc769b5d96e|2018-05-18--16-00-42_63 time\n",
      "99c94dc769b5d96e|2018-05-18--16-00-42_63 vEgo\n",
      "99c94dc769b5d96e|2018-05-18--16-00-42_64 angle\n",
      "99c94dc769b5d96e|2018-05-18--16-00-42_64 brake\n",
      "99c94dc769b5d96e|2018-05-18--16-00-42_64 dist\n",
      "99c94dc769b5d96e|2018-05-18--16-00-42_64 gas\n",
      "99c94dc769b5d96e|2018-05-18--16-00-42_64 image\n"
     ]
    },
    {
     "name": "stderr",
     "output_type": "stream",
     "text": [
      " 93%|█████████▎| 78/84 [04:50<01:13, 12.31s/it]"
     ]
    },
    {
     "name": "stdout",
     "output_type": "stream",
     "text": [
      "99c94dc769b5d96e|2018-05-18--16-00-42_64 time\n",
      "99c94dc769b5d96e|2018-05-18--16-00-42_64 vEgo\n",
      "99c94dc769b5d96e|2018-05-18--16-00-42_66 angle\n",
      "99c94dc769b5d96e|2018-05-18--16-00-42_66 brake\n",
      "99c94dc769b5d96e|2018-05-18--16-00-42_66 dist\n",
      "99c94dc769b5d96e|2018-05-18--16-00-42_66 gas\n",
      "99c94dc769b5d96e|2018-05-18--16-00-42_66 image\n"
     ]
    },
    {
     "name": "stderr",
     "output_type": "stream",
     "text": [
      " 94%|█████████▍| 79/84 [05:02<01:01, 12.31s/it]"
     ]
    },
    {
     "name": "stdout",
     "output_type": "stream",
     "text": [
      "99c94dc769b5d96e|2018-05-18--16-00-42_66 time\n",
      "99c94dc769b5d96e|2018-05-18--16-00-42_66 vEgo\n",
      "99c94dc769b5d96e|2018-05-18--16-00-42_67 angle\n",
      "99c94dc769b5d96e|2018-05-18--16-00-42_67 brake\n",
      "99c94dc769b5d96e|2018-05-18--16-00-42_67 dist\n",
      "99c94dc769b5d96e|2018-05-18--16-00-42_67 gas\n",
      "99c94dc769b5d96e|2018-05-18--16-00-42_67 image\n"
     ]
    },
    {
     "name": "stderr",
     "output_type": "stream",
     "text": [
      " 95%|█████████▌| 80/84 [05:15<00:50, 12.52s/it]"
     ]
    },
    {
     "name": "stdout",
     "output_type": "stream",
     "text": [
      "99c94dc769b5d96e|2018-05-18--16-00-42_67 time\n",
      "99c94dc769b5d96e|2018-05-18--16-00-42_67 vEgo\n",
      "99c94dc769b5d96e|2018-05-18--16-00-42_68 angle\n",
      "99c94dc769b5d96e|2018-05-18--16-00-42_68 brake\n",
      "99c94dc769b5d96e|2018-05-18--16-00-42_68 dist\n",
      "99c94dc769b5d96e|2018-05-18--16-00-42_68 gas\n",
      "99c94dc769b5d96e|2018-05-18--16-00-42_68 image\n"
     ]
    },
    {
     "name": "stderr",
     "output_type": "stream",
     "text": [
      " 96%|█████████▋| 81/84 [05:29<00:38, 12.78s/it]"
     ]
    },
    {
     "name": "stdout",
     "output_type": "stream",
     "text": [
      "99c94dc769b5d96e|2018-05-18--16-00-42_68 time\n",
      "99c94dc769b5d96e|2018-05-18--16-00-42_68 vEgo\n",
      "99c94dc769b5d96e|2018-05-18--16-00-42_69 angle\n",
      "99c94dc769b5d96e|2018-05-18--16-00-42_69 brake\n",
      "99c94dc769b5d96e|2018-05-18--16-00-42_69 dist\n",
      "99c94dc769b5d96e|2018-05-18--16-00-42_69 gas\n",
      "99c94dc769b5d96e|2018-05-18--16-00-42_69 image\n"
     ]
    },
    {
     "name": "stderr",
     "output_type": "stream",
     "text": [
      " 98%|█████████▊| 82/84 [05:42<00:26, 13.01s/it]"
     ]
    },
    {
     "name": "stdout",
     "output_type": "stream",
     "text": [
      "99c94dc769b5d96e|2018-05-18--16-00-42_69 time\n",
      "99c94dc769b5d96e|2018-05-18--16-00-42_69 vEgo\n",
      "99c94dc769b5d96e|2018-05-18--16-00-42_72 angle\n",
      "99c94dc769b5d96e|2018-05-18--16-00-42_72 brake\n",
      "99c94dc769b5d96e|2018-05-18--16-00-42_72 dist\n",
      "99c94dc769b5d96e|2018-05-18--16-00-42_72 gas\n",
      "99c94dc769b5d96e|2018-05-18--16-00-42_72 image\n"
     ]
    },
    {
     "name": "stderr",
     "output_type": "stream",
     "text": [
      " 99%|█████████▉| 83/84 [05:57<00:13, 13.38s/it]"
     ]
    },
    {
     "name": "stdout",
     "output_type": "stream",
     "text": [
      "99c94dc769b5d96e|2018-05-18--16-00-42_72 time\n",
      "99c94dc769b5d96e|2018-05-18--16-00-42_72 vEgo\n",
      "99c94dc769b5d96e|2018-06-02--21-21-45_21 angle\n",
      "99c94dc769b5d96e|2018-06-02--21-21-45_21 brake\n",
      "99c94dc769b5d96e|2018-06-02--21-21-45_21 dist\n",
      "99c94dc769b5d96e|2018-06-02--21-21-45_21 gas\n",
      "99c94dc769b5d96e|2018-06-02--21-21-45_21 image\n"
     ]
    },
    {
     "name": "stderr",
     "output_type": "stream",
     "text": [
      "100%|██████████| 84/84 [06:12<00:00,  4.44s/it]"
     ]
    },
    {
     "name": "stdout",
     "output_type": "stream",
     "text": [
      "99c94dc769b5d96e|2018-06-02--21-21-45_21 time\n",
      "99c94dc769b5d96e|2018-06-02--21-21-45_21 vEgo\n"
     ]
    },
    {
     "name": "stderr",
     "output_type": "stream",
     "text": [
      "\n"
     ]
    }
   ],
   "source": [
    "for key in tqdm(keys4):\n",
    "    data = h5_file4[key]\n",
    "    if key != '99c94dc769b5d96e|2018-05-13--20-53-38_29': \n",
    "        continue\n",
    "    group  = h.create_group(key)\n",
    "    for col in data.keys():\n",
    "        if col in ['angle', 'brake', 'dist', 'gas']: continue\n",
    "        print(key,col)\n",
    "        dt = np.float32 if col != 'image' else int#\n",
    "        dataset_name = col #groups are divided by '/'\n",
    "        a = data[col]\n",
    "        group.create_dataset(dataset_name, data = a, compression_opts=6, compression='gzip')"
   ]
  },
  {
   "cell_type": "code",
   "execution_count": 32,
   "metadata": {},
   "outputs": [],
   "source": [
    "h.close()"
   ]
  },
  {
   "cell_type": "code",
   "execution_count": 33,
   "metadata": {},
   "outputs": [],
   "source": [
    "data_path = \"/data1/jessica/data/toyota/comma_val_filtered.h5py\"\n",
    "\n",
    "h5_file = h5py.File(data_path, \"r\")\n",
    "keys = list(h5_file.keys())"
   ]
  },
  {
   "cell_type": "code",
   "execution_count": 34,
   "metadata": {},
   "outputs": [
    {
     "data": {
      "text/plain": [
       "['1',\n",
       " '15',\n",
       " '19',\n",
       " '2',\n",
       " '20',\n",
       " '3',\n",
       " '5',\n",
       " '6',\n",
       " '99c94dc769b5d96e|2018-05-01--08-13-53',\n",
       " '99c94dc769b5d96e|2018-05-01--10-47-27',\n",
       " '99c94dc769b5d96e|2018-05-05--11-09-01',\n",
       " '99c94dc769b5d96e|2018-05-13--12-07-39',\n",
       " '99c94dc769b5d96e|2018-05-13--20-53-38',\n",
       " '99c94dc769b5d96e|2018-05-18--16-00-42',\n",
       " 'b0c9d2329ad1606b|2018-08-18--18-20-55',\n",
       " 'b0c9d2329ad1606b|2018-08-24--18-40-57',\n",
       " 'b0c9d2329ad1606b|2018-09-21--23-18-39',\n",
       " 'b0c9d2329ad1606b|2018-10-05--21-20-29',\n",
       " 'b0c9d2329ad1606b|2018-10-05--22-20-31',\n",
       " 'b0c9d2329ad1606b|2018-10-09--14-06-32',\n",
       " 'b0c9d2329ad1606b|2018-10-09--15-48-37',\n",
       " 'b0c9d2329ad1606b|2018-10-19--22-01-05',\n",
       " 'b0c9d2329ad1606b|2018-11-11--13-08-44']"
      ]
     },
     "execution_count": 34,
     "metadata": {},
     "output_type": "execute_result"
    }
   ],
   "source": [
    "keys"
   ]
  },
  {
   "cell_type": "code",
   "execution_count": null,
   "metadata": {},
   "outputs": [],
   "source": []
  }
 ],
 "metadata": {
  "kernelspec": {
   "display_name": "Python 3",
   "language": "python",
   "name": "python3"
  },
  "language_info": {
   "codemirror_mode": {
    "name": "ipython",
    "version": 3
   },
   "file_extension": ".py",
   "mimetype": "text/x-python",
   "name": "python",
   "nbconvert_exporter": "python",
   "pygments_lexer": "ipython3",
   "version": "3.10.6"
  },
  "orig_nbformat": 4,
  "vscode": {
   "interpreter": {
    "hash": "31f2aee4e71d21fbe5cf8b01ff0e069b9275f58929596ceb00d14d90e3e16cd6"
   }
  }
 },
 "nbformat": 4,
 "nbformat_minor": 2
}
