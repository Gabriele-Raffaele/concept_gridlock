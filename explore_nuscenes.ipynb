{
 "cells": [
  {
   "cell_type": "code",
   "execution_count": 2,
   "metadata": {},
   "outputs": [],
   "source": [
    "import h5py \n",
    "import numpy as np \n",
    "import pandas as pd"
   ]
  },
  {
   "cell_type": "code",
   "execution_count": 3,
   "metadata": {},
   "outputs": [],
   "source": [
    "p = '/data1/shared/jessica/data1/data/toyota/nuscenes/test_mini_nuscenes.hfd5'\n"
   ]
  },
  {
   "cell_type": "code",
   "execution_count": 10,
   "metadata": {},
   "outputs": [
    {
     "name": "stdout",
     "output_type": "stream",
     "text": [
      "Keys: <KeysViewHDF5 ['scene-0061', 'scene-0103', 'scene-0553', 'scene-0655', 'scene-0757', 'scene-0796', 'scene-0916', 'scene-1077', 'scene-1094', 'scene-1100']>\n",
      "<KeysViewHDF5 ['available_distance', 'battery_level', 'brake', 'brake_switch', 'description', 'gear_position', 'image', 'left_signal', 'rear_left_rpm', 'rear_right_rpm', 'right_signal', 'steering', 'steering_speed', 'throttle', 'utime', 'vehicle_speed', 'yaw_rate']>\n",
      "[  3.    3.6   3.5   4.    6.5  23.8  45.8  87.6  98.9 112.7 117.1 105.6\n",
      "  74.6  67.9  21.7   2.4   5.6  79.3 123.8]\n",
      "<KeysViewHDF5 ['available_distance', 'battery_level', 'brake', 'brake_switch', 'description', 'gear_position', 'image', 'left_signal', 'rear_left_rpm', 'rear_right_rpm', 'right_signal', 'steering', 'steering_speed', 'throttle', 'utime', 'vehicle_speed', 'yaw_rate']>\n",
      "[-17.7 -15.7 -15.2  -6.9   1.7  -1.1  -1.1  -1.1  -3.2   4.3   1.4   0.6\n",
      "  -2.   -2.6  -0.6  -0.6   2.1   1.5   1.1]\n",
      "<KeysViewHDF5 ['available_distance', 'battery_level', 'brake', 'brake_switch', 'description', 'gear_position', 'image', 'left_signal', 'rear_left_rpm', 'rear_right_rpm', 'right_signal', 'steering', 'steering_speed', 'throttle', 'utime', 'vehicle_speed', 'yaw_rate']>\n",
      "[15.5 15.  14.7 14.6 14.6 14.6 14.6 14.7 14.7 14.8 14.8 14.8 14.8 14.8\n",
      " 14.8 14.9 14.9 14.9 15. ]\n",
      "<KeysViewHDF5 ['available_distance', 'battery_level', 'brake', 'brake_switch', 'description', 'gear_position', 'image', 'left_signal', 'rear_left_rpm', 'rear_right_rpm', 'right_signal', 'steering', 'steering_speed', 'throttle', 'utime', 'vehicle_speed', 'yaw_rate']>\n",
      "[ 1.   1.7  1.8  1.8  0.3 -4.7 -4.1  0.3  2.7  7.5  5.  -4.7 -6.9 -0.7\n",
      " -0.3 -0.1  2.   2.4  2.8]\n",
      "<KeysViewHDF5 ['available_distance', 'battery_level', 'brake', 'brake_switch', 'description', 'gear_position', 'image', 'left_signal', 'rear_left_rpm', 'rear_right_rpm', 'right_signal', 'steering', 'steering_speed', 'throttle', 'utime', 'vehicle_speed', 'yaw_rate']>\n",
      "[ -8.6 -11.6 -32.8  -5.6  -2.8 -34.9 -48.6 -67.7 -70.6 -70.2 -70.1 -69.9\n",
      " -69.7 -69.7 -69.5 -69.  -68.7 -68.4 -68.2 -68.2]\n",
      "<KeysViewHDF5 ['available_distance', 'battery_level', 'brake', 'brake_switch', 'description', 'gear_position', 'image', 'left_signal', 'rear_left_rpm', 'rear_right_rpm', 'right_signal', 'steering', 'steering_speed', 'throttle', 'utime', 'vehicle_speed', 'yaw_rate']>\n",
      "[-2.7  1.5  2.2  3.6  1.2  1.3  3.7  1.8 -1.  -1.1  1.3  2.6 -1.2 -1.\n",
      " -0.4 -0.5  1.1 -0.6 -0.3 -0.8]\n",
      "<KeysViewHDF5 ['available_distance', 'battery_level', 'brake', 'brake_switch', 'description', 'gear_position', 'image', 'left_signal', 'rear_left_rpm', 'rear_right_rpm', 'right_signal', 'steering', 'steering_speed', 'throttle', 'utime', 'vehicle_speed', 'yaw_rate']>\n",
      "[-192.9 -170.6  -95.3  -28.1  -27.7  -71.7 -162.  -218.  -269.1 -111.6\n",
      "   -5.5    3.8   -7.8   -4.7   -3.3    7.4   63.5  151.3  247.1  249. ]\n",
      "<KeysViewHDF5 ['available_distance', 'battery_level', 'brake', 'brake_switch', 'description', 'gear_position', 'image', 'left_signal', 'rear_left_rpm', 'rear_right_rpm', 'right_signal', 'steering', 'steering_speed', 'throttle', 'utime', 'vehicle_speed', 'yaw_rate']>\n",
      "[173.7 126.7  27.1   3.9   2.2   0.3  -0.2   0.7   0.8  -0.3  -0.4   0.3\n",
      "   4.1   6.    6.    2.8   2.9   1.2  -2.2  -4.2]\n",
      "<KeysViewHDF5 ['available_distance', 'battery_level', 'brake', 'brake_switch', 'description', 'gear_position', 'image', 'left_signal', 'rear_left_rpm', 'rear_right_rpm', 'right_signal', 'steering', 'steering_speed', 'throttle', 'utime', 'vehicle_speed', 'yaw_rate']>\n",
      "[-1.170e+01 -1.170e+01 -1.100e+01 -5.400e+00  2.050e+01  1.925e+02\n",
      "  3.118e+02  2.703e+02  6.000e+01  1.730e+01  1.220e+01  5.500e+00\n",
      " -1.500e+00 -1.700e+00  3.000e-01  9.000e-01  9.000e-01  8.000e-01\n",
      "  5.000e-01  1.400e+00]\n",
      "<KeysViewHDF5 ['available_distance', 'battery_level', 'brake', 'brake_switch', 'description', 'gear_position', 'image', 'left_signal', 'rear_left_rpm', 'rear_right_rpm', 'right_signal', 'steering', 'steering_speed', 'throttle', 'utime', 'vehicle_speed', 'yaw_rate']>\n",
      "[-291.8 -291.9 -291.8 -291.8 -291.8 -291.8 -291.8 -291.8 -291.8 -291.8\n",
      " -293.  -293.7 -293.7 -293.9 -293.9 -293.9 -293.9 -293.8 -293.9 -293.9]\n"
     ]
    }
   ],
   "source": [
    "\n",
    "with h5py.File(p, \"r\") as f:\n",
    "    # Print all root level object names (aka keys) \n",
    "    # these can be group or dataset names \n",
    "    print(\"Keys: %s\" % f.keys())\n",
    "    # get first object name/key; may or may NOT be a group\n",
    "    for i in range(len(list(f.keys()))):\n",
    "        a_group_key = list(f.keys())[i]\n",
    "\n",
    "        # get the object type for a_group_key: usually group or dataset\n",
    "\n",
    "        # If a_group_key is a group name, \n",
    "        # this gets the object names in the group and returns as a list\n",
    "        data = list(f[a_group_key])\n",
    "\n",
    "        # If a_group_key is a dataset name, \n",
    "        # this gets the dataset values and returns as a list\n",
    "        data = list(f[a_group_key])\n",
    "        # preferred methods to get dataset values:\n",
    "        ds_obj = f[a_group_key]      # returns as a h5py dataset object\n",
    "        ds_arr = f[a_group_key]['steering'][()]\n",
    "        print(f[a_group_key].keys())\n",
    "        print(ds_arr)\n",
    "        "
   ]
  },
  {
   "cell_type": "code",
   "execution_count": null,
   "metadata": {},
   "outputs": [],
   "source": []
  },
  {
   "cell_type": "code",
   "execution_count": null,
   "metadata": {},
   "outputs": [],
   "source": []
  }
 ],
 "metadata": {
  "kernelspec": {
   "display_name": "base",
   "language": "python",
   "name": "base"
  },
  "language_info": {
   "codemirror_mode": {
    "name": "ipython",
    "version": 3
   },
   "file_extension": ".py",
   "mimetype": "text/x-python",
   "name": "python",
   "nbconvert_exporter": "python",
   "pygments_lexer": "ipython3",
   "version": "3.9.13"
  },
  "orig_nbformat": 4
 },
 "nbformat": 4,
 "nbformat_minor": 2
}
