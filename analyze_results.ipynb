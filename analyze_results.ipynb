{
 "cells": [
  {
   "cell_type": "code",
   "execution_count": 1,
   "metadata": {},
   "outputs": [
    {
     "name": "stderr",
     "output_type": "stream",
     "text": [
      "/home/jessica/.local/lib/python3.10/site-packages/tqdm/auto.py:22: TqdmWarning: IProgress not found. Please update jupyter and ipywidgets. See https://ipywidgets.readthedocs.io/en/stable/user_install.html\n",
      "  from .autonotebook import tqdm as notebook_tqdm\n",
      "/usr/lib/python3/dist-packages/pkg_resources/__init__.py:116: PkgResourcesDeprecationWarning: 0.1.43ubuntu1 is an invalid version and will not be supported in a future release\n",
      "  warnings.warn(\n",
      "/usr/lib/python3/dist-packages/pkg_resources/__init__.py:116: PkgResourcesDeprecationWarning: 1.1build1 is an invalid version and will not be supported in a future release\n",
      "  warnings.warn(\n"
     ]
    }
   ],
   "source": [
    "import pandas as pd\n",
    "import matplotlib.pyplot as plt \n",
    "import pytorch_lightning as pl\n",
    "from model import *\n",
    "from module import * \n",
    "from pytorch_lightning.callbacks.progress import TQDMProgressBar\n",
    "import torch \n",
    "from pytorch_lightning.callbacks.early_stopping import EarlyStopping\n",
    "import argparse\n",
    "import numpy as np\n",
    "from pytorch_lightning.callbacks import ModelCheckpoint\n",
    "from  pytorch_lightning.loggers.tensorboard import TensorBoardLogger"
   ]
  },
  {
   "attachments": {},
   "cell_type": "markdown",
   "metadata": {},
   "source": [
    "Analyze distance prediction error"
   ]
  },
  {
   "attachments": {},
   "cell_type": "markdown",
   "metadata": {},
   "source": [
    "Analyze error per person"
   ]
  },
  {
   "cell_type": "code",
   "execution_count": 2,
   "metadata": {},
   "outputs": [],
   "source": [
    "backbone = \"resnet\"\n",
    "dataset = \"comma\"\n",
    "bs = 1\n",
    "gpu_num = 2"
   ]
  },
  {
   "cell_type": "code",
   "execution_count": 3,
   "metadata": {},
   "outputs": [],
   "source": [
    "def mse_loss(input, target, mask, reduction=\"mean\"):\n",
    "        out = (input[~mask]-target[~mask])**2\n",
    "        return out.mean() if reduction == \"mean\" else out "
   ]
  },
  {
   "cell_type": "code",
   "execution_count": 58,
   "metadata": {},
   "outputs": [],
   "source": [
    "def calculate_loss(logits, angle, distance, multitask):\n",
    "        if multitask == \"multitask\":\n",
    "            logits_angle, logits_dist = logits\n",
    "            mask = distance.squeeze() == 0.0\n",
    "            loss_angle = torch.sqrt(mse_loss(logits_angle.squeeze(), angle.squeeze(), mask))\n",
    "            loss_distance = torch.sqrt(mse_loss(logits_dist.squeeze(), distance.squeeze(), mask))\n",
    "            loss = loss_angle, loss_distance\n",
    "            return loss_angle, loss_distance\n",
    "        elif multitask == \"angle\":\n",
    "            mask = distance.squeeze() == 0.0 \n",
    "            loss = torch.sqrt(mse_loss(logits.squeeze(), angle.squeeze(), mask))\n",
    "            return loss\n",
    "        elif multitask == \"distance\":\n",
    "            mask = (distance > 50)  | (distance == 0)\n",
    "            loss = torch.sqrt(mse_loss(logits.squeeze(), angle.squeeze(), mask))\n",
    "            return loss"
   ]
  },
  {
   "cell_type": "code",
   "execution_count": 67,
   "metadata": {},
   "outputs": [],
   "source": [
    "ckpt_pth_angle = f\"/data1/jessica/data/toyota/ckpts/COMMA/checkpoints_comma_angle/lightning_logs/version_17/checkpoints/epoch=21-step=1694.ckpt\"\n",
    "ckpt_pth_distance = f\"/data1/jessica/data/toyota/ckpts/COMMA/checkpoints_comma_distance/lightning_logs/version_40/checkpoints/epoch=39-step=1960.ckpt\"\n",
    "ckpt_pth_multitask = f\"/data1/jessica/data/toyota/ckpts/COMMA/checkpoints_comma_multitask/lightning_logs/version_23/checkpoints/epoch=31-step=2464.ckpt\""
   ]
  },
  {
   "cell_type": "code",
   "execution_count": 68,
   "metadata": {},
   "outputs": [],
   "source": [
    "p = '/data1/jessica/data/toyota/ckpts/COMMA/checkpoints_comma_distance/lightning_logs/version_49/dist.csv'\n",
    "df = pd.read_csv(p, header=None)"
   ]
  },
  {
   "cell_type": "code",
   "execution_count": 69,
   "metadata": {},
   "outputs": [],
   "source": [
    "df.columns = ['preds', 'targets']\n"
   ]
  },
  {
   "cell_type": "code",
   "execution_count": 70,
   "metadata": {},
   "outputs": [],
   "source": [
    "m = (df['targets'] > 40).astype(bool)  | (df['targets'] == 0).astype(bool) \n",
    "loss1 = torch.sqrt(mse_loss(torch.tensor(df['preds']),  torch.tensor(df['targets']), torch.tensor(m)))\n",
    "m = (df['targets'] > 50).astype(bool)  | (df['targets'] == 0).astype(bool) \n",
    "loss2 = torch.sqrt(mse_loss(torch.tensor(df['preds']),  torch.tensor(df['targets']), torch.tensor(m)))\n",
    "m = (df['targets'] > 60).astype(bool)  | (df['targets'] == 0).astype(bool) \n",
    "loss3 = torch.sqrt(mse_loss(torch.tensor(df['preds']),  torch.tensor(df['targets']), torch.tensor(m)))\n"
   ]
  },
  {
   "cell_type": "code",
   "execution_count": 71,
   "metadata": {},
   "outputs": [
    {
     "data": {
      "text/plain": [
       "(3.520562596060591, 3.7951675788970936, 5.254393132189306)"
      ]
     },
     "execution_count": 71,
     "metadata": {},
     "output_type": "execute_result"
    }
   ],
   "source": [
    "loss1.item(), loss2.item(), loss3.item()"
   ]
  },
  {
   "cell_type": "code",
   "execution_count": 78,
   "metadata": {},
   "outputs": [
    {
     "data": {
      "text/plain": [
       "Text(0, 0.5, 'RMSE')"
      ]
     },
     "execution_count": 78,
     "metadata": {},
     "output_type": "execute_result"
    },
    {
     "data": {
      "image/png": "[encoded data removed]",
      "text/plain": [
       "<Figure size 640x480 with 1 Axes>"
      ]
     },
     "metadata": {},
     "output_type": "display_data"
    }
   ],
   "source": [
    "plt.plot([\"<40\", \"<50\", \"<60\"], [loss1.item(), loss2.item(), loss3.item()])\n",
    "plt.xlabel(\"Distance\")\n",
    "plt.ylabel(\"RMSE\")"
   ]
  },
  {
   "cell_type": "code",
   "execution_count": 73,
   "metadata": {},
   "outputs": [],
   "source": [
    "res = {}"
   ]
  },
  {
   "cell_type": "code",
   "execution_count": 74,
   "metadata": {},
   "outputs": [
    {
     "name": "stderr",
     "output_type": "stream",
     "text": [
      "GPU available: True (cuda), used: True\n",
      "TPU available: False, using: 0 TPU cores\n",
      "IPU available: False, using: 0 IPUs\n",
      "HPU available: False, using: 0 HPUs\n",
      "Restoring states from the checkpoint path at /data1/jessica/data/toyota/ckpts/COMMA/checkpoints_comma_distance/lightning_logs/version_40/checkpoints/epoch=39-step=1960.ckpt\n",
      "LOCAL_RANK: 0 - CUDA_VISIBLE_DEVICES: [0,1,2,3]\n",
      "Loaded model weights from checkpoint at /data1/jessica/data/toyota/ckpts/COMMA/checkpoints_comma_distance/lightning_logs/version_40/checkpoints/epoch=39-step=1960.ckpt\n"
     ]
    },
    {
     "name": "stdout",
     "output_type": "stream",
     "text": [
      "Predicting DataLoader 0: 100%|██████████| 17/17 [00:06<00:00,  2.70it/s]\n",
      "[tensor(2.5980), tensor(1.3191), tensor(7.1274), tensor(4.8420), tensor(3.6090), tensor(6.4558), tensor(1.9857), tensor(3.1755), tensor(2.6144), tensor(2.7193), tensor(8.1562), tensor(9.5321), tensor(1.4479), tensor(3.6989), tensor(10.1534), tensor(5.4908), tensor(7.1448)]\n"
     ]
    },
    {
     "name": "stderr",
     "output_type": "stream",
     "text": [
      "GPU available: True (cuda), used: True\n",
      "TPU available: False, using: 0 TPU cores\n",
      "IPU available: False, using: 0 IPUs\n",
      "HPU available: False, using: 0 HPUs\n",
      "Restoring states from the checkpoint path at /data1/jessica/data/toyota/ckpts/COMMA/checkpoints_comma_angle/lightning_logs/version_17/checkpoints/epoch=21-step=1694.ckpt\n",
      "LOCAL_RANK: 0 - CUDA_VISIBLE_DEVICES: [0,1,2,3]\n",
      "Loaded model weights from checkpoint at /data1/jessica/data/toyota/ckpts/COMMA/checkpoints_comma_angle/lightning_logs/version_17/checkpoints/epoch=21-step=1694.ckpt\n"
     ]
    },
    {
     "name": "stdout",
     "output_type": "stream",
     "text": [
      "Predicting DataLoader 0: 100%|██████████| 17/17 [00:06<00:00,  2.81it/s]\n",
      "[tensor(0.6844), tensor(0.9178), tensor(1.0149), tensor(1.1460), tensor(0.9505), tensor(1.2840), tensor(1.2590), tensor(1.2418), tensor(1.4210), tensor(23.0161), tensor(1.0574), tensor(0.8291), tensor(2.9136), tensor(1.1343), tensor(1.0155), tensor(0.9547), tensor(0.9258)]\n"
     ]
    },
    {
     "name": "stderr",
     "output_type": "stream",
     "text": [
      "GPU available: True (cuda), used: True\n",
      "TPU available: False, using: 0 TPU cores\n",
      "IPU available: False, using: 0 IPUs\n",
      "HPU available: False, using: 0 HPUs\n",
      "Restoring states from the checkpoint path at /data1/jessica/data/toyota/ckpts/COMMA/checkpoints_comma_multitask/lightning_logs/version_23/checkpoints/epoch=31-step=2464.ckpt\n",
      "LOCAL_RANK: 0 - CUDA_VISIBLE_DEVICES: [0,1,2,3]\n",
      "Loaded model weights from checkpoint at /data1/jessica/data/toyota/ckpts/COMMA/checkpoints_comma_multitask/lightning_logs/version_23/checkpoints/epoch=31-step=2464.ckpt\n"
     ]
    },
    {
     "name": "stdout",
     "output_type": "stream",
     "text": [
      "Predicting DataLoader 0: 100%|██████████| 17/17 [00:06<00:00,  2.46it/s]\n",
      "[(tensor(0.5013), tensor(9.0443)), (tensor(0.7587), tensor(6.6789)), (tensor(1.1444), tensor(8.3457)), (tensor(1.0015), tensor(4.9579)), (tensor(1.1306), tensor(10.2125)), (tensor(1.4232), tensor(8.5848)), (tensor(1.0514), tensor(12.4867)), (tensor(1.4981), tensor(8.2965)), (tensor(0.9381), tensor(1.7110)), (tensor(22.4403), tensor(4.2770)), (tensor(0.8648), tensor(9.4183)), (tensor(0.9312), tensor(7.2483)), (tensor(1.5865), tensor(2.7828)), (tensor(1.0962), tensor(6.6330)), (tensor(1.0980), tensor(8.1372)), (tensor(0.8705), tensor(12.3708)), (tensor(1.0050), tensor(8.6351))]\n"
     ]
    }
   ],
   "source": [
    "\n",
    "for ckpt_path in [ckpt_pth_distance, ckpt_pth_angle, ckpt_pth_multitask]:\n",
    "    task = \"angle\" if 'angle' in ckpt_path else \"distance\" if \"distance\" in ckpt_path else \"multitask\"\n",
    "    multitask = task == 'multitask'\n",
    "    model = VTN(multitask=task, backbone=backbone)\n",
    "    module = LaneModule(model, multitask=task, dataset = dataset, bs=bs)\n",
    "    pth = f\"/data1/jessica/data/toyota/ckpts/COMMA/checkpoints_{dataset}_{task}\"\n",
    "    logger = TensorBoardLogger(save_dir=pth)\n",
    "    trainer = pl.Trainer(\n",
    "        accelerator=\"gpu\",\n",
    "        devices=[gpu_num] if torch.cuda.is_available() else None, \n",
    "        logger=logger,\n",
    "        max_epochs=100,\n",
    "        default_root_dir=pth\n",
    "        )\n",
    "    preds = trainer.predict(module, ckpt_path=ckpt_path)\n",
    "    rmses = []\n",
    "    for i in range(len(preds)):\n",
    "        elem = preds[i]\n",
    "        if multitask:\n",
    "            logits_angle, logits_distance = elem[0][0], elem[0][1]\n",
    "        logits, angle, distance = elem[0], elem[1].squeeze(), elem[2].squeeze()\n",
    "        if \"multitask\" in ckpt_path:\n",
    "            loss = calculate_loss(logits, angle, distance, multitask='multitask')  \n",
    "        if \"angle\" in ckpt_path:\n",
    "            loss = calculate_loss(logits, angle, distance, multitask=\"angle\") \n",
    "        if \"distance\" in ckpt_path:\n",
    "            distance = angle\n",
    "            loss = calculate_loss(logits, distance, distance, multitask=\"distance\")\n",
    "        rmses.append(loss.item())\n",
    "    res[task] = rmses\n",
    "    print(rmses)\n",
    "\n"
   ]
  },
  {
   "cell_type": "code",
   "execution_count": null,
   "metadata": {},
   "outputs": [
    {
     "data": {
      "text/plain": [
       "3"
      ]
     },
     "execution_count": 9,
     "metadata": {},
     "output_type": "execute_result"
    }
   ],
   "source": [
    "res"
   ]
  },
  {
   "cell_type": "code",
   "execution_count": null,
   "metadata": {},
   "outputs": [
    {
     "data": {
      "text/plain": [
       "torch.Size([1, 240, 1])"
      ]
     },
     "execution_count": 11,
     "metadata": {},
     "output_type": "execute_result"
    }
   ],
   "source": [
    "elem[0].shape"
   ]
  },
  {
   "cell_type": "code",
   "execution_count": null,
   "metadata": {},
   "outputs": [
    {
     "data": {
      "text/plain": [
       "{'training': False,\n",
       " '_parameters': OrderedDict([('cls_token',\n",
       "               Parameter containing:\n",
       "               tensor([[[ 0.7937,  1.6446,  0.3656, -0.1756,  0.2246, -0.6781,  0.2565,\n",
       "                          0.8124,  1.6880, -0.8343, -1.2828, -0.8146,  0.7771, -1.1102,\n",
       "                          1.0927, -1.3831,  0.8282, -0.3948, -0.1426,  1.7068,  0.4686,\n",
       "                         -0.0844, -0.8961,  2.2091, -1.0886, -1.7599,  0.7016, -0.2040,\n",
       "                          0.8798, -0.6529, -0.0176,  1.6557,  1.8224,  0.2232, -1.5493,\n",
       "                          1.3789, -0.6326,  1.5271,  0.8420, -0.9933, -1.0374, -0.8634,\n",
       "                         -1.6956, -0.0685,  1.9449,  0.3525, -1.5532, -1.7001,  0.2100,\n",
       "                          1.2103, -1.1206,  1.0668,  1.7143,  0.3612,  1.1389, -0.3918,\n",
       "                         -0.2079, -0.9442, -0.2060, -0.2748, -0.2685,  0.3415, -2.1551,\n",
       "                          0.7559,  0.9115, -0.3086, -0.4386,  0.7349, -0.0901, -0.3486,\n",
       "                         -0.5962,  0.0890,  0.5272,  0.0193,  0.9984,  0.4643,  0.6903,\n",
       "                         -1.0129,  0.0457,  0.7754, -1.3776, -2.5856, -0.0678,  0.4895,\n",
       "                          1.3475,  0.3447, -0.8714, -0.0848, -0.7083,  0.1053, -1.1888,\n",
       "                          1.2217,  0.4005,  1.9421, -0.6365, -0.2666, -0.1729, -0.2290,\n",
       "                         -0.1476,  0.2393,  0.9091, -0.7244,  0.6743, -0.7460, -0.9720,\n",
       "                          0.9053, -1.4950,  1.8036,  0.3714, -1.1374,  1.8562,  1.9285,\n",
       "                         -0.7624, -0.5088, -0.0948, -1.6214,  0.0930, -2.8059,  0.2157,\n",
       "                         -1.0508,  0.5559, -1.7474,  0.8333, -1.0701, -0.4350,  1.6450,\n",
       "                          0.5506, -0.1211, -0.4894,  0.5813, -1.5171, -1.0813, -0.0079,\n",
       "                          0.4911, -0.8696,  0.4933, -0.5169, -0.0741, -0.1288, -0.3101,\n",
       "                         -0.7223,  1.3937,  1.0884,  1.3201,  0.5218,  0.2241,  0.4721,\n",
       "                         -0.2969, -2.4158, -0.3295, -0.1147, -0.6759, -0.7812, -0.9702,\n",
       "                          1.0465, -0.7944, -0.1649,  0.4615, -1.4131, -0.0438, -1.4962,\n",
       "                          0.5075, -1.3250, -0.7520, -1.3292,  0.0658,  0.6951,  0.6105,\n",
       "                          0.2714,  0.5115,  1.4192,  0.9057, -1.1701, -0.1562, -1.6878,\n",
       "                         -1.4885, -0.8792, -0.7838, -0.8584,  0.6951, -0.3940,  0.7665,\n",
       "                         -0.7041,  0.4483,  0.3497, -0.1549, -0.9419, -0.8052,  0.3781,\n",
       "                         -0.4338,  0.6876,  0.4031,  0.4935, -1.0860, -0.7924, -2.1205,\n",
       "                         -0.8746,  0.4928,  0.4432,  0.3655, -0.2124, -0.9032, -1.3092,\n",
       "                          0.6850,  0.7406,  2.0877,  0.1643, -0.2623,  0.1798, -0.5083,\n",
       "                          0.4657, -1.8507, -0.5768,  0.9854,  0.4106, -0.9066, -1.2195,\n",
       "                          1.0098,  0.5005, -0.5367, -0.9845,  2.8497, -0.0618, -0.6469,\n",
       "                         -0.0723, -1.3877,  1.3282, -1.8190,  0.6839,  0.9361, -2.0677,\n",
       "                         -0.0921, -0.1767, -1.1436,  0.5020,  0.5549, -0.8374, -1.7461,\n",
       "                         -1.0126,  0.6831,  1.3262, -0.2303, -1.5178, -1.2249,  0.0231,\n",
       "                         -1.3638, -0.8302,  1.9676,  0.8320, -1.5797,  0.4466,  2.1166,\n",
       "                         -2.7059,  1.6607,  1.3684,  0.5552,  2.2262,  0.9052, -0.0533,\n",
       "                         -1.7963,  0.0748, -0.5444, -0.9447,  1.2562,  1.6749,  1.5072,\n",
       "                         -1.1767, -0.9873,  0.2628,  0.1930,  0.3508, -0.5085,  0.9833,\n",
       "                         -0.2800,  1.1741, -0.5702,  0.6544,  0.1656, -0.5919, -0.3739,\n",
       "                          0.5570,  1.2615,  0.9757,  1.3305,  2.5601,  0.2005,  0.7642,\n",
       "                          1.4086,  0.3720,  0.0855,  0.5437, -0.6643,  0.4359, -0.0690,\n",
       "                          0.7850,  0.2740, -0.8864,  0.0367, -1.7458,  0.5898,  0.5945,\n",
       "                          0.5418, -2.0837, -1.4663,  0.2281,  1.6418, -0.9590,  0.3100,\n",
       "                         -1.3762,  0.2016, -0.9877, -0.9746, -1.0950,  1.7546,  1.6567,\n",
       "                         -3.7265, -0.5783,  1.5931,  0.2376, -0.7959, -0.9059,  0.0124,\n",
       "                          1.2450,  0.2739,  0.7953,  0.3844,  0.3494, -0.4638, -1.6100,\n",
       "                         -0.7008,  1.0515,  0.6715,  0.3200,  0.2116,  0.8260, -0.5760,\n",
       "                         -0.0668, -0.7855, -1.2542, -0.0919,  0.4647,  2.1299, -1.3447,\n",
       "                         -0.8321,  1.6678, -0.0064,  2.8856,  0.6559,  0.4722, -1.3131,\n",
       "                          1.6361, -0.5123, -0.1174, -0.1790, -0.1451, -0.5905,  0.0469,\n",
       "                         -2.4448,  0.3522,  1.3193,  0.0102,  1.0173,  0.1617, -1.1182,\n",
       "                          1.4056,  1.2811,  0.0240,  1.1704, -0.0331,  0.4487, -0.0798,\n",
       "                         -1.1537, -0.3895,  0.4120, -0.2271, -1.8675, -0.0857, -1.0325,\n",
       "                          0.3924, -0.8935, -0.1952,  0.2062,  0.2526,  0.4083, -0.0928,\n",
       "                         -0.3477, -0.7860,  2.5581,  0.3704,  0.3246,  0.2276, -3.1027,\n",
       "                          0.6470, -0.7131,  0.8732,  1.7154, -0.8646,  0.7076,  0.0286,\n",
       "                         -1.1560,  0.5702, -1.6633, -0.8947,  0.9690, -0.6888,  1.0654,\n",
       "                         -0.1718, -0.8038,  1.7818, -0.5605, -0.0040, -1.5316,  0.1543,\n",
       "                         -1.7192,  0.9899,  1.8177,  0.7729, -1.3667, -0.6317,  0.8346,\n",
       "                         -0.0801,  0.1283,  0.5485,  0.2961,  1.4426,  0.4986,  0.0047,\n",
       "                          0.4049,  1.8383, -0.2107, -1.3835,  0.5802,  1.0941, -0.3221,\n",
       "                          0.8817, -0.2903,  0.5413, -1.0573, -0.6734,  0.7173, -0.1407,\n",
       "                         -0.0291,  0.5769,  1.6536, -0.2096, -0.6029,  0.0855,  1.8254,\n",
       "                         -0.7324,  0.1741,  1.2818,  0.8311,  1.1540,  0.6699, -0.4933,\n",
       "                          1.5537,  0.8710,  1.5422,  0.2713,  1.6256,  1.0233,  0.4616,\n",
       "                          0.4995, -0.3893,  0.1137,  1.4505, -0.0948, -0.4960, -0.2879,\n",
       "                         -0.9271, -2.0405, -0.3156, -0.4075,  0.6390, -1.0464,  1.1077,\n",
       "                          1.1277, -0.1336, -1.8341,  1.0911,  0.0614,  0.0942,  0.5376,\n",
       "                         -0.1755,  0.8920,  0.0329, -1.3061, -1.2278,  0.6625, -0.0938,\n",
       "                         -0.2471,  0.9059,  0.4828, -0.3544,  1.1892,  0.3017, -3.2626,\n",
       "                         -0.8944,  1.4711,  0.0399, -2.1609,  0.6142, -0.2649, -0.9240,\n",
       "                         -1.1284,  0.3272,  0.4613,  1.9686,  1.1948, -0.6407, -0.2490,\n",
       "                          0.8089, -1.7309, -0.5737,  0.4321]]], requires_grad=True))]),\n",
       " '_buffers': OrderedDict(),\n",
       " '_non_persistent_buffers_set': set(),\n",
       " '_backward_hooks': OrderedDict(),\n",
       " '_is_full_backward_hook': None,\n",
       " '_forward_hooks': OrderedDict(),\n",
       " '_forward_pre_hooks': OrderedDict(),\n",
       " '_state_dict_hooks': OrderedDict(),\n",
       " '_load_state_dict_pre_hooks': OrderedDict(),\n",
       " '_load_state_dict_post_hooks': OrderedDict(),\n",
       " '_modules': OrderedDict([('backbone',\n",
       "               Sequential(\n",
       "                 (0): Conv2d(3, 64, kernel_size=(7, 7), stride=(2, 2), padding=(3, 3), bias=False)\n",
       "                 (1): BatchNorm2d(64, eps=1e-05, momentum=0.1, affine=True, track_running_stats=True)\n",
       "                 (2): ReLU(inplace=True)\n",
       "                 (3): MaxPool2d(kernel_size=3, stride=2, padding=1, dilation=1, ceil_mode=False)\n",
       "                 (4): Sequential(\n",
       "                   (0): BasicBlock(\n",
       "                     (conv1): Conv2d(64, 64, kernel_size=(3, 3), stride=(1, 1), padding=(1, 1), bias=False)\n",
       "                     (bn1): BatchNorm2d(64, eps=1e-05, momentum=0.1, affine=True, track_running_stats=True)\n",
       "                     (relu): ReLU(inplace=True)\n",
       "                     (conv2): Conv2d(64, 64, kernel_size=(3, 3), stride=(1, 1), padding=(1, 1), bias=False)\n",
       "                     (bn2): BatchNorm2d(64, eps=1e-05, momentum=0.1, affine=True, track_running_stats=True)\n",
       "                   )\n",
       "                   (1): BasicBlock(\n",
       "                     (conv1): Conv2d(64, 64, kernel_size=(3, 3), stride=(1, 1), padding=(1, 1), bias=False)\n",
       "                     (bn1): BatchNorm2d(64, eps=1e-05, momentum=0.1, affine=True, track_running_stats=True)\n",
       "                     (relu): ReLU(inplace=True)\n",
       "                     (conv2): Conv2d(64, 64, kernel_size=(3, 3), stride=(1, 1), padding=(1, 1), bias=False)\n",
       "                     (bn2): BatchNorm2d(64, eps=1e-05, momentum=0.1, affine=True, track_running_stats=True)\n",
       "                   )\n",
       "                 )\n",
       "                 (5): Sequential(\n",
       "                   (0): BasicBlock(\n",
       "                     (conv1): Conv2d(64, 128, kernel_size=(3, 3), stride=(2, 2), padding=(1, 1), bias=False)\n",
       "                     (bn1): BatchNorm2d(128, eps=1e-05, momentum=0.1, affine=True, track_running_stats=True)\n",
       "                     (relu): ReLU(inplace=True)\n",
       "                     (conv2): Conv2d(128, 128, kernel_size=(3, 3), stride=(1, 1), padding=(1, 1), bias=False)\n",
       "                     (bn2): BatchNorm2d(128, eps=1e-05, momentum=0.1, affine=True, track_running_stats=True)\n",
       "                     (downsample): Sequential(\n",
       "                       (0): Conv2d(64, 128, kernel_size=(1, 1), stride=(2, 2), bias=False)\n",
       "                       (1): BatchNorm2d(128, eps=1e-05, momentum=0.1, affine=True, track_running_stats=True)\n",
       "                     )\n",
       "                   )\n",
       "                   (1): BasicBlock(\n",
       "                     (conv1): Conv2d(128, 128, kernel_size=(3, 3), stride=(1, 1), padding=(1, 1), bias=False)\n",
       "                     (bn1): BatchNorm2d(128, eps=1e-05, momentum=0.1, affine=True, track_running_stats=True)\n",
       "                     (relu): ReLU(inplace=True)\n",
       "                     (conv2): Conv2d(128, 128, kernel_size=(3, 3), stride=(1, 1), padding=(1, 1), bias=False)\n",
       "                     (bn2): BatchNorm2d(128, eps=1e-05, momentum=0.1, affine=True, track_running_stats=True)\n",
       "                   )\n",
       "                 )\n",
       "                 (6): Sequential(\n",
       "                   (0): BasicBlock(\n",
       "                     (conv1): Conv2d(128, 256, kernel_size=(3, 3), stride=(2, 2), padding=(1, 1), bias=False)\n",
       "                     (bn1): BatchNorm2d(256, eps=1e-05, momentum=0.1, affine=True, track_running_stats=True)\n",
       "                     (relu): ReLU(inplace=True)\n",
       "                     (conv2): Conv2d(256, 256, kernel_size=(3, 3), stride=(1, 1), padding=(1, 1), bias=False)\n",
       "                     (bn2): BatchNorm2d(256, eps=1e-05, momentum=0.1, affine=True, track_running_stats=True)\n",
       "                     (downsample): Sequential(\n",
       "                       (0): Conv2d(128, 256, kernel_size=(1, 1), stride=(2, 2), bias=False)\n",
       "                       (1): BatchNorm2d(256, eps=1e-05, momentum=0.1, affine=True, track_running_stats=True)\n",
       "                     )\n",
       "                   )\n",
       "                   (1): BasicBlock(\n",
       "                     (conv1): Conv2d(256, 256, kernel_size=(3, 3), stride=(1, 1), padding=(1, 1), bias=False)\n",
       "                     (bn1): BatchNorm2d(256, eps=1e-05, momentum=0.1, affine=True, track_running_stats=True)\n",
       "                     (relu): ReLU(inplace=True)\n",
       "                     (conv2): Conv2d(256, 256, kernel_size=(3, 3), stride=(1, 1), padding=(1, 1), bias=False)\n",
       "                     (bn2): BatchNorm2d(256, eps=1e-05, momentum=0.1, affine=True, track_running_stats=True)\n",
       "                   )\n",
       "                 )\n",
       "                 (7): Sequential(\n",
       "                   (0): BasicBlock(\n",
       "                     (conv1): Conv2d(256, 512, kernel_size=(3, 3), stride=(2, 2), padding=(1, 1), bias=False)\n",
       "                     (bn1): BatchNorm2d(512, eps=1e-05, momentum=0.1, affine=True, track_running_stats=True)\n",
       "                     (relu): ReLU(inplace=True)\n",
       "                     (conv2): Conv2d(512, 512, kernel_size=(3, 3), stride=(1, 1), padding=(1, 1), bias=False)\n",
       "                     (bn2): BatchNorm2d(512, eps=1e-05, momentum=0.1, affine=True, track_running_stats=True)\n",
       "                     (downsample): Sequential(\n",
       "                       (0): Conv2d(256, 512, kernel_size=(1, 1), stride=(2, 2), bias=False)\n",
       "                       (1): BatchNorm2d(512, eps=1e-05, momentum=0.1, affine=True, track_running_stats=True)\n",
       "                     )\n",
       "                   )\n",
       "                   (1): BasicBlock(\n",
       "                     (conv1): Conv2d(512, 512, kernel_size=(3, 3), stride=(1, 1), padding=(1, 1), bias=False)\n",
       "                     (bn1): BatchNorm2d(512, eps=1e-05, momentum=0.1, affine=True, track_running_stats=True)\n",
       "                     (relu): ReLU(inplace=True)\n",
       "                     (conv2): Conv2d(512, 512, kernel_size=(3, 3), stride=(1, 1), padding=(1, 1), bias=False)\n",
       "                     (bn2): BatchNorm2d(512, eps=1e-05, momentum=0.1, affine=True, track_running_stats=True)\n",
       "                   )\n",
       "                 )\n",
       "                 (8): AdaptiveAvgPool2d(output_size=(1, 1))\n",
       "               )),\n",
       "              ('temporal_encoder',\n",
       "               VTNLongformerModel(\n",
       "                 (embeddings): LongformerEmbeddings(\n",
       "                   (word_embeddings): None\n",
       "                   (position_embeddings): Embedding(288, 515, padding_idx=287)\n",
       "                   (token_type_embeddings): Embedding(2, 515)\n",
       "                   (LayerNorm): LayerNorm((515,), eps=1e-12, elementwise_affine=True)\n",
       "                   (dropout): Dropout(p=0.3, inplace=False)\n",
       "                 )\n",
       "                 (encoder): LongformerEncoder(\n",
       "                   (layer): ModuleList(\n",
       "                     (0): LongformerLayer(\n",
       "                       (attention): LongformerAttention(\n",
       "                         (self): LongformerSelfAttention(\n",
       "                           (query): Linear(in_features=515, out_features=515, bias=True)\n",
       "                           (key): Linear(in_features=515, out_features=515, bias=True)\n",
       "                           (value): Linear(in_features=515, out_features=515, bias=True)\n",
       "                           (query_global): Linear(in_features=515, out_features=515, bias=True)\n",
       "                           (key_global): Linear(in_features=515, out_features=515, bias=True)\n",
       "                           (value_global): Linear(in_features=515, out_features=515, bias=True)\n",
       "                         )\n",
       "                         (output): LongformerSelfOutput(\n",
       "                           (dense): Linear(in_features=515, out_features=515, bias=True)\n",
       "                           (LayerNorm): LayerNorm((515,), eps=1e-12, elementwise_affine=True)\n",
       "                           (dropout): Dropout(p=0.3, inplace=False)\n",
       "                         )\n",
       "                       )\n",
       "                       (intermediate): LongformerIntermediate(\n",
       "                         (dense): Linear(in_features=515, out_features=3072, bias=True)\n",
       "                         (intermediate_act_fn): GELUActivation()\n",
       "                       )\n",
       "                       (output): LongformerOutput(\n",
       "                         (dense): Linear(in_features=3072, out_features=515, bias=True)\n",
       "                         (LayerNorm): LayerNorm((515,), eps=1e-12, elementwise_affine=True)\n",
       "                         (dropout): Dropout(p=0.3, inplace=False)\n",
       "                       )\n",
       "                     )\n",
       "                     (1): LongformerLayer(\n",
       "                       (attention): LongformerAttention(\n",
       "                         (self): LongformerSelfAttention(\n",
       "                           (query): Linear(in_features=515, out_features=515, bias=True)\n",
       "                           (key): Linear(in_features=515, out_features=515, bias=True)\n",
       "                           (value): Linear(in_features=515, out_features=515, bias=True)\n",
       "                           (query_global): Linear(in_features=515, out_features=515, bias=True)\n",
       "                           (key_global): Linear(in_features=515, out_features=515, bias=True)\n",
       "                           (value_global): Linear(in_features=515, out_features=515, bias=True)\n",
       "                         )\n",
       "                         (output): LongformerSelfOutput(\n",
       "                           (dense): Linear(in_features=515, out_features=515, bias=True)\n",
       "                           (LayerNorm): LayerNorm((515,), eps=1e-12, elementwise_affine=True)\n",
       "                           (dropout): Dropout(p=0.3, inplace=False)\n",
       "                         )\n",
       "                       )\n",
       "                       (intermediate): LongformerIntermediate(\n",
       "                         (dense): Linear(in_features=515, out_features=3072, bias=True)\n",
       "                         (intermediate_act_fn): GELUActivation()\n",
       "                       )\n",
       "                       (output): LongformerOutput(\n",
       "                         (dense): Linear(in_features=3072, out_features=515, bias=True)\n",
       "                         (LayerNorm): LayerNorm((515,), eps=1e-12, elementwise_affine=True)\n",
       "                         (dropout): Dropout(p=0.3, inplace=False)\n",
       "                       )\n",
       "                     )\n",
       "                     (2): LongformerLayer(\n",
       "                       (attention): LongformerAttention(\n",
       "                         (self): LongformerSelfAttention(\n",
       "                           (query): Linear(in_features=515, out_features=515, bias=True)\n",
       "                           (key): Linear(in_features=515, out_features=515, bias=True)\n",
       "                           (value): Linear(in_features=515, out_features=515, bias=True)\n",
       "                           (query_global): Linear(in_features=515, out_features=515, bias=True)\n",
       "                           (key_global): Linear(in_features=515, out_features=515, bias=True)\n",
       "                           (value_global): Linear(in_features=515, out_features=515, bias=True)\n",
       "                         )\n",
       "                         (output): LongformerSelfOutput(\n",
       "                           (dense): Linear(in_features=515, out_features=515, bias=True)\n",
       "                           (LayerNorm): LayerNorm((515,), eps=1e-12, elementwise_affine=True)\n",
       "                           (dropout): Dropout(p=0.3, inplace=False)\n",
       "                         )\n",
       "                       )\n",
       "                       (intermediate): LongformerIntermediate(\n",
       "                         (dense): Linear(in_features=515, out_features=3072, bias=True)\n",
       "                         (intermediate_act_fn): GELUActivation()\n",
       "                       )\n",
       "                       (output): LongformerOutput(\n",
       "                         (dense): Linear(in_features=3072, out_features=515, bias=True)\n",
       "                         (LayerNorm): LayerNorm((515,), eps=1e-12, elementwise_affine=True)\n",
       "                         (dropout): Dropout(p=0.3, inplace=False)\n",
       "                       )\n",
       "                     )\n",
       "                   )\n",
       "                 )\n",
       "               )),\n",
       "              ('mlp_head',\n",
       "               Sequential(\n",
       "                 (0): LayerNorm((515,), eps=1e-05, elementwise_affine=True)\n",
       "                 (1): Linear(in_features=515, out_features=515, bias=True)\n",
       "                 (2): GELU(approximate='none')\n",
       "                 (3): Dropout(p=0.5, inplace=False)\n",
       "                 (4): Linear(in_features=515, out_features=1, bias=True)\n",
       "               )),\n",
       "              ('mlp_head_2',\n",
       "               Sequential(\n",
       "                 (0): LayerNorm((515,), eps=1e-05, elementwise_affine=True)\n",
       "                 (1): Linear(in_features=515, out_features=515, bias=True)\n",
       "                 (2): GELU(approximate='none')\n",
       "                 (3): Dropout(p=0.5, inplace=False)\n",
       "                 (4): Linear(in_features=515, out_features=1, bias=True)\n",
       "               ))]),\n",
       " 'multitask': True}"
      ]
     },
     "execution_count": 14,
     "metadata": {},
     "output_type": "execute_result"
    }
   ],
   "source": [
    "model.__dict__"
   ]
  },
  {
   "cell_type": "code",
   "execution_count": null,
   "metadata": {},
   "outputs": [],
   "source": [
    "preds_path = '/data1/jessica/data/toyota/ckpts/COMMA/checkpoints_comma_distance/lightning_logs/version_49/dist.csv'\n",
    "df = pd.read_csv(preds_path)\n",
    "df.columns = ['preds', 'targets']\n",
    "df = df[df['targets'] != 0]\n",
    "df['err'] = df['targets'] - df['preds']\n",
    "ten = df[df['targets'] < 10]\n",
    "six = df[df['targets'] > 60]\n",
    "twen = df[(df['targets'] > 10 & (df['targets'] < 20))]\n",
    "four = df[(df['targets'] > 20 & (df['targets'] < 40))]\n",
    "fift = df[(df['targets'] > 40 & (df['targets'] < 60))]\n",
    "ndf = {}\n",
    "ndf[\"<10\"] = ten['err'].tolist()\n",
    "ndf[\"10-20\"] = twen['err'].tolist()\n",
    "ndf[\"20-40\"] = four['err'].tolist()\n",
    "ndf[\"40-60\"] = fift['err'].tolist()\n",
    "ndf[\">60\"] = six['err'].tolist()\n",
    "my_dict = ndf\n",
    "\n",
    "fig, ax = plt.subplots()\n",
    "ax.boxplot(my_dict.values())\n",
    "ax.set_xticklabels(my_dict.keys())"
   ]
  },
  {
   "cell_type": "code",
   "execution_count": null,
   "metadata": {},
   "outputs": [],
   "source": []
  },
  {
   "cell_type": "code",
   "execution_count": null,
   "metadata": {},
   "outputs": [],
   "source": []
  }
 ],
 "metadata": {
  "kernelspec": {
   "display_name": "Python 3",
   "language": "python",
   "name": "python3"
  },
  "language_info": {
   "codemirror_mode": {
    "name": "ipython",
    "version": 3
   },
   "file_extension": ".py",
   "mimetype": "text/x-python",
   "name": "python",
   "nbconvert_exporter": "python",
   "pygments_lexer": "ipython3",
   "version": "3.10.6"
  },
  "orig_nbformat": 4,
  "vscode": {
   "interpreter": {
    "hash": "31f2aee4e71d21fbe5cf8b01ff0e069b9275f58929596ceb00d14d90e3e16cd6"
   }
  }
 },
 "nbformat": 4,
 "nbformat_minor": 2
}
