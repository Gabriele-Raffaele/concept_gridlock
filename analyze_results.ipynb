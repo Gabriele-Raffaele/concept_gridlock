{
 "cells": [
  {
   "cell_type": "code",
   "execution_count": 104,
   "metadata": {},
   "outputs": [],
   "source": [
    "import pandas as pd\n",
    "import matplotlib.pyplot as plt \n",
    "import pytorch_lightning as pl\n",
    "from model import *\n",
    "from module import * \n",
    "import altair as alt\n",
    "from pytorch_lightning.callbacks.progress import TQDMProgressBar\n",
    "import torch \n",
    "from pytorch_lightning.callbacks.early_stopping import EarlyStopping\n",
    "import argparse\n",
    "import numpy as np\n",
    "from pytorch_lightning.callbacks import ModelCheckpoint\n",
    "from  pytorch_lightning.loggers.tensorboard import TensorBoardLogger"
   ]
  },
  {
   "attachments": {},
   "cell_type": "markdown",
   "metadata": {},
   "source": [
    "Analyze distance prediction error"
   ]
  },
  {
   "attachments": {},
   "cell_type": "markdown",
   "metadata": {},
   "source": [
    "Analyze error per person"
   ]
  },
  {
   "cell_type": "code",
   "execution_count": 2,
   "metadata": {},
   "outputs": [],
   "source": [
    "backbone = \"resnet\"\n",
    "dataset = \"comma\"\n",
    "bs = 1\n",
    "gpu_num = 2"
   ]
  },
  {
   "cell_type": "code",
   "execution_count": 3,
   "metadata": {},
   "outputs": [],
   "source": [
    "def mse_loss(input, target, mask, reduction=\"mean\"):\n",
    "        out = (input[~mask]-target[~mask])**2\n",
    "        return out.mean() if reduction == \"mean\" else out "
   ]
  },
  {
   "cell_type": "code",
   "execution_count": 58,
   "metadata": {},
   "outputs": [],
   "source": [
    "def calculate_loss(logits, angle, distance, multitask):\n",
    "        if multitask == \"multitask\":\n",
    "            logits_angle, logits_dist = logits\n",
    "            mask = distance.squeeze() == 0.0\n",
    "            loss_angle = torch.sqrt(mse_loss(logits_angle.squeeze(), angle.squeeze(), mask))\n",
    "            loss_distance = torch.sqrt(mse_loss(logits_dist.squeeze(), distance.squeeze(), mask))\n",
    "            loss = loss_angle, loss_distance\n",
    "            return loss_angle, loss_distance\n",
    "        elif multitask == \"angle\":\n",
    "            mask = distance.squeeze() == 0.0 \n",
    "            loss = torch.sqrt(mse_loss(logits.squeeze(), angle.squeeze(), mask))\n",
    "            return loss\n",
    "        elif multitask == \"distance\":\n",
    "            mask = (distance > 50)  | (distance == 0)\n",
    "            loss = torch.sqrt(mse_loss(logits.squeeze(), angle.squeeze(), mask))\n",
    "            return loss"
   ]
  },
  {
   "cell_type": "code",
   "execution_count": 67,
   "metadata": {},
   "outputs": [],
   "source": [
    "ckpt_pth_angle = f\"/data1/jessica/data/toyota/ckpts/COMMA/checkpoints_comma_angle/lightning_logs/version_17/checkpoints/epoch=21-step=1694.ckpt\"\n",
    "ckpt_pth_distance = f\"/data1/jessica/data/toyota/ckpts/COMMA/checkpoints_comma_distance/lightning_logs/version_40/checkpoints/epoch=39-step=1960.ckpt\"\n",
    "ckpt_pth_multitask = f\"/data1/jessica/data/toyota/ckpts/COMMA/checkpoints_comma_multitask/lightning_logs/version_23/checkpoints/epoch=31-step=2464.ckpt\""
   ]
  },
  {
   "cell_type": "code",
   "execution_count": 68,
   "metadata": {},
   "outputs": [],
   "source": [
    "p = '/data1/jessica/data/toyota/ckpts/COMMA/checkpoints_comma_distance/lightning_logs/version_49/dist.csv'\n",
    "df = pd.read_csv(p, header=None)"
   ]
  },
  {
   "cell_type": "code",
   "execution_count": 69,
   "metadata": {},
   "outputs": [],
   "source": [
    "df.columns = ['preds', 'targets']\n"
   ]
  },
  {
   "cell_type": "code",
   "execution_count": 70,
   "metadata": {},
   "outputs": [],
   "source": [
    "m = (df['targets'] > 40).astype(bool)  | (df['targets'] == 0).astype(bool) \n",
    "loss1 = torch.sqrt(mse_loss(torch.tensor(df['preds']),  torch.tensor(df['targets']), torch.tensor(m)))\n",
    "m = (df['targets'] > 50).astype(bool)  | (df['targets'] == 0).astype(bool) \n",
    "loss2 = torch.sqrt(mse_loss(torch.tensor(df['preds']),  torch.tensor(df['targets']), torch.tensor(m)))\n",
    "m = (df['targets'] > 60).astype(bool)  | (df['targets'] == 0).astype(bool) \n",
    "loss3 = torch.sqrt(mse_loss(torch.tensor(df['preds']),  torch.tensor(df['targets']), torch.tensor(m)))\n"
   ]
  },
  {
   "cell_type": "code",
   "execution_count": 71,
   "metadata": {},
   "outputs": [
    {
     "data": {
      "text/plain": [
       "(3.520562596060591, 3.7951675788970936, 5.254393132189306)"
      ]
     },
     "execution_count": 71,
     "metadata": {},
     "output_type": "execute_result"
    }
   ],
   "source": [
    "loss1.item(), loss2.item(), loss3.item()"
   ]
  },
  {
   "cell_type": "code",
   "execution_count": 78,
   "metadata": {},
   "outputs": [
    {
     "data": {
      "text/plain": [
       "Text(0, 0.5, 'RMSE')"
      ]
     },
     "execution_count": 78,
     "metadata": {},
     "output_type": "execute_result"
    },
    {
     "data": {
      "image/png": "[encoded data removed]",
      "text/plain": [
       "<Figure size 640x480 with 1 Axes>"
      ]
     },
     "metadata": {},
     "output_type": "display_data"
    }
   ],
   "source": [
    "plt.plot([\"<40\", \"<50\", \"<60\"], [loss1.item(), loss2.item(), loss3.item()])\n",
    "plt.xlabel(\"Distance\")\n",
    "plt.ylabel(\"RMSE\")"
   ]
  },
  {
   "cell_type": "code",
   "execution_count": 83,
   "metadata": {},
   "outputs": [],
   "source": [
    "res = {}"
   ]
  },
  {
   "cell_type": "code",
   "execution_count": 86,
   "metadata": {},
   "outputs": [
    {
     "name": "stderr",
     "output_type": "stream",
     "text": [
      "GPU available: True (cuda), used: True\n",
      "TPU available: False, using: 0 TPU cores\n",
      "IPU available: False, using: 0 IPUs\n",
      "HPU available: False, using: 0 HPUs\n",
      "Restoring states from the checkpoint path at /data1/jessica/data/toyota/ckpts/COMMA/checkpoints_comma_distance/lightning_logs/version_40/checkpoints/epoch=39-step=1960.ckpt\n",
      "LOCAL_RANK: 0 - CUDA_VISIBLE_DEVICES: [0,1,2,3]\n",
      "Loaded model weights from checkpoint at /data1/jessica/data/toyota/ckpts/COMMA/checkpoints_comma_distance/lightning_logs/version_40/checkpoints/epoch=39-step=1960.ckpt\n"
     ]
    },
    {
     "name": "stdout",
     "output_type": "stream",
     "text": [
      "Predicting DataLoader 0: 100%|██████████| 17/17 [00:06<00:00,  2.47it/s]\n",
      "[2.5980257987976074, 1.3191032409667969, 7.127370834350586, 4.841986656188965, 3.6089580059051514, 6.455803871154785, 1.985696792602539, 3.1754720211029053, 2.6144444942474365, 2.7192697525024414, 8.156237602233887, 9.532102584838867, 1.4478585720062256, 3.6989197731018066, 10.153376579284668, 5.490836143493652, 7.1447601318359375]\n"
     ]
    },
    {
     "name": "stderr",
     "output_type": "stream",
     "text": [
      "GPU available: True (cuda), used: True\n",
      "TPU available: False, using: 0 TPU cores\n",
      "IPU available: False, using: 0 IPUs\n",
      "HPU available: False, using: 0 HPUs\n",
      "Restoring states from the checkpoint path at /data1/jessica/data/toyota/ckpts/COMMA/checkpoints_comma_angle/lightning_logs/version_17/checkpoints/epoch=21-step=1694.ckpt\n",
      "LOCAL_RANK: 0 - CUDA_VISIBLE_DEVICES: [0,1,2,3]\n",
      "Loaded model weights from checkpoint at /data1/jessica/data/toyota/ckpts/COMMA/checkpoints_comma_angle/lightning_logs/version_17/checkpoints/epoch=21-step=1694.ckpt\n"
     ]
    },
    {
     "name": "stdout",
     "output_type": "stream",
     "text": [
      "Predicting DataLoader 0: 100%|██████████| 17/17 [00:06<00:00,  2.62it/s]\n",
      "[0.6844321489334106, 0.9177812337875366, 1.014853596687317, 1.1459578275680542, 0.950522780418396, 1.2839751243591309, 1.2589852809906006, 1.2417669296264648, 1.4209685325622559, 23.016117095947266, 1.0574407577514648, 0.8290581107139587, 2.9135537147521973, 1.1342591047286987, 1.0155333280563354, 0.9546523690223694, 0.9258266091346741]\n"
     ]
    },
    {
     "name": "stderr",
     "output_type": "stream",
     "text": [
      "GPU available: True (cuda), used: True\n",
      "TPU available: False, using: 0 TPU cores\n",
      "IPU available: False, using: 0 IPUs\n",
      "HPU available: False, using: 0 HPUs\n",
      "Restoring states from the checkpoint path at /data1/jessica/data/toyota/ckpts/COMMA/checkpoints_comma_multitask/lightning_logs/version_23/checkpoints/epoch=31-step=2464.ckpt\n",
      "LOCAL_RANK: 0 - CUDA_VISIBLE_DEVICES: [0,1,2,3]\n",
      "Loaded model weights from checkpoint at /data1/jessica/data/toyota/ckpts/COMMA/checkpoints_comma_multitask/lightning_logs/version_23/checkpoints/epoch=31-step=2464.ckpt\n"
     ]
    },
    {
     "name": "stdout",
     "output_type": "stream",
     "text": [
      "Predicting DataLoader 0: 100%|██████████| 17/17 [00:07<00:00,  2.38it/s]\n",
      "[(tensor(0.5013), tensor(9.0443)), (tensor(0.7587), tensor(6.6789)), (tensor(1.1444), tensor(8.3457)), (tensor(1.0015), tensor(4.9579)), (tensor(1.1306), tensor(10.2125)), (tensor(1.4232), tensor(8.5848)), (tensor(1.0514), tensor(12.4867)), (tensor(1.4981), tensor(8.2965)), (tensor(0.9381), tensor(1.7110)), (tensor(22.4403), tensor(4.2770)), (tensor(0.8648), tensor(9.4183)), (tensor(0.9312), tensor(7.2483)), (tensor(1.5865), tensor(2.7828)), (tensor(1.0962), tensor(6.6330)), (tensor(1.0980), tensor(8.1372)), (tensor(0.8705), tensor(12.3708)), (tensor(1.0050), tensor(8.6351))]\n"
     ]
    }
   ],
   "source": [
    "\n",
    "for ckpt_path in [ckpt_pth_distance, ckpt_pth_angle, ckpt_pth_multitask]:\n",
    "    task = \"angle\" if 'angle' in ckpt_path else \"distance\" if \"distance\" in ckpt_path else \"multitask\"\n",
    "    multitask = task == 'multitask'\n",
    "    model = VTN(multitask=task, backbone=backbone)\n",
    "    module = LaneModule(model, multitask=task, dataset = dataset, bs=bs)\n",
    "    pth = f\"/data1/jessica/data/toyota/ckpts/COMMA/checkpoints_{dataset}_{task}\"\n",
    "    logger = TensorBoardLogger(save_dir=pth)\n",
    "    trainer = pl.Trainer(\n",
    "        accelerator=\"gpu\",\n",
    "        devices=[gpu_num] if torch.cuda.is_available() else None, \n",
    "        logger=logger,\n",
    "        max_epochs=100,\n",
    "        default_root_dir=pth\n",
    "        )\n",
    "    preds = trainer.predict(module, ckpt_path=ckpt_path)\n",
    "    rmses = []\n",
    "    for i in range(len(preds)):\n",
    "        elem = preds[i]\n",
    "        if multitask:\n",
    "            logits_angle, logits_distance = elem[0][0], elem[0][1]\n",
    "        logits, angle, distance = elem[0], elem[1].squeeze(), elem[2].squeeze()\n",
    "        if \"multitask\" in ckpt_path:\n",
    "            loss = calculate_loss(logits, angle, distance, multitask='multitask')  \n",
    "            rmses.append(loss)\n",
    "        if \"angle\" in ckpt_path:\n",
    "            loss = calculate_loss(logits, angle, distance, multitask=\"angle\") \n",
    "            rmses.append(loss.item())\n",
    "        if \"distance\" in ckpt_path:\n",
    "            distance = angle\n",
    "            loss = calculate_loss(logits, distance, distance, multitask=\"distance\")\n",
    "            rmses.append(loss.item())\n",
    "        \n",
    "    res[task] = rmses\n",
    "    print(rmses)\n",
    "\n"
   ]
  },
  {
   "cell_type": "code",
   "execution_count": 111,
   "metadata": {},
   "outputs": [
    {
     "data": {
      "text/html": [
       "\n",
       "<div id=\"altair-viz-1e2650f12fe2459c883393ff1cca8ad1\"></div>\n",
       "<script type=\"text/javascript\">\n",
       "  var VEGA_DEBUG = (typeof VEGA_DEBUG == \"undefined\") ? {} : VEGA_DEBUG;\n",
       "  (function(spec, embedOpt){\n",
       "    let outputDiv = document.currentScript.previousElementSibling;\n",
       "    if (outputDiv.id !== \"altair-viz-1e2650f12fe2459c883393ff1cca8ad1\") {\n",
       "      outputDiv = document.getElementById(\"altair-viz-1e2650f12fe2459c883393ff1cca8ad1\");\n",
       "    }\n",
       "    const paths = {\n",
       "      \"vega\": \"https://cdn.jsdelivr.net/npm//vega@5?noext\",\n",
       "      \"vega-lib\": \"https://cdn.jsdelivr.net/npm//vega-lib?noext\",\n",
       "      \"vega-lite\": \"https://cdn.jsdelivr.net/npm//vega-lite@4.17.0?noext\",\n",
       "      \"vega-embed\": \"https://cdn.jsdelivr.net/npm//vega-embed@6?noext\",\n",
       "    };\n",
       "\n",
       "    function maybeLoadScript(lib, version) {\n",
       "      var key = `${lib.replace(\"-\", \"\")}_version`;\n",
       "      return (VEGA_DEBUG[key] == version) ?\n",
       "        Promise.resolve(paths[lib]) :\n",
       "        new Promise(function(resolve, reject) {\n",
       "          var s = document.createElement('script');\n",
       "          document.getElementsByTagName(\"head\")[0].appendChild(s);\n",
       "          s.async = true;\n",
       "          s.onload = () => {\n",
       "            VEGA_DEBUG[key] = version;\n",
       "            return resolve(paths[lib]);\n",
       "          };\n",
       "          s.onerror = () => reject(`Error loading script: ${paths[lib]}`);\n",
       "          s.src = paths[lib];\n",
       "        });\n",
       "    }\n",
       "\n",
       "    function showError(err) {\n",
       "      outputDiv.innerHTML = `<div class=\"error\" style=\"color:red;\">${err}</div>`;\n",
       "      throw err;\n",
       "    }\n",
       "\n",
       "    function displayChart(vegaEmbed) {\n",
       "      vegaEmbed(outputDiv, spec, embedOpt)\n",
       "        .catch(err => showError(`Javascript Error: ${err.message}<br>This usually means there's a typo in your chart specification. See the javascript console for the full traceback.`));\n",
       "    }\n",
       "\n",
       "    if(typeof define === \"function\" && define.amd) {\n",
       "      requirejs.config({paths});\n",
       "      require([\"vega-embed\"], displayChart, err => showError(`Error loading script: ${err.message}`));\n",
       "    } else {\n",
       "      maybeLoadScript(\"vega\", \"5\")\n",
       "        .then(() => maybeLoadScript(\"vega-lite\", \"4.17.0\"))\n",
       "        .then(() => maybeLoadScript(\"vega-embed\", \"6\"))\n",
       "        .catch(showError)\n",
       "        .then(() => displayChart(vegaEmbed));\n",
       "    }\n",
       "  })({\"config\": {\"view\": {\"continuousWidth\": 400, \"continuousHeight\": 300}}, \"data\": {\"name\": \"data-88f55a25050e661a41157fffbd5ec88b\"}, \"mark\": {\"type\": \"circle\", \"size\": 60}, \"encoding\": {\"tooltip\": [{\"field\": \"driver\", \"type\": \"quantitative\"}], \"x\": {\"field\": \"distance\", \"type\": \"quantitative\"}, \"y\": {\"field\": \"angle\", \"type\": \"quantitative\"}}, \"selection\": {\"selector006\": {\"type\": \"interval\", \"bind\": \"scales\", \"encodings\": [\"x\", \"y\"]}}, \"$schema\": \"https://vega.github.io/schema/vega-lite/v4.17.0.json\", \"datasets\": {\"data-88f55a25050e661a41157fffbd5ec88b\": [{\"distance\": 2.5980257987976074, \"angle\": 0.6844321489334106, \"driver\": 0}, {\"distance\": 1.3191032409667969, \"angle\": 0.9177812337875366, \"driver\": 1}, {\"distance\": 7.127370834350586, \"angle\": 1.014853596687317, \"driver\": 2}, {\"distance\": 4.841986656188965, \"angle\": 1.1459578275680542, \"driver\": 3}, {\"distance\": 3.6089580059051514, \"angle\": 0.950522780418396, \"driver\": 4}, {\"distance\": 6.455803871154785, \"angle\": 1.2839751243591309, \"driver\": 5}, {\"distance\": 1.985696792602539, \"angle\": 1.2589852809906006, \"driver\": 6}, {\"distance\": 3.1754720211029053, \"angle\": 1.2417669296264648, \"driver\": 7}, {\"distance\": 2.6144444942474365, \"angle\": 1.4209685325622559, \"driver\": 8}, {\"distance\": 2.7192697525024414, \"angle\": 23.016117095947266, \"driver\": 9}, {\"distance\": 8.156237602233887, \"angle\": 1.0574407577514648, \"driver\": 10}, {\"distance\": 9.532102584838867, \"angle\": 0.8290581107139587, \"driver\": 11}, {\"distance\": 1.4478585720062256, \"angle\": 2.9135537147521973, \"driver\": 12}, {\"distance\": 3.6989197731018066, \"angle\": 1.1342591047286987, \"driver\": 13}, {\"distance\": 10.153376579284668, \"angle\": 1.0155333280563354, \"driver\": 14}, {\"distance\": 5.490836143493652, \"angle\": 0.9546523690223694, \"driver\": 15}, {\"distance\": 7.1447601318359375, \"angle\": 0.9258266091346741, \"driver\": 16}]}}, {\"mode\": \"vega-lite\"});\n",
       "</script>"
      ],
      "text/plain": [
       "alt.Chart(...)"
      ]
     },
     "execution_count": 111,
     "metadata": {},
     "output_type": "execute_result"
    }
   ],
   "source": [
    "df = pd.DataFrame()\n",
    "df['distance'] = res['distance']\n",
    "df['angle'] = res['angle']\n",
    "df['driver'] = range(len(res['angle']))\n",
    "alt.Chart(df).mark_circle(size=60).encode(\n",
    "    x='distance',\n",
    "    y='angle',\n",
    "    tooltip=['driver']\n",
    ").interactive()\n"
   ]
  },
  {
   "cell_type": "code",
   "execution_count": 114,
   "metadata": {},
   "outputs": [
    {
     "name": "stdout",
     "output_type": "stream",
     "text": [
      "(tensor(9.0443), tensor(6.6789), tensor(8.3457), tensor(4.9579), tensor(10.2125), tensor(8.5848), tensor(12.4867), tensor(8.2965), tensor(1.7110), tensor(4.2770), tensor(9.4183), tensor(7.2483), tensor(2.7828), tensor(6.6330), tensor(8.1372), tensor(12.3708), tensor(8.6351)) (tensor(0.5013), tensor(0.7587), tensor(1.1444), tensor(1.0015), tensor(1.1306), tensor(1.4232), tensor(1.0514), tensor(1.4981), tensor(0.9381), tensor(22.4403), tensor(0.8648), tensor(0.9312), tensor(1.5865), tensor(1.0962), tensor(1.0980), tensor(0.8705), tensor(1.0050))\n"
     ]
    },
    {
     "data": {
      "text/html": [
       "\n",
       "<div id=\"altair-viz-c0e81187de244be39c5638df088e116d\"></div>\n",
       "<script type=\"text/javascript\">\n",
       "  var VEGA_DEBUG = (typeof VEGA_DEBUG == \"undefined\") ? {} : VEGA_DEBUG;\n",
       "  (function(spec, embedOpt){\n",
       "    let outputDiv = document.currentScript.previousElementSibling;\n",
       "    if (outputDiv.id !== \"altair-viz-c0e81187de244be39c5638df088e116d\") {\n",
       "      outputDiv = document.getElementById(\"altair-viz-c0e81187de244be39c5638df088e116d\");\n",
       "    }\n",
       "    const paths = {\n",
       "      \"vega\": \"https://cdn.jsdelivr.net/npm//vega@5?noext\",\n",
       "      \"vega-lib\": \"https://cdn.jsdelivr.net/npm//vega-lib?noext\",\n",
       "      \"vega-lite\": \"https://cdn.jsdelivr.net/npm//vega-lite@4.17.0?noext\",\n",
       "      \"vega-embed\": \"https://cdn.jsdelivr.net/npm//vega-embed@6?noext\",\n",
       "    };\n",
       "\n",
       "    function maybeLoadScript(lib, version) {\n",
       "      var key = `${lib.replace(\"-\", \"\")}_version`;\n",
       "      return (VEGA_DEBUG[key] == version) ?\n",
       "        Promise.resolve(paths[lib]) :\n",
       "        new Promise(function(resolve, reject) {\n",
       "          var s = document.createElement('script');\n",
       "          document.getElementsByTagName(\"head\")[0].appendChild(s);\n",
       "          s.async = true;\n",
       "          s.onload = () => {\n",
       "            VEGA_DEBUG[key] = version;\n",
       "            return resolve(paths[lib]);\n",
       "          };\n",
       "          s.onerror = () => reject(`Error loading script: ${paths[lib]}`);\n",
       "          s.src = paths[lib];\n",
       "        });\n",
       "    }\n",
       "\n",
       "    function showError(err) {\n",
       "      outputDiv.innerHTML = `<div class=\"error\" style=\"color:red;\">${err}</div>`;\n",
       "      throw err;\n",
       "    }\n",
       "\n",
       "    function displayChart(vegaEmbed) {\n",
       "      vegaEmbed(outputDiv, spec, embedOpt)\n",
       "        .catch(err => showError(`Javascript Error: ${err.message}<br>This usually means there's a typo in your chart specification. See the javascript console for the full traceback.`));\n",
       "    }\n",
       "\n",
       "    if(typeof define === \"function\" && define.amd) {\n",
       "      requirejs.config({paths});\n",
       "      require([\"vega-embed\"], displayChart, err => showError(`Error loading script: ${err.message}`));\n",
       "    } else {\n",
       "      maybeLoadScript(\"vega\", \"5\")\n",
       "        .then(() => maybeLoadScript(\"vega-lite\", \"4.17.0\"))\n",
       "        .then(() => maybeLoadScript(\"vega-embed\", \"6\"))\n",
       "        .catch(showError)\n",
       "        .then(() => displayChart(vegaEmbed));\n",
       "    }\n",
       "  })({\"config\": {\"view\": {\"continuousWidth\": 400, \"continuousHeight\": 300}}, \"data\": {\"name\": \"data-04e9dd2c6691c9efe3bcd2644d31cef8\"}, \"mark\": {\"type\": \"circle\", \"size\": 60}, \"encoding\": {\"tooltip\": [{\"field\": \"driver\", \"type\": \"quantitative\"}], \"x\": {\"field\": \"distance\", \"type\": \"quantitative\"}, \"y\": {\"field\": \"angle\", \"type\": \"quantitative\"}}, \"selection\": {\"selector009\": {\"type\": \"interval\", \"bind\": \"scales\", \"encodings\": [\"x\", \"y\"]}}, \"$schema\": \"https://vega.github.io/schema/vega-lite/v4.17.0.json\", \"datasets\": {\"data-04e9dd2c6691c9efe3bcd2644d31cef8\": [{\"distance\": 9.044283866882324, \"angle\": 0.5013198256492615, \"driver\": 0}, {\"distance\": 6.678945064544678, \"angle\": 0.7587063908576965, \"driver\": 1}, {\"distance\": 8.345650672912598, \"angle\": 1.1443946361541748, \"driver\": 2}, {\"distance\": 4.957901954650879, \"angle\": 1.0014746189117432, \"driver\": 3}, {\"distance\": 10.212488174438477, \"angle\": 1.1306452751159668, \"driver\": 4}, {\"distance\": 8.584790229797363, \"angle\": 1.4231793880462646, \"driver\": 5}, {\"distance\": 12.486712455749512, \"angle\": 1.0513995885849, \"driver\": 6}, {\"distance\": 8.296515464782715, \"angle\": 1.4980850219726562, \"driver\": 7}, {\"distance\": 1.7109599113464355, \"angle\": 0.9380595088005066, \"driver\": 8}, {\"distance\": 4.2769646644592285, \"angle\": 22.44034767150879, \"driver\": 9}, {\"distance\": 9.41825008392334, \"angle\": 0.8647790551185608, \"driver\": 10}, {\"distance\": 7.248342037200928, \"angle\": 0.931160032749176, \"driver\": 11}, {\"distance\": 2.782822370529175, \"angle\": 1.5865163803100586, \"driver\": 12}, {\"distance\": 6.632978916168213, \"angle\": 1.0962125062942505, \"driver\": 13}, {\"distance\": 8.137187957763672, \"angle\": 1.0979996919631958, \"driver\": 14}, {\"distance\": 12.37080192565918, \"angle\": 0.8705433011054993, \"driver\": 15}, {\"distance\": 8.635115623474121, \"angle\": 1.0050406455993652, \"driver\": 16}]}}, {\"mode\": \"vega-lite\"});\n",
       "</script>"
      ],
      "text/plain": [
       "alt.Chart(...)"
      ]
     },
     "execution_count": 114,
     "metadata": {},
     "output_type": "execute_result"
    }
   ],
   "source": [
    "l = list(zip(*res[\"multitask\"]))\n",
    "z = l[1]\n",
    "y = l[0]\n",
    "df = pd.DataFrame()\n",
    "df['distance'] = z\n",
    "df['distance'] = df['distance'].apply(lambda x: x.item())\n",
    "df['angle'] = y\n",
    "df['angle'] = df['angle'].apply(lambda x: x.item())\n",
    "df['driver'] = range(len(y))\n",
    "alt.Chart(df).mark_circle(size=60).encode(\n",
    "    x='distance',\n",
    "    y='angle',\n",
    "    tooltip=['driver']\n",
    ").interactive()"
   ]
  },
  {
   "cell_type": "code",
   "execution_count": null,
   "metadata": {},
   "outputs": [],
   "source": [
    "preds_path = '/data1/jessica/data/toyota/ckpts/COMMA/checkpoints_comma_distance/lightning_logs/version_49/dist.csv'\n",
    "df = pd.read_csv(preds_path)\n",
    "df.columns = ['preds', 'targets']\n",
    "df = df[df['targets'] != 0]\n",
    "df['err'] = df['targets'] - df['preds']\n",
    "ten = df[df['targets'] < 10]\n",
    "six = df[df['targets'] > 60]\n",
    "twen = df[(df['targets'] > 10 & (df['targets'] < 20))]\n",
    "four = df[(df['targets'] > 20 & (df['targets'] < 40))]\n",
    "fift = df[(df['targets'] > 40 & (df['targets'] < 60))]\n",
    "ndf = {}\n",
    "ndf[\"<10\"] = ten['err'].tolist()\n",
    "ndf[\"10-20\"] = twen['err'].tolist()\n",
    "ndf[\"20-40\"] = four['err'].tolist()\n",
    "ndf[\"40-60\"] = fift['err'].tolist()\n",
    "ndf[\">60\"] = six['err'].tolist()\n",
    "my_dict = ndf\n",
    "\n",
    "fig, ax = plt.subplots()\n",
    "ax.boxplot(my_dict.values())\n",
    "ax.set_xticklabels(my_dict.keys())"
   ]
  },
  {
   "cell_type": "code",
   "execution_count": null,
   "metadata": {},
   "outputs": [],
   "source": []
  },
  {
   "cell_type": "code",
   "execution_count": null,
   "metadata": {},
   "outputs": [],
   "source": []
  }
 ],
 "metadata": {
  "kernelspec": {
   "display_name": "Python 3",
   "language": "python",
   "name": "python3"
  },
  "language_info": {
   "codemirror_mode": {
    "name": "ipython",
    "version": 3
   },
   "file_extension": ".py",
   "mimetype": "text/x-python",
   "name": "python",
   "nbconvert_exporter": "python",
   "pygments_lexer": "ipython3",
   "version": "3.10.6"
  },
  "orig_nbformat": 4,
  "vscode": {
   "interpreter": {
    "hash": "31f2aee4e71d21fbe5cf8b01ff0e069b9275f58929596ceb00d14d90e3e16cd6"
   }
  }
 },
 "nbformat": 4,
 "nbformat_minor": 2
}
