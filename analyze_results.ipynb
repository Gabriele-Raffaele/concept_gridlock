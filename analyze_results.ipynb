{
 "cells": [
  {
   "cell_type": "code",
   "execution_count": 14,
   "metadata": {},
   "outputs": [],
   "source": [
    "import pandas as pd\n",
    "import matplotlib.pyplot as plt \n",
    "import pytorch_lightning as pl\n",
    "from model import *\n",
    "from module import * \n",
    "import altair as alt\n",
    "from pytorch_lightning.callbacks.progress import TQDMProgressBar\n",
    "import torch \n",
    "from pytorch_lightning.callbacks.early_stopping import EarlyStopping\n",
    "import argparse\n",
    "import numpy as np\n",
    "from pytorch_lightning.callbacks import ModelCheckpoint\n",
    "from  pytorch_lightning.loggers.tensorboard import TensorBoardLogger"
   ]
  },
  {
   "attachments": {},
   "cell_type": "markdown",
   "metadata": {},
   "source": [
    "Analyze distance prediction error"
   ]
  },
  {
   "attachments": {},
   "cell_type": "markdown",
   "metadata": {},
   "source": [
    "Analyze error per person"
   ]
  },
  {
   "cell_type": "code",
   "execution_count": 15,
   "metadata": {},
   "outputs": [],
   "source": [
    "backbone = \"resnet\"\n",
    "dataset = \"comma\"\n",
    "bs = 1\n",
    "gpu_num = 2"
   ]
  },
  {
   "cell_type": "code",
   "execution_count": 16,
   "metadata": {},
   "outputs": [],
   "source": [
    "def mse_loss(input, target, mask, reduction=\"mean\"):\n",
    "        out = (input[~mask]-target[~mask])**2\n",
    "        return out.mean() if reduction == \"mean\" else out "
   ]
  },
  {
   "cell_type": "code",
   "execution_count": 96,
   "metadata": {},
   "outputs": [],
   "source": [
    "def calculate_loss(logits, angle, distance, multitask):\n",
    "        print(angle, distance, logits)\n",
    "        if multitask == \"multitask\":\n",
    "            logits_angle, logits_dist = logits\n",
    "            mask = (distance > 50) | (distance == 0)\n",
    "            loss_angle = torch.sqrt(mse_loss(logits_angle.squeeze(), angle.squeeze(), mask))\n",
    "            loss_distance = torch.sqrt(mse_loss(logits_dist.squeeze(), distance.squeeze(), mask))\n",
    "            loss = loss_angle, loss_distance\n",
    "            \n",
    "            return loss_angle, loss_distance\n",
    "        elif multitask == \"angle\":\n",
    "            mask = distance.squeeze() == 0.0 \n",
    "            loss = torch.sqrt(mse_loss(logits.squeeze(), angle.squeeze(), mask))\n",
    "            return loss\n",
    "        elif multitask == \"distance\":\n",
    "            mask = (distance > 50)  | (distance == 0)\n",
    "            loss = torch.sqrt(mse_loss(logits.squeeze(), angle.squeeze(), mask))\n",
    "            return loss"
   ]
  },
  {
   "cell_type": "code",
   "execution_count": 5,
   "metadata": {},
   "outputs": [],
   "source": [
    "ckpt_pth_angle = f\"/data1/jessica/data/toyota/ckpts/COMMA/checkpoints_comma_angle/lightning_logs/version_17/checkpoints/epoch=21-step=1694.ckpt\"\n",
    "ckpt_pth_distance = f\"/data1/jessica/data/toyota/ckpts/COMMA/checkpoints_comma_distance/lightning_logs/version_40/checkpoints/epoch=39-step=1960.ckpt\"\n",
    "ckpt_pth_multitask = f\"/data1/jessica/data/toyota/ckpts/COMMA/checkpoints_comma_multitask/lightning_logs/version_23/checkpoints/epoch=31-step=2464.ckpt\""
   ]
  },
  {
   "cell_type": "code",
   "execution_count": 6,
   "metadata": {},
   "outputs": [],
   "source": [
    "p = '/data1/jessica/data/toyota/ckpts/COMMA/checkpoints_comma_distance/lightning_logs/version_49/dist.csv'\n",
    "df = pd.read_csv(p, header=None)"
   ]
  },
  {
   "cell_type": "code",
   "execution_count": 7,
   "metadata": {},
   "outputs": [],
   "source": [
    "df.columns = ['preds', 'targets']\n"
   ]
  },
  {
   "cell_type": "code",
   "execution_count": 8,
   "metadata": {},
   "outputs": [],
   "source": [
    "m = (df['targets'] > 40).astype(bool)  | (df['targets'] == 0).astype(bool) \n",
    "loss1 = torch.sqrt(mse_loss(torch.tensor(df['preds']),  torch.tensor(df['targets']), torch.tensor(m)))\n",
    "m = (df['targets'] > 50).astype(bool)  | (df['targets'] == 0).astype(bool) \n",
    "loss2 = torch.sqrt(mse_loss(torch.tensor(df['preds']),  torch.tensor(df['targets']), torch.tensor(m)))\n",
    "m = (df['targets'] > 60).astype(bool)  | (df['targets'] == 0).astype(bool) \n",
    "loss3 = torch.sqrt(mse_loss(torch.tensor(df['preds']),  torch.tensor(df['targets']), torch.tensor(m)))\n"
   ]
  },
  {
   "cell_type": "code",
   "execution_count": 9,
   "metadata": {},
   "outputs": [
    {
     "data": {
      "text/plain": [
       "(3.520562596060591, 3.7951675788970936, 5.254393132189306)"
      ]
     },
     "execution_count": 9,
     "metadata": {},
     "output_type": "execute_result"
    }
   ],
   "source": [
    "loss1.item(), loss2.item(), loss3.item()"
   ]
  },
  {
   "cell_type": "code",
   "execution_count": 10,
   "metadata": {},
   "outputs": [
    {
     "data": {
      "text/plain": [
       "Text(0, 0.5, 'RMSE')"
      ]
     },
     "execution_count": 10,
     "metadata": {},
     "output_type": "execute_result"
    },
    {
     "data": {
      "image/png": "[encoded data removed]",
      "text/plain": [
       "<Figure size 640x480 with 1 Axes>"
      ]
     },
     "metadata": {},
     "output_type": "display_data"
    }
   ],
   "source": [
    "plt.plot([\"<40\", \"<50\", \"<60\"], [loss1.item(), loss2.item(), loss3.item()])\n",
    "plt.xlabel(\"Distance\")\n",
    "plt.ylabel(\"RMSE\")"
   ]
  },
  {
   "cell_type": "code",
   "execution_count": 12,
   "metadata": {},
   "outputs": [],
   "source": [
    "res = {}"
   ]
  },
  {
   "cell_type": "code",
   "execution_count": 23,
   "metadata": {},
   "outputs": [
    {
     "name": "stderr",
     "output_type": "stream",
     "text": [
      "GPU available: True (cuda), used: True\n",
      "TPU available: False, using: 0 TPU cores\n",
      "IPU available: False, using: 0 IPUs\n",
      "HPU available: False, using: 0 HPUs\n",
      "Restoring states from the checkpoint path at /data1/jessica/data/toyota/ckpts/COMMA/checkpoints_comma_distance/lightning_logs/version_40/checkpoints/epoch=39-step=1960.ckpt\n",
      "LOCAL_RANK: 0 - CUDA_VISIBLE_DEVICES: [0,1,2,3]\n",
      "Loaded model weights from checkpoint at /data1/jessica/data/toyota/ckpts/COMMA/checkpoints_comma_distance/lightning_logs/version_40/checkpoints/epoch=39-step=1960.ckpt\n",
      "/home/jessica/.local/lib/python3.10/site-packages/pytorch_lightning/trainer/connectors/data_connector.py:224: PossibleUserWarning: The dataloader, predict_dataloader 0, does not have many workers which may be a bottleneck. Consider increasing the value of the `num_workers` argument` (try 40 which is the number of cpus on this machine) in the `DataLoader` init to improve performance.\n",
      "  rank_zero_warn(\n"
     ]
    },
    {
     "name": "stdout",
     "output_type": "stream",
     "text": [
      "Predicting DataLoader 0: 100%|██████████| 17/17 [04:02<00:00, 14.26s/it]\n",
      "torch.Size([230]) torch.Size([230]) torch.Size([230])\n",
      "torch.Size([230]) torch.Size([230]) torch.Size([230])\n",
      "torch.Size([230]) torch.Size([230]) torch.Size([230])\n",
      "torch.Size([230]) torch.Size([230]) torch.Size([230])\n",
      "torch.Size([230]) torch.Size([230]) torch.Size([230])\n",
      "torch.Size([230]) torch.Size([230]) torch.Size([230])\n",
      "torch.Size([230]) torch.Size([230]) torch.Size([230])\n",
      "torch.Size([230]) torch.Size([230]) torch.Size([230])\n",
      "torch.Size([230]) torch.Size([230]) torch.Size([230])\n",
      "torch.Size([230]) torch.Size([230]) torch.Size([230])\n",
      "torch.Size([230]) torch.Size([230]) torch.Size([230])\n",
      "torch.Size([230]) torch.Size([230]) torch.Size([230])\n",
      "torch.Size([230]) torch.Size([230]) torch.Size([230])\n",
      "torch.Size([230]) torch.Size([230]) torch.Size([230])\n",
      "torch.Size([230]) torch.Size([230]) torch.Size([230])\n",
      "torch.Size([230]) torch.Size([230]) torch.Size([230])\n",
      "torch.Size([230]) torch.Size([230]) torch.Size([230])\n",
      "[1.6302796602249146, nan, 7.269641399383545, 5.226180553436279, 1.416774034500122, 9.209961891174316, 7.851783275604248, 8.726227760314941, 1.93929123878479, 4.564552307128906, 9.46876049041748, 5.683714389801025, 14.190866470336914, 2.400890588760376, 5.229832172393799, 2.992000102996826, 2.8934268951416016]\n"
     ]
    },
    {
     "name": "stderr",
     "output_type": "stream",
     "text": [
      "GPU available: True (cuda), used: True\n",
      "TPU available: False, using: 0 TPU cores\n",
      "IPU available: False, using: 0 IPUs\n",
      "HPU available: False, using: 0 HPUs\n",
      "Restoring states from the checkpoint path at /data1/jessica/data/toyota/ckpts/COMMA/checkpoints_comma_angle/lightning_logs/version_17/checkpoints/epoch=21-step=1694.ckpt\n",
      "LOCAL_RANK: 0 - CUDA_VISIBLE_DEVICES: [0,1,2,3]\n",
      "Loaded model weights from checkpoint at /data1/jessica/data/toyota/ckpts/COMMA/checkpoints_comma_angle/lightning_logs/version_17/checkpoints/epoch=21-step=1694.ckpt\n"
     ]
    },
    {
     "name": "stdout",
     "output_type": "stream",
     "text": [
      "Predicting DataLoader 0: 100%|██████████| 17/17 [04:06<00:00, 14.49s/it]\n",
      "torch.Size([230]) torch.Size([230]) torch.Size([230])\n",
      "torch.Size([230]) torch.Size([230]) torch.Size([230])\n",
      "torch.Size([230]) torch.Size([230]) torch.Size([230])\n",
      "torch.Size([230]) torch.Size([230]) torch.Size([230])\n",
      "torch.Size([230]) torch.Size([230]) torch.Size([230])\n",
      "torch.Size([230]) torch.Size([230]) torch.Size([230])\n",
      "torch.Size([230]) torch.Size([230]) torch.Size([230])\n",
      "torch.Size([230]) torch.Size([230]) torch.Size([230])\n",
      "torch.Size([230]) torch.Size([230]) torch.Size([230])\n",
      "torch.Size([230]) torch.Size([230]) torch.Size([230])\n",
      "torch.Size([230]) torch.Size([230]) torch.Size([230])\n",
      "torch.Size([230]) torch.Size([230]) torch.Size([230])\n",
      "torch.Size([230]) torch.Size([230]) torch.Size([230])\n",
      "torch.Size([230]) torch.Size([230]) torch.Size([230])\n",
      "torch.Size([230]) torch.Size([230]) torch.Size([230])\n",
      "torch.Size([230]) torch.Size([230]) torch.Size([230])\n",
      "torch.Size([230]) torch.Size([230]) torch.Size([230])\n",
      "[0.37974870204925537, 0.368470698595047, 0.3702255189418793, 0.33413857221603394, 0.4566410481929779, 0.4581340551376343, 0.39151376485824585, 0.3987419307231903, 0.34941256046295166, 0.3649856150150299, 0.40374740958213806, 0.2898312211036682, 0.2453402280807495, 0.31991565227508545, 0.33452901244163513, 0.3646167814731598, 0.523684024810791]\n"
     ]
    },
    {
     "name": "stderr",
     "output_type": "stream",
     "text": [
      "GPU available: True (cuda), used: True\n",
      "TPU available: False, using: 0 TPU cores\n",
      "IPU available: False, using: 0 IPUs\n",
      "HPU available: False, using: 0 HPUs\n",
      "Restoring states from the checkpoint path at /data1/jessica/data/toyota/ckpts/COMMA/checkpoints_comma_multitask/lightning_logs/version_23/checkpoints/epoch=31-step=2464.ckpt\n",
      "LOCAL_RANK: 0 - CUDA_VISIBLE_DEVICES: [0,1,2,3]\n",
      "Loaded model weights from checkpoint at /data1/jessica/data/toyota/ckpts/COMMA/checkpoints_comma_multitask/lightning_logs/version_23/checkpoints/epoch=31-step=2464.ckpt\n"
     ]
    },
    {
     "name": "stdout",
     "output_type": "stream",
     "text": [
      "Predicting DataLoader 0:   0%|          | 0/17 [00:00<?, ?it/s]"
     ]
    },
    {
     "ename": "AttributeError",
     "evalue": "'VTN' object has no attribute 'multitask_param_angle'",
     "output_type": "error",
     "traceback": [
      "\u001b[0;31m---------------------------------------------------------------------------\u001b[0m",
      "\u001b[0;31mAttributeError\u001b[0m                            Traceback (most recent call last)",
      "Cell \u001b[0;32mIn [23], line 15\u001b[0m\n\u001b[1;32m      7\u001b[0m logger \u001b[39m=\u001b[39m TensorBoardLogger(save_dir\u001b[39m=\u001b[39mpth)\n\u001b[1;32m      8\u001b[0m trainer \u001b[39m=\u001b[39m pl\u001b[39m.\u001b[39mTrainer(\n\u001b[1;32m      9\u001b[0m     accelerator\u001b[39m=\u001b[39m\u001b[39m\"\u001b[39m\u001b[39mgpu\u001b[39m\u001b[39m\"\u001b[39m,\n\u001b[1;32m     10\u001b[0m     devices\u001b[39m=\u001b[39m[gpu_num] \u001b[39mif\u001b[39;00m torch\u001b[39m.\u001b[39mcuda\u001b[39m.\u001b[39mis_available() \u001b[39melse\u001b[39;00m \u001b[39mNone\u001b[39;00m, \n\u001b[0;32m   (...)\u001b[0m\n\u001b[1;32m     13\u001b[0m     default_root_dir\u001b[39m=\u001b[39mpth\n\u001b[1;32m     14\u001b[0m     )\n\u001b[0;32m---> 15\u001b[0m preds \u001b[39m=\u001b[39m trainer\u001b[39m.\u001b[39;49mpredict(module, ckpt_path\u001b[39m=\u001b[39;49mckpt_path)\n\u001b[1;32m     16\u001b[0m rmses \u001b[39m=\u001b[39m []\n\u001b[1;32m     17\u001b[0m \u001b[39mfor\u001b[39;00m i \u001b[39min\u001b[39;00m \u001b[39mrange\u001b[39m(\u001b[39mlen\u001b[39m(preds)):\n",
      "File \u001b[0;32m~/.local/lib/python3.10/site-packages/pytorch_lightning/trainer/trainer.py:850\u001b[0m, in \u001b[0;36mTrainer.predict\u001b[0;34m(self, model, dataloaders, datamodule, return_predictions, ckpt_path)\u001b[0m\n\u001b[1;32m    848\u001b[0m     \u001b[39mraise\u001b[39;00m \u001b[39mTypeError\u001b[39;00m(\u001b[39mf\u001b[39m\u001b[39m\"\u001b[39m\u001b[39m`Trainer.predict()` requires a `LightningModule`, got: \u001b[39m\u001b[39m{\u001b[39;00mmodel\u001b[39m.\u001b[39m\u001b[39m__class__\u001b[39m\u001b[39m.\u001b[39m\u001b[39m__qualname__\u001b[39m\u001b[39m}\u001b[39;00m\u001b[39m\"\u001b[39m)\n\u001b[1;32m    849\u001b[0m \u001b[39mself\u001b[39m\u001b[39m.\u001b[39mstrategy\u001b[39m.\u001b[39m_lightning_module \u001b[39m=\u001b[39m model \u001b[39mor\u001b[39;00m \u001b[39mself\u001b[39m\u001b[39m.\u001b[39mlightning_module\n\u001b[0;32m--> 850\u001b[0m \u001b[39mreturn\u001b[39;00m call\u001b[39m.\u001b[39;49m_call_and_handle_interrupt(\n\u001b[1;32m    851\u001b[0m     \u001b[39mself\u001b[39;49m, \u001b[39mself\u001b[39;49m\u001b[39m.\u001b[39;49m_predict_impl, model, dataloaders, datamodule, return_predictions, ckpt_path\n\u001b[1;32m    852\u001b[0m )\n",
      "File \u001b[0;32m~/.local/lib/python3.10/site-packages/pytorch_lightning/trainer/call.py:38\u001b[0m, in \u001b[0;36m_call_and_handle_interrupt\u001b[0;34m(trainer, trainer_fn, *args, **kwargs)\u001b[0m\n\u001b[1;32m     36\u001b[0m         \u001b[39mreturn\u001b[39;00m trainer\u001b[39m.\u001b[39mstrategy\u001b[39m.\u001b[39mlauncher\u001b[39m.\u001b[39mlaunch(trainer_fn, \u001b[39m*\u001b[39margs, trainer\u001b[39m=\u001b[39mtrainer, \u001b[39m*\u001b[39m\u001b[39m*\u001b[39mkwargs)\n\u001b[1;32m     37\u001b[0m     \u001b[39melse\u001b[39;00m:\n\u001b[0;32m---> 38\u001b[0m         \u001b[39mreturn\u001b[39;00m trainer_fn(\u001b[39m*\u001b[39;49margs, \u001b[39m*\u001b[39;49m\u001b[39m*\u001b[39;49mkwargs)\n\u001b[1;32m     40\u001b[0m \u001b[39mexcept\u001b[39;00m _TunerExitException:\n\u001b[1;32m     41\u001b[0m     trainer\u001b[39m.\u001b[39m_call_teardown_hook()\n",
      "File \u001b[0;32m~/.local/lib/python3.10/site-packages/pytorch_lightning/trainer/trainer.py:897\u001b[0m, in \u001b[0;36mTrainer._predict_impl\u001b[0;34m(self, model, dataloaders, datamodule, return_predictions, ckpt_path)\u001b[0m\n\u001b[1;32m    891\u001b[0m \u001b[39mself\u001b[39m\u001b[39m.\u001b[39m_ckpt_path \u001b[39m=\u001b[39m \u001b[39mself\u001b[39m\u001b[39m.\u001b[39m_checkpoint_connector\u001b[39m.\u001b[39m_set_ckpt_path(\n\u001b[1;32m    892\u001b[0m     \u001b[39mself\u001b[39m\u001b[39m.\u001b[39mstate\u001b[39m.\u001b[39mfn, ckpt_path, model_provided\u001b[39m=\u001b[39mmodel_provided, model_connected\u001b[39m=\u001b[39m\u001b[39mself\u001b[39m\u001b[39m.\u001b[39mlightning_module \u001b[39mis\u001b[39;00m \u001b[39mnot\u001b[39;00m \u001b[39mNone\u001b[39;00m\n\u001b[1;32m    893\u001b[0m )\n\u001b[1;32m    895\u001b[0m \u001b[39mself\u001b[39m\u001b[39m.\u001b[39m_predicted_ckpt_path \u001b[39m=\u001b[39m \u001b[39mself\u001b[39m\u001b[39m.\u001b[39mckpt_path  \u001b[39m# TODO: remove in v1.8\u001b[39;00m\n\u001b[0;32m--> 897\u001b[0m results \u001b[39m=\u001b[39m \u001b[39mself\u001b[39;49m\u001b[39m.\u001b[39;49m_run(model, ckpt_path\u001b[39m=\u001b[39;49m\u001b[39mself\u001b[39;49m\u001b[39m.\u001b[39;49mckpt_path)\n\u001b[1;32m    899\u001b[0m \u001b[39massert\u001b[39;00m \u001b[39mself\u001b[39m\u001b[39m.\u001b[39mstate\u001b[39m.\u001b[39mstopped\n\u001b[1;32m    900\u001b[0m \u001b[39mself\u001b[39m\u001b[39m.\u001b[39mpredicting \u001b[39m=\u001b[39m \u001b[39mFalse\u001b[39;00m\n",
      "File \u001b[0;32m~/.local/lib/python3.10/site-packages/pytorch_lightning/trainer/trainer.py:1061\u001b[0m, in \u001b[0;36mTrainer._run\u001b[0;34m(self, model, ckpt_path)\u001b[0m\n\u001b[1;32m   1057\u001b[0m \u001b[39mself\u001b[39m\u001b[39m.\u001b[39m_checkpoint_connector\u001b[39m.\u001b[39mrestore_training_state()\n\u001b[1;32m   1059\u001b[0m \u001b[39mself\u001b[39m\u001b[39m.\u001b[39m_checkpoint_connector\u001b[39m.\u001b[39mresume_end()\n\u001b[0;32m-> 1061\u001b[0m results \u001b[39m=\u001b[39m \u001b[39mself\u001b[39;49m\u001b[39m.\u001b[39;49m_run_stage()\n\u001b[1;32m   1063\u001b[0m log\u001b[39m.\u001b[39mdetail(\u001b[39mf\u001b[39m\u001b[39m\"\u001b[39m\u001b[39m{\u001b[39;00m\u001b[39mself\u001b[39m\u001b[39m.\u001b[39m\u001b[39m__class__\u001b[39m\u001b[39m.\u001b[39m\u001b[39m__name__\u001b[39m\u001b[39m}\u001b[39;00m\u001b[39m: trainer tearing down\u001b[39m\u001b[39m\"\u001b[39m)\n\u001b[1;32m   1064\u001b[0m \u001b[39mself\u001b[39m\u001b[39m.\u001b[39m_teardown()\n",
      "File \u001b[0;32m~/.local/lib/python3.10/site-packages/pytorch_lightning/trainer/trainer.py:1139\u001b[0m, in \u001b[0;36mTrainer._run_stage\u001b[0;34m(self)\u001b[0m\n\u001b[1;32m   1137\u001b[0m     \u001b[39mreturn\u001b[39;00m \u001b[39mself\u001b[39m\u001b[39m.\u001b[39m_run_evaluate()\n\u001b[1;32m   1138\u001b[0m \u001b[39mif\u001b[39;00m \u001b[39mself\u001b[39m\u001b[39m.\u001b[39mpredicting:\n\u001b[0;32m-> 1139\u001b[0m     \u001b[39mreturn\u001b[39;00m \u001b[39mself\u001b[39;49m\u001b[39m.\u001b[39;49m_run_predict()\n\u001b[1;32m   1140\u001b[0m \u001b[39mself\u001b[39m\u001b[39m.\u001b[39m_run_train()\n",
      "File \u001b[0;32m~/.local/lib/python3.10/site-packages/pytorch_lightning/trainer/trainer.py:1193\u001b[0m, in \u001b[0;36mTrainer._run_predict\u001b[0;34m(self)\u001b[0m\n\u001b[1;32m   1191\u001b[0m \u001b[39mself\u001b[39m\u001b[39m.\u001b[39mpredict_loop\u001b[39m.\u001b[39mtrainer \u001b[39m=\u001b[39m \u001b[39mself\u001b[39m\n\u001b[1;32m   1192\u001b[0m \u001b[39mwith\u001b[39;00m _evaluation_context(\u001b[39mself\u001b[39m\u001b[39m.\u001b[39maccelerator, \u001b[39mself\u001b[39m\u001b[39m.\u001b[39m_inference_mode):\n\u001b[0;32m-> 1193\u001b[0m     \u001b[39mreturn\u001b[39;00m \u001b[39mself\u001b[39;49m\u001b[39m.\u001b[39;49mpredict_loop\u001b[39m.\u001b[39;49mrun()\n",
      "File \u001b[0;32m~/.local/lib/python3.10/site-packages/pytorch_lightning/loops/loop.py:199\u001b[0m, in \u001b[0;36mLoop.run\u001b[0;34m(self, *args, **kwargs)\u001b[0m\n\u001b[1;32m    197\u001b[0m \u001b[39mtry\u001b[39;00m:\n\u001b[1;32m    198\u001b[0m     \u001b[39mself\u001b[39m\u001b[39m.\u001b[39mon_advance_start(\u001b[39m*\u001b[39margs, \u001b[39m*\u001b[39m\u001b[39m*\u001b[39mkwargs)\n\u001b[0;32m--> 199\u001b[0m     \u001b[39mself\u001b[39;49m\u001b[39m.\u001b[39;49madvance(\u001b[39m*\u001b[39;49margs, \u001b[39m*\u001b[39;49m\u001b[39m*\u001b[39;49mkwargs)\n\u001b[1;32m    200\u001b[0m     \u001b[39mself\u001b[39m\u001b[39m.\u001b[39mon_advance_end()\n\u001b[1;32m    201\u001b[0m     \u001b[39mself\u001b[39m\u001b[39m.\u001b[39m_restarting \u001b[39m=\u001b[39m \u001b[39mFalse\u001b[39;00m\n",
      "File \u001b[0;32m~/.local/lib/python3.10/site-packages/pytorch_lightning/loops/dataloader/prediction_loop.py:100\u001b[0m, in \u001b[0;36mPredictionLoop.advance\u001b[0;34m(self, *args, **kwargs)\u001b[0m\n\u001b[1;32m     97\u001b[0m dataloader_iter \u001b[39m=\u001b[39m \u001b[39menumerate\u001b[39m(dataloader)\n\u001b[1;32m     98\u001b[0m dl_max_batches \u001b[39m=\u001b[39m \u001b[39mself\u001b[39m\u001b[39m.\u001b[39mmax_batches[\u001b[39mself\u001b[39m\u001b[39m.\u001b[39mcurrent_dataloader_idx]\n\u001b[0;32m--> 100\u001b[0m dl_predictions, dl_batch_indices \u001b[39m=\u001b[39m \u001b[39mself\u001b[39;49m\u001b[39m.\u001b[39;49mepoch_loop\u001b[39m.\u001b[39;49mrun(\n\u001b[1;32m    101\u001b[0m     dataloader_iter, \u001b[39mself\u001b[39;49m\u001b[39m.\u001b[39;49mcurrent_dataloader_idx, dl_max_batches, \u001b[39mself\u001b[39;49m\u001b[39m.\u001b[39;49mnum_dataloaders\n\u001b[1;32m    102\u001b[0m )\n\u001b[1;32m    103\u001b[0m \u001b[39mself\u001b[39m\u001b[39m.\u001b[39mpredictions\u001b[39m.\u001b[39mappend(dl_predictions)\n\u001b[1;32m    104\u001b[0m \u001b[39mself\u001b[39m\u001b[39m.\u001b[39mepoch_batch_indices\u001b[39m.\u001b[39mappend(dl_batch_indices)\n",
      "File \u001b[0;32m~/.local/lib/python3.10/site-packages/pytorch_lightning/loops/loop.py:199\u001b[0m, in \u001b[0;36mLoop.run\u001b[0;34m(self, *args, **kwargs)\u001b[0m\n\u001b[1;32m    197\u001b[0m \u001b[39mtry\u001b[39;00m:\n\u001b[1;32m    198\u001b[0m     \u001b[39mself\u001b[39m\u001b[39m.\u001b[39mon_advance_start(\u001b[39m*\u001b[39margs, \u001b[39m*\u001b[39m\u001b[39m*\u001b[39mkwargs)\n\u001b[0;32m--> 199\u001b[0m     \u001b[39mself\u001b[39;49m\u001b[39m.\u001b[39;49madvance(\u001b[39m*\u001b[39;49margs, \u001b[39m*\u001b[39;49m\u001b[39m*\u001b[39;49mkwargs)\n\u001b[1;32m    200\u001b[0m     \u001b[39mself\u001b[39m\u001b[39m.\u001b[39mon_advance_end()\n\u001b[1;32m    201\u001b[0m     \u001b[39mself\u001b[39m\u001b[39m.\u001b[39m_restarting \u001b[39m=\u001b[39m \u001b[39mFalse\u001b[39;00m\n",
      "File \u001b[0;32m~/.local/lib/python3.10/site-packages/pytorch_lightning/loops/epoch/prediction_epoch_loop.py:100\u001b[0m, in \u001b[0;36mPredictionEpochLoop.advance\u001b[0;34m(self, dataloader_iter, dataloader_idx, dl_max_batches, num_dataloaders)\u001b[0m\n\u001b[1;32m     96\u001b[0m batch \u001b[39m=\u001b[39m \u001b[39mself\u001b[39m\u001b[39m.\u001b[39mtrainer\u001b[39m.\u001b[39m_call_strategy_hook(\u001b[39m\"\u001b[39m\u001b[39mbatch_to_device\u001b[39m\u001b[39m\"\u001b[39m, batch, dataloader_idx\u001b[39m=\u001b[39mdataloader_idx)\n\u001b[1;32m     98\u001b[0m \u001b[39mself\u001b[39m\u001b[39m.\u001b[39mbatch_progress\u001b[39m.\u001b[39mincrement_ready()\n\u001b[0;32m--> 100\u001b[0m \u001b[39mself\u001b[39;49m\u001b[39m.\u001b[39;49m_predict_step(batch, batch_idx, dataloader_idx)\n",
      "File \u001b[0;32m~/.local/lib/python3.10/site-packages/pytorch_lightning/loops/epoch/prediction_epoch_loop.py:129\u001b[0m, in \u001b[0;36mPredictionEpochLoop._predict_step\u001b[0;34m(self, batch, batch_idx, dataloader_idx)\u001b[0m\n\u001b[1;32m    125\u001b[0m \u001b[39mself\u001b[39m\u001b[39m.\u001b[39mtrainer\u001b[39m.\u001b[39m_call_lightning_module_hook(\u001b[39m\"\u001b[39m\u001b[39mon_predict_batch_start\u001b[39m\u001b[39m\"\u001b[39m, batch, batch_idx, dataloader_idx)\n\u001b[1;32m    127\u001b[0m \u001b[39mself\u001b[39m\u001b[39m.\u001b[39mbatch_progress\u001b[39m.\u001b[39mincrement_started()\n\u001b[0;32m--> 129\u001b[0m predictions \u001b[39m=\u001b[39m \u001b[39mself\u001b[39;49m\u001b[39m.\u001b[39;49mtrainer\u001b[39m.\u001b[39;49m_call_strategy_hook(\u001b[39m\"\u001b[39;49m\u001b[39mpredict_step\u001b[39;49m\u001b[39m\"\u001b[39;49m, \u001b[39m*\u001b[39;49mstep_kwargs\u001b[39m.\u001b[39;49mvalues())\n\u001b[1;32m    131\u001b[0m \u001b[39mself\u001b[39m\u001b[39m.\u001b[39mbatch_progress\u001b[39m.\u001b[39mincrement_processed()\n\u001b[1;32m    133\u001b[0m \u001b[39mif\u001b[39;00m predictions \u001b[39mis\u001b[39;00m \u001b[39mNone\u001b[39;00m:\n",
      "File \u001b[0;32m~/.local/lib/python3.10/site-packages/pytorch_lightning/trainer/trainer.py:1443\u001b[0m, in \u001b[0;36mTrainer._call_strategy_hook\u001b[0;34m(self, hook_name, *args, **kwargs)\u001b[0m\n\u001b[1;32m   1440\u001b[0m     \u001b[39mreturn\u001b[39;00m\n\u001b[1;32m   1442\u001b[0m \u001b[39mwith\u001b[39;00m \u001b[39mself\u001b[39m\u001b[39m.\u001b[39mprofiler\u001b[39m.\u001b[39mprofile(\u001b[39mf\u001b[39m\u001b[39m\"\u001b[39m\u001b[39m[Strategy]\u001b[39m\u001b[39m{\u001b[39;00m\u001b[39mself\u001b[39m\u001b[39m.\u001b[39mstrategy\u001b[39m.\u001b[39m\u001b[39m__class__\u001b[39m\u001b[39m.\u001b[39m\u001b[39m__name__\u001b[39m\u001b[39m}\u001b[39;00m\u001b[39m.\u001b[39m\u001b[39m{\u001b[39;00mhook_name\u001b[39m}\u001b[39;00m\u001b[39m\"\u001b[39m):\n\u001b[0;32m-> 1443\u001b[0m     output \u001b[39m=\u001b[39m fn(\u001b[39m*\u001b[39;49margs, \u001b[39m*\u001b[39;49m\u001b[39m*\u001b[39;49mkwargs)\n\u001b[1;32m   1445\u001b[0m \u001b[39m# restore current_fx when nested context\u001b[39;00m\n\u001b[1;32m   1446\u001b[0m pl_module\u001b[39m.\u001b[39m_current_fx_name \u001b[39m=\u001b[39m prev_fx_name\n",
      "File \u001b[0;32m~/.local/lib/python3.10/site-packages/pytorch_lightning/strategies/strategy.py:408\u001b[0m, in \u001b[0;36mStrategy.predict_step\u001b[0;34m(self, *args, **kwargs)\u001b[0m\n\u001b[1;32m    406\u001b[0m \u001b[39mwith\u001b[39;00m \u001b[39mself\u001b[39m\u001b[39m.\u001b[39mprecision_plugin\u001b[39m.\u001b[39mpredict_step_context():\n\u001b[1;32m    407\u001b[0m     \u001b[39massert\u001b[39;00m \u001b[39misinstance\u001b[39m(\u001b[39mself\u001b[39m\u001b[39m.\u001b[39mmodel, PredictStep)\n\u001b[0;32m--> 408\u001b[0m     \u001b[39mreturn\u001b[39;00m \u001b[39mself\u001b[39;49m\u001b[39m.\u001b[39;49mmodel\u001b[39m.\u001b[39;49mpredict_step(\u001b[39m*\u001b[39;49margs, \u001b[39m*\u001b[39;49m\u001b[39m*\u001b[39;49mkwargs)\n",
      "File \u001b[0;32m~/personalized_driving_toyota/module.py:73\u001b[0m, in \u001b[0;36mLaneModule.predict_step\u001b[0;34m(self, batch, batch_idx)\u001b[0m\n\u001b[1;32m     71\u001b[0m         \u001b[39mif\u001b[39;00m \u001b[39mself\u001b[39m\u001b[39m.\u001b[39mmultitask \u001b[39m==\u001b[39m \u001b[39m\"\u001b[39m\u001b[39mdistance\u001b[39m\u001b[39m\"\u001b[39m \u001b[39mand\u001b[39;00m \u001b[39mlen\u001b[39m(logits_all) \u001b[39m>\u001b[39m \u001b[39m0\u001b[39m:\n\u001b[1;32m     72\u001b[0m             distance[:,i\u001b[39m+\u001b[39mj] \u001b[39m=\u001b[39m torch\u001b[39m.\u001b[39mtensor(logits_all)[\u001b[39m-\u001b[39m\u001b[39m1\u001b[39m]\n\u001b[0;32m---> 73\u001b[0m         logits \u001b[39m=\u001b[39m \u001b[39mself\u001b[39;49m(input_ids_img, input_ids_angle, input_ids_distance, input_ids_vego)[:, \u001b[39m-\u001b[39m\u001b[39m1\u001b[39m]\n\u001b[1;32m     74\u001b[0m         logits_all\u001b[39m.\u001b[39mappend(logits)\n\u001b[1;32m     75\u001b[0m \u001b[39mreturn\u001b[39;00m torch\u001b[39m.\u001b[39mtensor(logits_all), angle[:,\u001b[39mself\u001b[39m\u001b[39m.\u001b[39mtime_horizon:], distance[:,\u001b[39mself\u001b[39m\u001b[39m.\u001b[39mtime_horizon:]\n",
      "File \u001b[0;32m~/.local/lib/python3.10/site-packages/torch/nn/modules/module.py:1190\u001b[0m, in \u001b[0;36mModule._call_impl\u001b[0;34m(self, *input, **kwargs)\u001b[0m\n\u001b[1;32m   1186\u001b[0m \u001b[39m# If we don't have any hooks, we want to skip the rest of the logic in\u001b[39;00m\n\u001b[1;32m   1187\u001b[0m \u001b[39m# this function, and just call forward.\u001b[39;00m\n\u001b[1;32m   1188\u001b[0m \u001b[39mif\u001b[39;00m \u001b[39mnot\u001b[39;00m (\u001b[39mself\u001b[39m\u001b[39m.\u001b[39m_backward_hooks \u001b[39mor\u001b[39;00m \u001b[39mself\u001b[39m\u001b[39m.\u001b[39m_forward_hooks \u001b[39mor\u001b[39;00m \u001b[39mself\u001b[39m\u001b[39m.\u001b[39m_forward_pre_hooks \u001b[39mor\u001b[39;00m _global_backward_hooks\n\u001b[1;32m   1189\u001b[0m         \u001b[39mor\u001b[39;00m _global_forward_hooks \u001b[39mor\u001b[39;00m _global_forward_pre_hooks):\n\u001b[0;32m-> 1190\u001b[0m     \u001b[39mreturn\u001b[39;00m forward_call(\u001b[39m*\u001b[39;49m\u001b[39minput\u001b[39;49m, \u001b[39m*\u001b[39;49m\u001b[39m*\u001b[39;49mkwargs)\n\u001b[1;32m   1191\u001b[0m \u001b[39m# Do not call functions when jit is used\u001b[39;00m\n\u001b[1;32m   1192\u001b[0m full_backward_hooks, non_full_backward_hooks \u001b[39m=\u001b[39m [], []\n",
      "File \u001b[0;32m~/personalized_driving_toyota/module.py:26\u001b[0m, in \u001b[0;36mLaneModule.forward\u001b[0;34m(self, x, angle, distance, vego)\u001b[0m\n\u001b[1;32m     25\u001b[0m \u001b[39mdef\u001b[39;00m \u001b[39mforward\u001b[39m(\u001b[39mself\u001b[39m, x, angle, distance, vego):\n\u001b[0;32m---> 26\u001b[0m     \u001b[39mreturn\u001b[39;00m \u001b[39mself\u001b[39;49m\u001b[39m.\u001b[39;49mmodel(x, angle, distance, vego)\n",
      "File \u001b[0;32m~/.local/lib/python3.10/site-packages/torch/nn/modules/module.py:1190\u001b[0m, in \u001b[0;36mModule._call_impl\u001b[0;34m(self, *input, **kwargs)\u001b[0m\n\u001b[1;32m   1186\u001b[0m \u001b[39m# If we don't have any hooks, we want to skip the rest of the logic in\u001b[39;00m\n\u001b[1;32m   1187\u001b[0m \u001b[39m# this function, and just call forward.\u001b[39;00m\n\u001b[1;32m   1188\u001b[0m \u001b[39mif\u001b[39;00m \u001b[39mnot\u001b[39;00m (\u001b[39mself\u001b[39m\u001b[39m.\u001b[39m_backward_hooks \u001b[39mor\u001b[39;00m \u001b[39mself\u001b[39m\u001b[39m.\u001b[39m_forward_hooks \u001b[39mor\u001b[39;00m \u001b[39mself\u001b[39m\u001b[39m.\u001b[39m_forward_pre_hooks \u001b[39mor\u001b[39;00m _global_backward_hooks\n\u001b[1;32m   1189\u001b[0m         \u001b[39mor\u001b[39;00m _global_forward_hooks \u001b[39mor\u001b[39;00m _global_forward_pre_hooks):\n\u001b[0;32m-> 1190\u001b[0m     \u001b[39mreturn\u001b[39;00m forward_call(\u001b[39m*\u001b[39;49m\u001b[39minput\u001b[39;49m, \u001b[39m*\u001b[39;49m\u001b[39m*\u001b[39;49mkwargs)\n\u001b[1;32m   1191\u001b[0m \u001b[39m# Do not call functions when jit is used\u001b[39;00m\n\u001b[1;32m   1192\u001b[0m full_backward_hooks, non_full_backward_hooks \u001b[39m=\u001b[39m [], []\n",
      "File \u001b[0;32m~/personalized_driving_toyota/model.py:189\u001b[0m, in \u001b[0;36mVTN.forward\u001b[0;34m(self, x, angle, distance, vego)\u001b[0m\n\u001b[1;32m    187\u001b[0m     \u001b[39mreturn\u001b[39;00m x[:,\u001b[39m1\u001b[39m:F\u001b[39m+\u001b[39m\u001b[39m1\u001b[39m,:] \u001b[39m# we want to exclude the starting token since we don't have any previous knowledge about it \u001b[39;00m\n\u001b[1;32m    188\u001b[0m \u001b[39melse\u001b[39;00m:\n\u001b[0;32m--> 189\u001b[0m     \u001b[39mreturn\u001b[39;00m x[:,\u001b[39m1\u001b[39m:F\u001b[39m+\u001b[39m\u001b[39m1\u001b[39m,:], x2[:,\u001b[39m1\u001b[39m:F\u001b[39m+\u001b[39m\u001b[39m1\u001b[39m,:], \u001b[39mself\u001b[39;49m\u001b[39m.\u001b[39;49mmultitask_param_angle, \u001b[39mself\u001b[39m\u001b[39m.\u001b[39mmultitask_param_dist\n",
      "File \u001b[0;32m~/.local/lib/python3.10/site-packages/torch/nn/modules/module.py:1265\u001b[0m, in \u001b[0;36mModule.__getattr__\u001b[0;34m(self, name)\u001b[0m\n\u001b[1;32m   1263\u001b[0m     \u001b[39mif\u001b[39;00m name \u001b[39min\u001b[39;00m modules:\n\u001b[1;32m   1264\u001b[0m         \u001b[39mreturn\u001b[39;00m modules[name]\n\u001b[0;32m-> 1265\u001b[0m \u001b[39mraise\u001b[39;00m \u001b[39mAttributeError\u001b[39;00m(\u001b[39m\"\u001b[39m\u001b[39m'\u001b[39m\u001b[39m{}\u001b[39;00m\u001b[39m'\u001b[39m\u001b[39m object has no attribute \u001b[39m\u001b[39m'\u001b[39m\u001b[39m{}\u001b[39;00m\u001b[39m'\u001b[39m\u001b[39m\"\u001b[39m\u001b[39m.\u001b[39mformat(\n\u001b[1;32m   1266\u001b[0m     \u001b[39mtype\u001b[39m(\u001b[39mself\u001b[39m)\u001b[39m.\u001b[39m\u001b[39m__name__\u001b[39m, name))\n",
      "\u001b[0;31mAttributeError\u001b[0m: 'VTN' object has no attribute 'multitask_param_angle'"
     ]
    }
   ],
   "source": [
    "\n",
    "for ckpt_path in [ckpt_pth_distance, ckpt_pth_angle, ckpt_pth_multitask]:\n",
    "    task = \"angle\" if 'angle' in ckpt_path else \"distance\" if \"distance\" in ckpt_path else \"multitask\"\n",
    "    multitask = task == 'multitask'\n",
    "    model = VTN(multitask=task, backbone=backbone)\n",
    "    module = LaneModule(model, multitask=task, dataset = dataset, bs=bs, time_horizon=10)\n",
    "    pth = f\"/data1/jessica/data/toyota/ckpts/COMMA/checkpoints_{dataset}_{task}\"\n",
    "    logger = TensorBoardLogger(save_dir=pth)\n",
    "    trainer = pl.Trainer(\n",
    "        accelerator=\"gpu\",\n",
    "        devices=[gpu_num] if torch.cuda.is_available() else None, \n",
    "        logger=logger,\n",
    "        max_epochs=100,\n",
    "        default_root_dir=pth\n",
    "        )\n",
    "    preds = trainer.predict(module, ckpt_path=ckpt_path)\n",
    "    rmses = []\n",
    "    for i in range(len(preds)):\n",
    "        elem = preds[i]\n",
    "        if multitask:\n",
    "            logits_angle, logits_distance = elem[0][0], elem[0][1]\n",
    "        logits, angle, distance = elem[0], elem[1].squeeze(), elem[2].squeeze()\n",
    "        print(logits.shape, angle.shape, distance.shape)\n",
    "        if \"multitask\" in ckpt_path:\n",
    "            loss = calculate_loss(logits, angle, distance, multitask='multitask')  \n",
    "            rmses.append(loss)\n",
    "        if \"angle\" in ckpt_path:\n",
    "            loss = calculate_loss(logits, angle, distance, multitask=\"angle\") \n",
    "            rmses.append(loss.item())\n",
    "        if \"distance\" in ckpt_path:\n",
    "            distance = angle\n",
    "            loss = calculate_loss(logits, distance, distance, multitask=\"distance\")\n",
    "            rmses.append(loss.item())\n",
    "        \n",
    "    res[task] = rmses\n",
    "    print(rmses)\n",
    "\n"
   ]
  },
  {
   "cell_type": "code",
   "execution_count": 24,
   "metadata": {},
   "outputs": [
    {
     "data": {
      "text/html": [
       "\n",
       "<div id=\"altair-viz-cd6cc3adc5ff4e959f6cf2cfa0bbca30\"></div>\n",
       "<script type=\"text/javascript\">\n",
       "  var VEGA_DEBUG = (typeof VEGA_DEBUG == \"undefined\") ? {} : VEGA_DEBUG;\n",
       "  (function(spec, embedOpt){\n",
       "    let outputDiv = document.currentScript.previousElementSibling;\n",
       "    if (outputDiv.id !== \"altair-viz-cd6cc3adc5ff4e959f6cf2cfa0bbca30\") {\n",
       "      outputDiv = document.getElementById(\"altair-viz-cd6cc3adc5ff4e959f6cf2cfa0bbca30\");\n",
       "    }\n",
       "    const paths = {\n",
       "      \"vega\": \"https://cdn.jsdelivr.net/npm//vega@5?noext\",\n",
       "      \"vega-lib\": \"https://cdn.jsdelivr.net/npm//vega-lib?noext\",\n",
       "      \"vega-lite\": \"https://cdn.jsdelivr.net/npm//vega-lite@4.17.0?noext\",\n",
       "      \"vega-embed\": \"https://cdn.jsdelivr.net/npm//vega-embed@6?noext\",\n",
       "    };\n",
       "\n",
       "    function maybeLoadScript(lib, version) {\n",
       "      var key = `${lib.replace(\"-\", \"\")}_version`;\n",
       "      return (VEGA_DEBUG[key] == version) ?\n",
       "        Promise.resolve(paths[lib]) :\n",
       "        new Promise(function(resolve, reject) {\n",
       "          var s = document.createElement('script');\n",
       "          document.getElementsByTagName(\"head\")[0].appendChild(s);\n",
       "          s.async = true;\n",
       "          s.onload = () => {\n",
       "            VEGA_DEBUG[key] = version;\n",
       "            return resolve(paths[lib]);\n",
       "          };\n",
       "          s.onerror = () => reject(`Error loading script: ${paths[lib]}`);\n",
       "          s.src = paths[lib];\n",
       "        });\n",
       "    }\n",
       "\n",
       "    function showError(err) {\n",
       "      outputDiv.innerHTML = `<div class=\"error\" style=\"color:red;\">${err}</div>`;\n",
       "      throw err;\n",
       "    }\n",
       "\n",
       "    function displayChart(vegaEmbed) {\n",
       "      vegaEmbed(outputDiv, spec, embedOpt)\n",
       "        .catch(err => showError(`Javascript Error: ${err.message}<br>This usually means there's a typo in your chart specification. See the javascript console for the full traceback.`));\n",
       "    }\n",
       "\n",
       "    if(typeof define === \"function\" && define.amd) {\n",
       "      requirejs.config({paths});\n",
       "      require([\"vega-embed\"], displayChart, err => showError(`Error loading script: ${err.message}`));\n",
       "    } else {\n",
       "      maybeLoadScript(\"vega\", \"5\")\n",
       "        .then(() => maybeLoadScript(\"vega-lite\", \"4.17.0\"))\n",
       "        .then(() => maybeLoadScript(\"vega-embed\", \"6\"))\n",
       "        .catch(showError)\n",
       "        .then(() => displayChart(vegaEmbed));\n",
       "    }\n",
       "  })({\"config\": {\"view\": {\"continuousWidth\": 400, \"continuousHeight\": 300}}, \"data\": {\"name\": \"data-4e803d38e25fb9c91b093af90ca18aff\"}, \"mark\": {\"type\": \"circle\", \"size\": 60}, \"encoding\": {\"tooltip\": [{\"field\": \"driver\", \"type\": \"quantitative\"}], \"x\": {\"field\": \"distance\", \"scale\": {\"domain\": [0, 16]}, \"type\": \"quantitative\"}, \"y\": {\"field\": \"angle\", \"scale\": {\"domain\": [0, 3]}, \"type\": \"quantitative\"}}, \"selection\": {\"selector008\": {\"type\": \"interval\", \"bind\": \"scales\", \"encodings\": [\"x\", \"y\"]}}, \"$schema\": \"https://vega.github.io/schema/vega-lite/v4.17.0.json\", \"datasets\": {\"data-4e803d38e25fb9c91b093af90ca18aff\": [{\"distance\": 1.6302796602249146, \"angle\": 0.37974870204925537, \"driver\": 0}, {\"distance\": null, \"angle\": 0.368470698595047, \"driver\": 1}, {\"distance\": 7.269641399383545, \"angle\": 0.3702255189418793, \"driver\": 2}, {\"distance\": 5.226180553436279, \"angle\": 0.33413857221603394, \"driver\": 3}, {\"distance\": 1.416774034500122, \"angle\": 0.4566410481929779, \"driver\": 4}, {\"distance\": 9.209961891174316, \"angle\": 0.4581340551376343, \"driver\": 5}, {\"distance\": 7.851783275604248, \"angle\": 0.39151376485824585, \"driver\": 6}, {\"distance\": 8.726227760314941, \"angle\": 0.3987419307231903, \"driver\": 7}, {\"distance\": 1.93929123878479, \"angle\": 0.34941256046295166, \"driver\": 8}, {\"distance\": 4.564552307128906, \"angle\": 0.3649856150150299, \"driver\": 9}, {\"distance\": 9.46876049041748, \"angle\": 0.40374740958213806, \"driver\": 10}, {\"distance\": 5.683714389801025, \"angle\": 0.2898312211036682, \"driver\": 11}, {\"distance\": 14.190866470336914, \"angle\": 0.2453402280807495, \"driver\": 12}, {\"distance\": 2.400890588760376, \"angle\": 0.31991565227508545, \"driver\": 13}, {\"distance\": 5.229832172393799, \"angle\": 0.33452901244163513, \"driver\": 14}, {\"distance\": 2.992000102996826, \"angle\": 0.3646167814731598, \"driver\": 15}, {\"distance\": 2.8934268951416016, \"angle\": 0.523684024810791, \"driver\": 16}]}}, {\"mode\": \"vega-lite\"});\n",
       "</script>"
      ],
      "text/plain": [
       "alt.Chart(...)"
      ]
     },
     "execution_count": 24,
     "metadata": {},
     "output_type": "execute_result"
    }
   ],
   "source": [
    "df = pd.DataFrame()\n",
    "df['distance'] = res['distance']\n",
    "df['angle'] = res['angle']\n",
    "df['driver'] = range(len(res['angle']))\n",
    "alt.Chart(df).mark_circle(size=60).encode(\n",
    "    x=alt.X('distance',scale=alt.Scale(domain=(0, 16))),\n",
    "    y=alt.Y('angle',scale=alt.Scale(domain=(0, 3))),\n",
    "    tooltip=['driver']\n",
    ").interactive()\n"
   ]
  },
  {
   "cell_type": "code",
   "execution_count": null,
   "metadata": {},
   "outputs": [],
   "source": [
    "l = list(zip(*res[\"multitask\"]))\n",
    "z = l[1]\n",
    "y = l[0]\n",
    "df = pd.DataFrame()\n",
    "df['distance'] = z\n",
    "df['distance'] = df['distance'].apply(lambda x: x.item())\n",
    "df['angle'] = y\n",
    "df['angle'] = df['angle'].apply(lambda x: x.item())\n",
    "df['driver'] = range(len(y))\n",
    "alt.Chart(df).mark_circle(size=60).encode(\n",
    "    x='distance',\n",
    "    y='angle',\n",
    "    tooltip=['driver']\n",
    ").interactive()"
   ]
  },
  {
   "cell_type": "code",
   "execution_count": null,
   "metadata": {},
   "outputs": [],
   "source": [
    "preds_path = '/data1/jessica/data/toyota/ckpts/COMMA/checkpoints_comma_distance/lightning_logs/version_49/dist.csv'\n",
    "df = pd.read_csv(preds_path)\n",
    "df.columns = ['preds', 'targets']\n",
    "df = df[df['targets'] != 0]\n",
    "df['err'] = df['targets'] - df['preds']\n",
    "ten = df[df['targets'] < 10]\n",
    "six = df[df['targets'] > 60]\n",
    "twen = df[(df['targets'] > 10 & (df['targets'] < 20))]\n",
    "four = df[(df['targets'] > 20 & (df['targets'] < 40))]\n",
    "fift = df[(df['targets'] > 40 & (df['targets'] < 60))]\n",
    "ndf = {}\n",
    "ndf[\"<10\"] = ten['err'].tolist()\n",
    "ndf[\"10-20\"] = twen['err'].tolist()\n",
    "ndf[\"20-40\"] = four['err'].tolist()\n",
    "ndf[\"40-60\"] = fift['err'].tolist()\n",
    "ndf[\">60\"] = six['err'].tolist()\n",
    "my_dict = ndf\n",
    "\n",
    "fig, ax = plt.subplots()\n",
    "ax.boxplot(my_dict.values())\n",
    "ax.set_xticklabels(my_dict.keys())"
   ]
  },
  {
   "cell_type": "code",
   "execution_count": 21,
   "metadata": {},
   "outputs": [],
   "source": [
    "multitask_parameter_resnet_backbone = '/data1/jessica/data/toyota/ckpts/checkpoints_comma_multitask/lightning_logs/version_9/checkpoints/epoch=86-step=2523.ckpt'\n",
    "multitask_parameter_vit_backbone = '/data1/jessica/data/toyota/ckpts/checkpoints_comma_multitask/lightning_logs/version_22/checkpoints/epoch=9-step=2280.ckpt'\n",
    "angle_vit_backbone =  '/data1/jessica/data/toyota/ckpts/checkpoints_comma_angle/lightning_logs/version_2/checkpoints/epoch=11-step=2736.ckpt'\n",
    "distance_vit_backbone =  '/data1/jessica/data/toyota/ckpts/checkpoints_comma_distance/lightning_logs/version_0/checkpoints/epoch=25-step=5928.ckpt'\n",
    "multitask_resnet_backbone_03_07_angle_dist = '/data1/jessica/data/toyota/ckpts/checkpoints_comma_multitask/lightning_logs/version_23/checkpoints/epoch=64-step=3705.ckpt'\n",
    "multitask_resnet_backbone_7_3_angle_dist = '/data1/jessica/data/toyota/ckpts/checkpoints_comma_multitask/lightning_logs/version_24/checkpoints/epoch=48-step=11172.ckp'"
   ]
  },
  {
   "cell_type": "code",
   "execution_count": 73,
   "metadata": {},
   "outputs": [],
   "source": [
    "res_dict = {}"
   ]
  },
  {
   "cell_type": "code",
   "execution_count": 94,
   "metadata": {},
   "outputs": [
    {
     "name": "stderr",
     "output_type": "stream",
     "text": [
      "GPU available: True (cuda), used: True\n",
      "TPU available: False, using: 0 TPU cores\n",
      "IPU available: False, using: 0 IPUs\n",
      "HPU available: False, using: 0 HPUs\n",
      "Restoring states from the checkpoint path at /data1/jessica/data/toyota/ckpts/checkpoints_comma_multitask/lightning_logs/version_9/checkpoints/epoch=86-step=2523.ckpt\n",
      "LOCAL_RANK: 0 - CUDA_VISIBLE_DEVICES: [0,1,2,3]\n",
      "Loaded model weights from checkpoint at /data1/jessica/data/toyota/ckpts/checkpoints_comma_multitask/lightning_logs/version_9/checkpoints/epoch=86-step=2523.ckpt\n",
      "/home/jessica/.local/lib/python3.10/site-packages/pytorch_lightning/trainer/connectors/data_connector.py:224: PossibleUserWarning: The dataloader, predict_dataloader 0, does not have many workers which may be a bottleneck. Consider increasing the value of the `num_workers` argument` (try 40 which is the number of cpus on this machine) in the `DataLoader` init to improve performance.\n",
      "  rank_zero_warn(\n"
     ]
    },
    {
     "name": "stdout",
     "output_type": "stream",
     "text": [
      "Predicting DataLoader 0: 100%|██████████| 17/17 [00:57<00:00,  3.38s/it]\n"
     ]
    }
   ],
   "source": [
    "\n",
    "backbone = \"resnet\"\n",
    "dataset = \"comma\"\n",
    "bs = 1\n",
    "gpu_num = 2\n",
    "for ckpt_path in [multitask_parameter_resnet_backbone]:#distance_vit_backbone, angle_vit_backbone, multitask_parameter_vit_backbone]:\n",
    "    task = \"angle\" if 'angle' in ckpt_path else \"distance\" if \"distance\" in ckpt_path else \"multitask\"\n",
    "    model = VTN(multitask=task, backbone=backbone)\n",
    "    module = LaneModule(model, multitask=task, dataset = dataset, bs=bs)\n",
    "    pth = f\"/data1/jessica/data/toyota/ckpts/COMMA/checkpoints_{dataset}_{task}\"\n",
    "    logger = TensorBoardLogger(save_dir=pth)\n",
    "    trainer = pl.Trainer(\n",
    "        accelerator=\"gpu\",\n",
    "        devices=[gpu_num] if torch.cuda.is_available() else None, \n",
    "        logger=logger,\n",
    "        max_epochs=100,\n",
    "        default_root_dir=pth\n",
    "        )\n",
    "    preds = trainer.predict(module, ckpt_path=ckpt_path)\n",
    "    res_dict[ckpt_path] = preds\n"
   ]
  },
  {
   "cell_type": "code",
   "execution_count": 97,
   "metadata": {},
   "outputs": [
    {
     "name": "stdout",
     "output_type": "stream",
     "text": [
      "/data1/jessica/data/toyota/ckpts/checkpoints_comma_distance/lightning_logs/version_0/checkpoints/epoch=25-step=5928.ckpt tensor(12.2290)\n",
      "/data1/jessica/data/toyota/ckpts/checkpoints_comma_angle/lightning_logs/version_2/checkpoints/epoch=11-step=2736.ckpt tensor(5.4740)\n",
      "tensor([-1.9000, -1.9000, -1.6000,  ...,  6.0000,  8.0000,  8.2000]) tensor([61.5600, 61.3200, 61.5800,  ..., 22.2000, 22.6200, 22.9200])\n",
      "/data1/jessica/data/toyota/ckpts/checkpoints_comma_multitask/lightning_logs/version_22/checkpoints/epoch=9-step=2280.ckpt (tensor(9.1058), tensor(5.2456))\n",
      "tensor([-1.9000, -1.9000, -1.6000,  ...,  6.0000,  8.0000,  8.2000]) tensor([61.5600, 61.3200, 61.5800,  ..., 22.2000, 22.6200, 22.9200])\n",
      "/data1/jessica/data/toyota/ckpts/checkpoints_comma_multitask/lightning_logs/version_9/checkpoints/epoch=86-step=2523.ckpt (tensor(7.0857), tensor(3.1160))\n"
     ]
    }
   ],
   "source": [
    "for key in res_dict.keys():\n",
    "    preds = res_dict[key]\n",
    "    logits_angle = []\n",
    "    logits = []\n",
    "    logits_dist = []\n",
    "    angle = []\n",
    "    dist = []\n",
    "    for elem in preds: \n",
    "        angle.extend(elem[1].squeeze().tolist())\n",
    "        dist.extend(elem[2].squeeze().tolist())\n",
    "        if \"multitask\" not in key:\n",
    "            logits.extend(elem[0].squeeze().tolist())\n",
    "        else:\n",
    "            logits_angle.extend(elem[0][0].squeeze().tolist())\n",
    "            logits_dist.extend(elem[0][1].squeeze().tolist())\n",
    "    \n",
    "    print(key, calculate_loss(torch.tensor(logits) if \"multitask\" not in key else (torch.tensor(logits_angle), torch.tensor(logits_dist)), torch.tensor(angle), torch.tensor(dist), \"distance\" if 'dist' in key else (\"angle\" if \"angle\" in key else \"multitask\")))"
   ]
  },
  {
   "cell_type": "code",
   "execution_count": 20,
   "metadata": {},
   "outputs": [
    {
     "data": {
      "text/plain": [
       "tensor(2.2802)"
      ]
     },
     "execution_count": 20,
     "metadata": {},
     "output_type": "execute_result"
    }
   ],
   "source": []
  },
  {
   "cell_type": "code",
   "execution_count": null,
   "metadata": {},
   "outputs": [],
   "source": []
  }
 ],
 "metadata": {
  "kernelspec": {
   "display_name": "Python 3",
   "language": "python",
   "name": "python3"
  },
  "language_info": {
   "codemirror_mode": {
    "name": "ipython",
    "version": 3
   },
   "file_extension": ".py",
   "mimetype": "text/x-python",
   "name": "python",
   "nbconvert_exporter": "python",
   "pygments_lexer": "ipython3",
   "version": "3.10.6"
  },
  "orig_nbformat": 4,
  "vscode": {
   "interpreter": {
    "hash": "31f2aee4e71d21fbe5cf8b01ff0e069b9275f58929596ceb00d14d90e3e16cd6"
   }
  }
 },
 "nbformat": 4,
 "nbformat_minor": 2
}
