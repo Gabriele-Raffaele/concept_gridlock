{
 "cells": [
  {
   "cell_type": "code",
   "execution_count": 27,
   "metadata": {},
   "outputs": [],
   "source": [
    "import pandas as pd\n",
    "import torch\n",
    "import os, sys\n",
    "sys.path.append('..')\n",
    "import numpy as np\n",
    "from dataloader_nuscenes import * \n",
    "\n"
   ]
  },
  {
   "cell_type": "code",
   "execution_count": null,
   "metadata": {},
   "outputs": [],
   "source": [
    "merged_file = h5py.File('/data1/jessica/data/toyota/nuscenes/test_merged.hfd5', 'w')"
   ]
  },
  {
   "cell_type": "code",
   "execution_count": 29,
   "metadata": {},
   "outputs": [],
   "source": [
    "import h5py\n",
    "file1 = '/data1/jessica/data/toyota/nuscenes/test_2_consec_nuscenes.hfd5'\n",
    "file2 ='/data1/jessica/data/toyota/nuscenes/train_2_2_consec_nuscenes.hfd5'\n",
    "\n"
   ]
  },
  {
   "cell_type": "code",
   "execution_count": 30,
   "metadata": {},
   "outputs": [],
   "source": [
    "def save_h5py(i, sample, h):\n",
    "    group = h.create_group(str(i))\n",
    "    for col in sample.keys():\n",
    "            dt = np.float32 if col != 'image' else int\n",
    "            dataset_name = col #groups are divided by '/'\n",
    "            a = list(sample[col])\n",
    "            if col == 'description':\n",
    "                #print(a)\n",
    "                a = np.asarray(a)\n",
    "                dset = group.create_dataset(dataset_name, shape=a.shape, dtype=h5py.special_dtype(vlen=str))\n",
    "                # write data to dataset\n",
    "                dset[:] = a\n",
    "            else:\n",
    "                group.create_dataset(dataset_name, data = np.asarray(a, dtype=dt),\n",
    "                    #compression_opts=9,\n",
    "                    #chunks=(164, 20, 20, 3)\n",
    "                    compression='lzf')"
   ]
  },
  {
   "cell_type": "code",
   "execution_count": 31,
   "metadata": {},
   "outputs": [
    {
     "name": "stdout",
     "output_type": "stream",
     "text": [
      "Keys: <KeysViewHDF5 ['scene-0257', 'scene-0258', 'scene-0259', 'scene-0260', 'scene-0261', 'scene-0262', 'scene-0263', 'scene-0268', 'scene-0269', 'scene-0270', 'scene-0271', 'scene-0272', 'scene-0273', 'scene-0274', 'scene-0275', 'scene-0276', 'scene-0277', 'scene-0278', 'scene-0283', 'scene-0284', 'scene-0285', 'scene-0288', 'scene-0289', 'scene-0291', 'scene-0293', 'scene-0294', 'scene-0297', 'scene-0298', 'scene-0300', 'scene-0301', 'scene-0302', 'scene-0303', 'scene-0304', 'scene-0305', 'scene-0315', 'scene-0316', 'scene-0317', 'scene-0318', 'scene-0321', 'scene-0323', 'scene-0329', 'scene-0330', 'scene-0331', 'scene-0344', 'scene-0345', 'scene-0346', 'scene-0347', 'scene-0348', 'scene-0349', 'scene-0350', 'scene-0352', 'scene-0353', 'scene-0354', 'scene-0355', 'scene-0358', 'scene-0359', 'scene-0362', 'scene-0365', 'scene-0366', 'scene-0367', 'scene-0368', 'scene-0369', 'scene-0371', 'scene-0372', 'scene-0375', 'scene-0376', 'scene-0377', 'scene-0378', 'scene-0380', 'scene-0382', 'scene-0383', 'scene-0384', 'scene-0385', 'scene-0386', 'scene-0388', 'scene-0391', 'scene-0392', 'scene-0396', 'scene-0398', 'scene-0400', 'scene-0403', 'scene-0408', 'scene-0418', 'scene-0427']>\n",
      "84\n",
      "9\n",
      "61\n"
     ]
    }
   ],
   "source": [
    "with h5py.File(file1, \"r\") as f:\n",
    "    # Print all root level object names (aka keys) \n",
    "    # these can be group or dataset names \n",
    "    print(\"Keys: %s\" % f.keys())\n",
    "    print(len(f.keys()))\n",
    "    \n",
    "    # get first object name/key; may or may NOT be a group\n",
    "    for i in range(len(list(f.keys()))):\n",
    "        a_group_key = list(f.keys())[i]\n",
    "\n",
    "        # get the object type for a_group_key: usually group or dataset\n",
    "\n",
    "        # If a_group_key is a group name, \n",
    "        # this gets the object names in the group and returns as a list\n",
    "        data = list(f[a_group_key])\n",
    "\n",
    "        # If a_group_key is a dataset name, \n",
    "        # this gets the dataset values and returns as a list\n",
    "        data = list(f[a_group_key])\n",
    "        # preferred methods to get dataset values:\n",
    "        ds_obj = f[a_group_key]      # returns as a h5py dataset object\n",
    "        save_h5py(i, sample, h)\n"
   ]
  },
  {
   "cell_type": "code",
   "execution_count": null,
   "metadata": {},
   "outputs": [],
   "source": [
    "ds = NUScenesDataset(dataset_type=\"train\", multitask=\"distance\", ground_truth='normal', max_len=20)\n"
   ]
  }
 ],
 "metadata": {
  "kernelspec": {
   "display_name": "Python 3",
   "language": "python",
   "name": "python3"
  },
  "language_info": {
   "codemirror_mode": {
    "name": "ipython",
    "version": 3
   },
   "file_extension": ".py",
   "mimetype": "text/x-python",
   "name": "python",
   "nbconvert_exporter": "python",
   "pygments_lexer": "ipython3",
   "version": "3.10.6"
  },
  "orig_nbformat": 4
 },
 "nbformat": 4,
 "nbformat_minor": 2
}
