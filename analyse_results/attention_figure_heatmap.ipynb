{
 "cells": [
  {
   "cell_type": "code",
   "execution_count": 2,
   "metadata": {},
   "outputs": [],
   "source": [
    "import pandas as pd\n",
    "import numpy\n",
    "import torch \n",
    "import numpy as np\n",
    "from torch.utils.data import Dataset, DataLoader\n",
    "import sys\n",
    "sys.path.append(\"..\")\n",
    "from utils import pad_collate\n",
    "from dataloader_comma import CommaDataset\n",
    "from dataloader_nuscenes import NUScenesDataset\n",
    "from collections import Counter\n",
    "from model import VTN\n",
    "import matplotlib.pyplot as plt \n",
    "from PIL import Image\n",
    "import glob\n",
    "import os\n",
    "from utils import * \n",
    "import re\n",
    "from vis_utils import * \n"
   ]
  },
  {
   "cell_type": "code",
   "execution_count": 24,
   "metadata": {},
   "outputs": [
    {
     "name": "stdout",
     "output_type": "stream",
     "text": [
      "(27,)\n"
     ]
    },
    {
     "ename": "TypeError",
     "evalue": "can't convert cuda:1 device type tensor to numpy. Use Tensor.cpu() to copy the tensor to host memory first.",
     "output_type": "error",
     "traceback": [
      "\u001b[0;31m---------------------------------------------------------------------------\u001b[0m",
      "\u001b[0;31mTypeError\u001b[0m                                 Traceback (most recent call last)",
      "Cell \u001b[0;32mIn[24], line 34\u001b[0m\n\u001b[1;32m     32\u001b[0m \u001b[39mprint\u001b[39m(ali\u001b[39m.\u001b[39mshape)\n\u001b[1;32m     33\u001b[0m concepts \u001b[39m=\u001b[39m concepts\u001b[39m.\u001b[39msqueeze()\n\u001b[0;32m---> 34\u001b[0m weighted_concepts \u001b[39m=\u001b[39m concepts \u001b[39m*\u001b[39;49m ali\n\u001b[1;32m     36\u001b[0m top5_indices \u001b[39m=\u001b[39m torch\u001b[39m.\u001b[39mtensor(concepts)\u001b[39m.\u001b[39mtopk(\u001b[39m5\u001b[39m)\u001b[39m.\u001b[39mindices\n\u001b[1;32m     38\u001b[0m \u001b[39mfor\u001b[39;00m i, elem0 \u001b[39min\u001b[39;00m \u001b[39menumerate\u001b[39m(top5_indices):\n",
      "File \u001b[0;32m~/anaconda3/lib/python3.9/site-packages/torch/_tensor.py:956\u001b[0m, in \u001b[0;36mTensor.__array__\u001b[0;34m(self, dtype)\u001b[0m\n\u001b[1;32m    954\u001b[0m     \u001b[39mreturn\u001b[39;00m handle_torch_function(Tensor\u001b[39m.\u001b[39m__array__, (\u001b[39mself\u001b[39m,), \u001b[39mself\u001b[39m, dtype\u001b[39m=\u001b[39mdtype)\n\u001b[1;32m    955\u001b[0m \u001b[39mif\u001b[39;00m dtype \u001b[39mis\u001b[39;00m \u001b[39mNone\u001b[39;00m:\n\u001b[0;32m--> 956\u001b[0m     \u001b[39mreturn\u001b[39;00m \u001b[39mself\u001b[39;49m\u001b[39m.\u001b[39;49mnumpy()\n\u001b[1;32m    957\u001b[0m \u001b[39melse\u001b[39;00m:\n\u001b[1;32m    958\u001b[0m     \u001b[39mreturn\u001b[39;00m \u001b[39mself\u001b[39m\u001b[39m.\u001b[39mnumpy()\u001b[39m.\u001b[39mastype(dtype, copy\u001b[39m=\u001b[39m\u001b[39mFalse\u001b[39;00m)\n",
      "\u001b[0;31mTypeError\u001b[0m: can't convert cuda:1 device type tensor to numpy. Use Tensor.cpu() to copy the tensor to host memory first."
     ]
    }
   ],
   "source": [
    "\n",
    "for j, batch in enumerate(dataloader_nuscenes):\n",
    "    if j < 5 : continue\n",
    "    _, img, vego, angle, distance, m_lens, i_lens, s_lens, a_lens, d_lens = batch\n",
    "    img, angle, distance, vego = img.to(gpu), angle.to(gpu), distance.to(gpu), vego.to(gpu)\n",
    "    (logits, attns), concepts = model(img, angle, distance, vego)\n",
    "    \n",
    "    angle, distance, vego, logits = angle.to(\"cpu\"), distance.to(\"cpu\"), vego.to(\"cpu\"), logits.detach().cpu().to(\"cpu\")\n",
    "\n",
    "    concepts\n",
    "    atten = attns[0][:,:,0:concepts.shape[1]].detach()\n",
    "    seq_len = atten.shape[2]\n",
    "    alignment_array = get_aligned_attention(atten.squeeze().cpu(), seq_len)\n",
    "    speed_graph_0 = alignment_array.sum(axis=0)[8:-8]\n",
    "    speed_graph_0 = moving_average(speed_graph_0, 10)\n",
    "\n",
    "    atten = attns[1][:,:,0:concepts.shape[1]].detach()\n",
    "    seq_len = atten.shape[2]\n",
    "    alignment_array = get_aligned_attention(atten.squeeze().cpu(), seq_len)\n",
    "    speed_graph_1 = alignment_array.sum(axis=0)[8:-8]\n",
    "    speed_graph_1 = moving_average(speed_graph_1, 10)\n",
    "\n",
    "    atten = attns[2][:,:,0:concepts.shape[1]].detach()\n",
    "    seq_len = atten.shape[2]\n",
    "    alignment_array = get_aligned_attention(atten.squeeze().cpu(), seq_len)\n",
    "    speed_graph_2 = alignment_array.sum(axis=0)[8:-8]\n",
    "    speed_graph_2 = moving_average(speed_graph_2, 10)\n",
    "    \n",
    "    f = []\n",
    "    inter = []\n",
    "    m = (speed_graph_2 + speed_graph_1 + speed_graph_0)/3\n",
    "    ali = 1 + m \n",
    "    print(ali.shape)\n",
    "    concepts = concepts.squeeze()\n",
    "    weighted_concepts = concepts * ali\n",
    "\n",
    "    top5_indices = torch.tensor(concepts).topk(5).indices\n",
    "    \n",
    "    for i, elem0 in enumerate(top5_indices):\n",
    "        inter = []\n",
    "        for elem in top5_indices[max(i-5, 0):min(i+5,len(top5_indices))]:\n",
    "            l = elem.cpu().numpy().tolist()\n",
    "            if 131 in l:\n",
    "                l.remove(131)\n",
    "            inter.extend(l)\n",
    "        count_dict = Counter(inter)\n",
    "        # Get the top 5 most occurring numbers\n",
    "        top_5 = count_dict.most_common(2)\n",
    "        intermediate = []\n",
    "        for a in top_5: \n",
    "            intermediate.append(scenarios[a[0]])\n",
    "        f.append(intermediate)\n",
    "\n",
    "    normalized_weights = atten#np.array(attention_weights) / np.sum(attention_weights)\n",
    "    print(atten.shape)\n",
    "    \n",
    "\n",
    "    fig, ax = plt.subplots(figsize=(10, 6))\n",
    "    plt.plot(speed_graph_0, label=\"1\")\n",
    "    plt.plot(speed_graph_1, label=\"2\")\n",
    "    plt.plot(speed_graph_2, label=\"3\")\n",
    "    plt.plot(m, label=\"mean\")\n",
    "    plt.plot(alignment_array[0:70, :].sum(axis=0), label=\"align\")\n",
    "    plt.legend()\n",
    "    #heatmap = ax.pcolormesh(alignment_array[0:70, :], cmap='hot')\n",
    "    # Add colorbar\n",
    "    #cbar = plt.colorbar(heatmap)\n",
    "\n",
    "    # Add labels and title\n",
    "    ax.set_xlabel('Sequence Position')\n",
    "    ax.set_ylabel('Window')\n",
    "    ax.set_title('Longformer Sliding Chunk Attention')\n",
    "    plt.show()\n",
    "    # Show the plot\n",
    "    #plt.savefig(f\"/home/jessica/personalized_driving_toyota/attention_vis{j}.pdf\")\n",
    "    #plt.close()\n",
    "    break\n",
    "\n",
    "    "
   ]
  },
  {
   "cell_type": "code",
   "execution_count": 3,
   "metadata": {},
   "outputs": [],
   "source": [
    "plt.rcParams.update({'font.size': 26}) "
   ]
  },
  {
   "cell_type": "code",
   "execution_count": null,
   "metadata": {},
   "outputs": [],
   "source": []
  }
 ],
 "metadata": {
  "kernelspec": {
   "display_name": "base",
   "language": "python",
   "name": "base"
  },
  "language_info": {
   "codemirror_mode": {
    "name": "ipython",
    "version": 3
   },
   "file_extension": ".py",
   "mimetype": "text/x-python",
   "name": "python",
   "nbconvert_exporter": "python",
   "pygments_lexer": "ipython3",
   "version": "3.9.13"
  },
  "orig_nbformat": 4
 },
 "nbformat": 4,
 "nbformat_minor": 2
}
