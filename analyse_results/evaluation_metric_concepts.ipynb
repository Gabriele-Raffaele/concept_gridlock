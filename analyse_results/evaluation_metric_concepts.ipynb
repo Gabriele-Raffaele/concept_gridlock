{
 "cells": [
  {
   "cell_type": "code",
   "execution_count": 30,
   "metadata": {},
   "outputs": [
    {
     "name": "stderr",
     "output_type": "stream",
     "text": [
      "[nltk_data] Downloading package wordnet to /home/jessica/nltk_data...\n",
      "[nltk_data]   Package wordnet is already up-to-date!\n",
      "[nltk_data] Downloading package punkt to /home/jessica/nltk_data...\n",
      "[nltk_data]   Package punkt is already up-to-date!\n",
      "[nltk_data] Downloading package omw-1.4 to /home/jessica/nltk_data...\n",
      "[nltk_data] Downloading package averaged_perceptron_tagger to\n",
      "[nltk_data]     /home/jessica/nltk_data...\n",
      "[nltk_data]   Package averaged_perceptron_tagger is already up-to-\n",
      "[nltk_data]       date!\n",
      "[nltk_data] Downloading package stopwords to\n",
      "[nltk_data]     /home/jessica/nltk_data...\n",
      "[nltk_data]   Package stopwords is already up-to-date!\n"
     ]
    },
    {
     "data": {
      "text/plain": [
       "True"
      ]
     },
     "execution_count": 30,
     "metadata": {},
     "output_type": "execute_result"
    }
   ],
   "source": [
    "import pandas as pd \n",
    "import numpy as np \n",
    "import torch \n",
    "from nltk.corpus import wordnet as wn\n",
    "from nltk import word_tokenize, pos_tag\n",
    "from nltk.corpus import stopwords\n",
    "from nltk.wsd import lesk\n",
    "import nltk\n",
    "\n",
    "nltk.download('wordnet')\n",
    "nltk.download('punkt')\n",
    "nltk.download('omw-1.4')\n",
    "nltk.download('averaged_perceptron_tagger')\n",
    "nltk.download('stopwords')\n"
   ]
  },
  {
   "cell_type": "code",
   "execution_count": 39,
   "metadata": {},
   "outputs": [],
   "source": [
    "def calculate_semantic_similarity(text1, text2):\n",
    "    stop_words = set(stopwords.words('english'))\n",
    "    \n",
    "    def get_synsets(text):\n",
    "        tokens = word_tokenize(text)\n",
    "        filtered_tokens = [token.lower() for token in tokens if token.lower() not in stop_words]\n",
    "        tagged_tokens = pos_tag(filtered_tokens)\n",
    "        synsets = [lesk(filtered_tokens, pos) for _, pos in tagged_tokens]\n",
    "        return synsets\n",
    "    \n",
    "    synsets1 = get_synsets(text1)\n",
    "    synsets2 = get_synsets(text2)\n",
    "    print(synsets1, synsets2)\n",
    "    \n",
    "    similarity_scores = []\n",
    "    \n",
    "    for synset1 in synsets1:\n",
    "        if synset1 is None:\n",
    "            continue\n",
    "        for synset2 in synsets2:\n",
    "            if synset2 is None:\n",
    "                continue\n",
    "            similarity = synset1.path_similarity(synset2)\n",
    "            print(similarity, 's')\n",
    "            if similarity is not None:\n",
    "                similarity_scores.append(similarity)\n",
    "    \n",
    "    if similarity_scores:\n",
    "        average_similarity = sum(similarity_scores) / len(similarity_scores)\n",
    "    else:\n",
    "        average_similarity = 0.0\n",
    "    \n",
    "    return average_similarity\n"
   ]
  },
  {
   "cell_type": "code",
   "execution_count": 40,
   "metadata": {},
   "outputs": [
    {
     "name": "stdout",
     "output_type": "stream",
     "text": [
      "[None, None] [None, None]\n",
      "Semantic similarity between 'the human is in the house' and 'the human is in the house': 0.0\n"
     ]
    }
   ],
   "source": [
    "concept1 = \"the human is in the house\"\n",
    "concept2 = \"the human is in the house\"\n",
    "\n",
    "similarity_score = calculate_semantic_similarity(concept1, concept2)\n",
    "print(f\"Semantic similarity between '{concept1}' and '{concept2}': {similarity_score}\")\n"
   ]
  },
  {
   "cell_type": "code",
   "execution_count": null,
   "metadata": {},
   "outputs": [],
   "source": []
  }
 ],
 "metadata": {
  "kernelspec": {
   "display_name": "Python 3",
   "language": "python",
   "name": "python3"
  },
  "language_info": {
   "codemirror_mode": {
    "name": "ipython",
    "version": 3
   },
   "file_extension": ".py",
   "mimetype": "text/x-python",
   "name": "python",
   "nbconvert_exporter": "python",
   "pygments_lexer": "ipython3",
   "version": "3.10.6"
  },
  "orig_nbformat": 4
 },
 "nbformat": 4,
 "nbformat_minor": 2
}
